{
 "cells": [
  {
   "cell_type": "code",
   "execution_count": 1,
   "metadata": {
    "collapsed": true
   },
   "outputs": [],
   "source": [
    "%matplotlib inline\n",
    "\n",
    "import matplotlib\n",
    "import matplotlib.pyplot as plt\n",
    "import numpy as np\n",
    "import igraph as ig\n",
    "import os\n",
    "import pdb\n",
    "import nltk\n",
    "import string\n",
    "import json\n",
    "import random\n",
    "import pickle\n",
    "import pandas as pd\n",
    "import seaborn as sns\n",
    "import scipy\n",
    "\n",
    "from IPython.display import clear_output\n",
    "from os import makedirs\n",
    "from os.path import join, exists\n",
    "from sklearn.metrics.pairwise import cosine_similarity"
   ]
  },
  {
   "cell_type": "code",
   "execution_count": 2,
   "metadata": {
    "collapsed": true
   },
   "outputs": [],
   "source": [
    "import logging\n",
    "logging.basicConfig(format='%(asctime)s : %(levelname)s : %(message)s', level=logging.INFO)\n",
    "logging.root.level = logging.INFO"
   ]
  },
  {
   "cell_type": "code",
   "execution_count": 3,
   "metadata": {
    "collapsed": true
   },
   "outputs": [],
   "source": [
    "INPUT_DIR = join('tmp', 'parsed')\n",
    "OUTPUT_DIR = join('tmp')\n",
    "makedirs(OUTPUT_DIR, exist_ok=True)"
   ]
  },
  {
   "cell_type": "code",
   "execution_count": 4,
   "metadata": {
    "collapsed": true
   },
   "outputs": [],
   "source": [
    "np.random.seed(1234)"
   ]
  },
  {
   "cell_type": "code",
   "execution_count": 5,
   "metadata": {
    "collapsed": true
   },
   "outputs": [],
   "source": [
    "plt.style.use('classic')"
   ]
  },
  {
   "cell_type": "code",
   "execution_count": 6,
   "metadata": {
    "collapsed": true
   },
   "outputs": [],
   "source": [
    "import math\n",
    "\n",
    "def intra_cluster_similarity(vectors):\n",
    "    matx = scipy.sparse.vstack((vectors))\n",
    "    return np.sum(cosine_similarity(matx, matx)) / math.pow(len(vectors), 2)"
   ]
  },
  {
   "cell_type": "code",
   "execution_count": 7,
   "metadata": {
    "collapsed": true
   },
   "outputs": [],
   "source": [
    "def intra_cluster_overall_similarity(vectors):\n",
    "    similarity_topics = {}\n",
    "    for k, values in vectors.items():\n",
    "        if len(values) > 0:\n",
    "            similarity_topics[k] = intra_cluster_similarity(values)\n",
    "\n",
    "    return sum(similarity_topics.values()) / len(similarity_topics.values())"
   ]
  },
  {
   "cell_type": "code",
   "execution_count": 8,
   "metadata": {
    "collapsed": true
   },
   "outputs": [],
   "source": [
    "def intra_cluster_weighted_similarity(vectors):\n",
    "    weighted = 0.\n",
    "    n = 0.\n",
    "    for k, values in vectors.items():\n",
    "        n += len(values)\n",
    "            \n",
    "    for k, values in vectors.items():\n",
    "        if len(values) > 0:\n",
    "            weighted += len(values) * intra_cluster_similarity(values)\n",
    "\n",
    "    return weighted / n"
   ]
  },
  {
   "cell_type": "code",
   "execution_count": 9,
   "metadata": {
    "collapsed": true
   },
   "outputs": [],
   "source": [
    "def inter_cluster_overall_similarity2(vectors):\n",
    "    similarity_topics = {}\n",
    "    for k, values in vectors.items():\n",
    "        if len(values) > 0:\n",
    "            matx = scipy.sparse.vstack((values))\n",
    "            centroid1 = matx.sum(axis=0) / len(values)\n",
    "            similarities = []\n",
    "            for k2, values2 in vectors.items():\n",
    "                if len(values2) > 0 & k != k2:\n",
    "                    matx2 = scipy.sparse.vstack((values2))\n",
    "                    centroid2 = matx2.sum(axis=0) / len(values2)\n",
    "                    similarities.append(cosine_similarity(centroid1, centroid2))\n",
    "            similarity_topics[k] = np.sum(similarities) / len(similarities)\n",
    "            \n",
    "    return sum(similarity_topics.values()) / len(similarity_topics.values())"
   ]
  },
  {
   "cell_type": "code",
   "execution_count": 10,
   "metadata": {
    "collapsed": true
   },
   "outputs": [],
   "source": [
    "def cluster_centroids(vectors):\n",
    "    centroids = {}\n",
    "    for k, values in vectors.items():\n",
    "        matx = scipy.sparse.vstack((values))\n",
    "        centroids[k] = scipy.sparse.csr_matrix(matx.sum(axis=0) / len(values))\n",
    "    return centroids"
   ]
  },
  {
   "cell_type": "code",
   "execution_count": 11,
   "metadata": {
    "collapsed": false
   },
   "outputs": [],
   "source": [
    "def inter_cluster_overall_similarity(vectors):\n",
    "    topic_centroids = cluster_centroids(vectors)\n",
    "    matx_c = scipy.sparse.vstack((topic_centroids.values()))\n",
    "    matx_c_c = cosine_similarity(matx_c)\n",
    "    matx_c_c_s = sum(matx_c_c) / len(matx_c_c)\n",
    "\n",
    "    return sum(matx_c_c_s) / len(matx_c_c_s)"
   ]
  },
  {
   "cell_type": "code",
   "execution_count": 12,
   "metadata": {
    "collapsed": true
   },
   "outputs": [],
   "source": [
    "def purity_score(labels_true):\n",
    "    nh = np.bincount(labels_true)\n",
    "\n",
    "    return nh[np.argmax(nh)] / sum(nh)"
   ]
  },
  {
   "cell_type": "code",
   "execution_count": 13,
   "metadata": {
    "collapsed": true
   },
   "outputs": [],
   "source": [
    "def entropy_score(labels_true):\n",
    "    entropy = 0.\n",
    "    cats = np.unique(labels_true)\n",
    "    ci = len(cats)\n",
    "    if ci == 1: # math.log(1,2) == 0.0, causes div by zero when normalizing\n",
    "        ci += 1\n",
    "    nh = np.bincount(labels_true)\n",
    "    n = len(labels_true)\n",
    "    \n",
    "    for j in cats:\n",
    "        p_category = nh[j] / n\n",
    "        entropy += p_category * math.log(p_category, 2)\n",
    "    \n",
    "    return -((1 / math.log(ci, 2)) * entropy)"
   ]
  },
  {
   "cell_type": "code",
   "execution_count": 14,
   "metadata": {
    "collapsed": false
   },
   "outputs": [],
   "source": [
    "def entropy_weighted_score(labels_size, labels_true):\n",
    "    entropy = 0.\n",
    "    n = 0.\n",
    "    for i in (np.arange(labels_size) + 1):\n",
    "        try:\n",
    "            n += len(labels_true[i])\n",
    "        except:\n",
    "            n += 0.\n",
    "        \n",
    "    for i in (np.arange(labels_size) + 1):\n",
    "        try:\n",
    "            labels_true_topic = labels_true[i]\n",
    "            ni = len(labels_true_topic)\n",
    "            entropy += (ni / n) * entropy_score(labels_true_topic)\n",
    "        except:\n",
    "            entropy += 0.\n",
    "    return entropy"
   ]
  },
  {
   "cell_type": "code",
   "execution_count": 15,
   "metadata": {
    "collapsed": true
   },
   "outputs": [],
   "source": [
    "def purity_weighted_score(labels_size, labels_true):\n",
    "    purity = 0.\n",
    "    n = 0.\n",
    "    for i in (np.arange(labels_size) + 1):\n",
    "        try:\n",
    "            n += len(labels_true[i])\n",
    "        except:\n",
    "            n += 0.\n",
    "        \n",
    "    for i in (np.arange(labels_size) + 1):\n",
    "        try:\n",
    "            labels_true_topic = labels_true[i]\n",
    "            ni = len(labels_true_topic)\n",
    "            purity += (ni / n) * purity_score(labels_true_topic)\n",
    "        except:\n",
    "            purity += 0.\n",
    "    return purity"
   ]
  },
  {
   "cell_type": "code",
   "execution_count": 16,
   "metadata": {
    "collapsed": true
   },
   "outputs": [],
   "source": [
    "from nltk.stem.porter import PorterStemmer\n",
    "\n",
    "def tokenize(text):\n",
    "    tokens = nltk.word_tokenize(text)\n",
    "    stems = []\n",
    "    for item in tokens:\n",
    "        stems.append(PorterStemmer().stem(item))\n",
    "    return stems"
   ]
  },
  {
   "cell_type": "code",
   "execution_count": 17,
   "metadata": {
    "collapsed": true
   },
   "outputs": [],
   "source": [
    "def text_preprocess(text):\n",
    "    return [token for token in simple_preprocess(text) if token not in STOPWORDS]"
   ]
  },
  {
   "cell_type": "code",
   "execution_count": 18,
   "metadata": {
    "collapsed": true
   },
   "outputs": [],
   "source": [
    "import re\n",
    "\n",
    "#compile regular expressions that match repeated characters and emoji unicode\n",
    "emoji = re.compile(u'[^\\x00-\\x7F\\x80-\\xFF\\u0100-\\u017F\\u0180-\\u024F\\u1E00-\\u1EFF]',re.UNICODE)\n",
    "multiple = re.compile(r\"(.)\\1{1,}\", re.DOTALL)\n",
    "\n",
    "def text_format(text):\n",
    "\n",
    "    #strip emoji\n",
    "    stripped = emoji.sub('',text)\n",
    "\n",
    "    #strip URLs\n",
    "    stripped = re.sub(r'http[s]?[^\\s]+','', stripped)\n",
    "\n",
    "    #strip html '&amp;', '&lt;', etc.  \n",
    "    stripped = re.sub(r'[\\&].*;','',stripped)\n",
    "\n",
    "    #strip punctuation\n",
    "    stripped = re.sub(r'[#|\\!|\\-|\\+|:|//]', \" \", stripped)\n",
    "\n",
    "    #strip whitespace down to one.\n",
    "    stripped = re.sub('[\\s]+' ,' ', stripped).strip()\n",
    "\n",
    "    #strip multiple occurrences of letters\n",
    "    stripped = multiple.sub(r\"\\1\\1\", stripped)\n",
    "\n",
    "    #strip all non-latin characters\n",
    "    stripped = re.sub('[^a-zA-Z0-9|\\']', \" \", stripped).strip()\n",
    "\n",
    "    return stripped"
   ]
  },
  {
   "cell_type": "code",
   "execution_count": 24,
   "metadata": {
    "collapsed": false
   },
   "outputs": [
    {
     "name": "stdout",
     "output_type": "stream",
     "text": [
      "9095\n"
     ]
    }
   ],
   "source": [
    "from gensim import matutils\n",
    "from gensim.utils import simple_preprocess\n",
    "from gensim.parsing.preprocessing import STOPWORDS\n",
    "from gensim.corpora import Dictionary\n",
    "from nltk.tag import pos_tag\n",
    "\n",
    "print(\"Building vocabulary...\")\n",
    "\n",
    "docs = {}\n",
    "doc_tokens = {}\n",
    "count = 0\n",
    "\n",
    "for fname in os.listdir(INPUT_DIR):\n",
    "    if fname != '.DS_Store':\n",
    "        with open(join(INPUT_DIR, fname), 'r') as f:\n",
    "            doc = json.load(f)\n",
    "            docs[doc['id']] = doc\n",
    "            text = doc['body']\n",
    "            table = str.maketrans({key: None for key in string.punctuation})\n",
    "            text = text.lower().translate(table)\n",
    "            text = text_format(text)\n",
    "            tagged = pos_tag(text.split()) #use NLTK's part of speech tagger\n",
    "            words = [word for word,pos in tagged if pos in ['NN', 'NNS', 'NNP', 'NNPS']]\n",
    "            docs[doc['id']][\"text\"] = \" \".join(words)\n",
    "            clear_output(wait=True)\n",
    "            count += 1\n",
    "            print(count)"
   ]
  },
  {
   "cell_type": "code",
   "execution_count": 21,
   "metadata": {
    "collapsed": false
   },
   "outputs": [
    {
     "data": {
      "text/plain": [
       "dict_keys(['keyword', 'apiUrl', 'authors', 'text', 'sectionId', 'id', 'webPublicationDate', 'body', 'guardianId', 'webTitle', 'webUrl'])"
      ]
     },
     "execution_count": 21,
     "metadata": {},
     "output_type": "execute_result"
    }
   ],
   "source": [
    "docs = pickle.load(open('tmp/docs_300816.pickle', 'rb'))\n",
    "\n",
    "docs['2016-05-20-28'].keys()"
   ]
  },
  {
   "cell_type": "code",
   "execution_count": 22,
   "metadata": {
    "collapsed": false
   },
   "outputs": [
    {
     "data": {
      "text/plain": [
       "84"
      ]
     },
     "execution_count": 22,
     "metadata": {},
     "output_type": "execute_result"
    }
   ],
   "source": [
    "section_id = {}\n",
    "count = 0\n",
    "for k, v in docs.items():\n",
    "    try:\n",
    "        section_id[v['sectionId']]\n",
    "    except:\n",
    "        count += 1\n",
    "        section_id[v['sectionId']] = count\n",
    "        \n",
    "len(section_id.values())"
   ]
  },
  {
   "cell_type": "code",
   "execution_count": 23,
   "metadata": {
    "collapsed": true
   },
   "outputs": [],
   "source": [
    "sorted_docs = sorted(docs.items(), key=lambda x: x[0], reverse=True)"
   ]
  },
  {
   "cell_type": "code",
   "execution_count": 24,
   "metadata": {
    "collapsed": false,
    "scrolled": true
   },
   "outputs": [
    {
     "name": "stdout",
     "output_type": "stream",
     "text": [
      "9095\n"
     ]
    }
   ],
   "source": [
    "token_keys = [x[0] for x in sorted_docs]\n",
    "token_values = [x[1][\"text\"] for x in sorted_docs]\n",
    "print(len(token_values))"
   ]
  },
  {
   "cell_type": "code",
   "execution_count": 22,
   "metadata": {
    "collapsed": false
   },
   "outputs": [
    {
     "data": {
      "text/plain": [
       "'2016-05-30-99'"
      ]
     },
     "execution_count": 22,
     "metadata": {},
     "output_type": "execute_result"
    }
   ],
   "source": [
    "token_keys[0]"
   ]
  },
  {
   "cell_type": "markdown",
   "metadata": {},
   "source": [
    "# TF-IDF Vectorizer"
   ]
  },
  {
   "cell_type": "code",
   "execution_count": 25,
   "metadata": {
    "collapsed": false
   },
   "outputs": [
    {
     "name": "stdout",
     "output_type": "stream",
     "text": [
      "Processing TF-IDF\n",
      "(9095, 69281)\n"
     ]
    }
   ],
   "source": [
    "from sklearn.feature_extraction.text import TfidfVectorizer\n",
    "\n",
    "print(\"Processing TF-IDF\")\n",
    "\n",
    "vectorizer_tfidf = TfidfVectorizer(tokenizer=tokenize, norm='l2', stop_words='english')\n",
    "X_tfidf = vectorizer_tfidf.fit_transform(token_values)\n",
    "\n",
    "print(X_tfidf.shape)"
   ]
  },
  {
   "cell_type": "code",
   "execution_count": 53,
   "metadata": {
    "collapsed": false
   },
   "outputs": [],
   "source": [
    "vocab = vectorizer_tfidf.get_feature_names()"
   ]
  },
  {
   "cell_type": "code",
   "execution_count": 54,
   "metadata": {
    "collapsed": true
   },
   "outputs": [],
   "source": [
    "pickle.dump(vocab, open('tmp/vocab.pickle', 'wb'))\n",
    "pickle.dump(X_tfidf, open('tmp/X_tfidf.pickle', 'wb'))"
   ]
  },
  {
   "cell_type": "code",
   "execution_count": 22,
   "metadata": {
    "collapsed": false
   },
   "outputs": [
    {
     "name": "stdout",
     "output_type": "stream",
     "text": [
      "(9095, 69281)\n"
     ]
    }
   ],
   "source": [
    "X_tfidf = pickle.load(open('tmp/X_tfidf.pickle', 'rb'))\n",
    "\n",
    "print(X_tfidf.shape)"
   ]
  },
  {
   "cell_type": "code",
   "execution_count": 23,
   "metadata": {
    "collapsed": false
   },
   "outputs": [
    {
     "data": {
      "text/plain": [
       "<1x69281 sparse matrix of type '<class 'numpy.float64'>'\n",
       "\twith 141 stored elements in Compressed Sparse Row format>"
      ]
     },
     "execution_count": 23,
     "metadata": {},
     "output_type": "execute_result"
    }
   ],
   "source": [
    "for i, key in enumerate(token_keys):\n",
    "    docs[key]['tfidf'] = X_tfidf[i]\n",
    "\n",
    "docs['2016-05-20-28']['tfidf']"
   ]
  },
  {
   "cell_type": "markdown",
   "metadata": {},
   "source": [
    "# Add Section ID to docs"
   ]
  },
  {
   "cell_type": "code",
   "execution_count": 24,
   "metadata": {
    "collapsed": false
   },
   "outputs": [],
   "source": [
    "for k, v in docs.items():\n",
    "    docs[k]['section_id'] = section_id[v['sectionId']]"
   ]
  },
  {
   "cell_type": "markdown",
   "metadata": {},
   "source": [
    "# Add Keyword"
   ]
  },
  {
   "cell_type": "code",
   "execution_count": 25,
   "metadata": {
    "collapsed": false
   },
   "outputs": [
    {
     "data": {
      "text/plain": [
       "['MLS',\n",
       " 'New York Red Bulls',\n",
       " 'New York City FC',\n",
       " 'US sports',\n",
       " 'Football',\n",
       " 'Sport']"
      ]
     },
     "execution_count": 25,
     "metadata": {},
     "output_type": "execute_result"
    }
   ],
   "source": [
    "for k, v in docs.items():\n",
    "    docs[k]['tags'] = []\n",
    "    for keyword in v['keyword']:\n",
    "        docs[k]['tags'].append(keyword['webTitle'])\n",
    "\n",
    "docs['2016-05-20-28']['tags']"
   ]
  },
  {
   "cell_type": "code",
   "execution_count": 26,
   "metadata": {
    "collapsed": true
   },
   "outputs": [],
   "source": [
    "def docs_to_tag_data(docs):\n",
    "    d = []\n",
    "    for key, vs in docs.items():\n",
    "        h = {}\n",
    "        for v in vs:\n",
    "            h[v] = True\n",
    "        d.append(h)\n",
    "\n",
    "    return(d)"
   ]
  },
  {
   "cell_type": "code",
   "execution_count": 27,
   "metadata": {
    "collapsed": true
   },
   "outputs": [],
   "source": [
    "tag_values = docs_to_tag_data(docs)"
   ]
  },
  {
   "cell_type": "markdown",
   "metadata": {},
   "source": [
    "# Save & Load Docs"
   ]
  },
  {
   "cell_type": "code",
   "execution_count": 66,
   "metadata": {
    "collapsed": true
   },
   "outputs": [],
   "source": [
    "pickle.dump(docs0, open('tmp/docs_300816.pickle', 'wb'))"
   ]
  },
  {
   "cell_type": "code",
   "execution_count": 22,
   "metadata": {
    "collapsed": false
   },
   "outputs": [
    {
     "data": {
      "text/plain": [
       "dict_keys(['top_tfidf', 'section_id', 'authors', 'mod_topic', 'keyword', 'body', 'apiUrl', 'guardianId', 'webUrl', 'webPublicationDate', 'text', 'sectionId', 'tags', 'tfidf', 'webTitle', 'id'])"
      ]
     },
     "execution_count": 22,
     "metadata": {},
     "output_type": "execute_result"
    }
   ],
   "source": [
    "docs = pickle.load(open('tmp/docs.pickle', 'rb'))\n",
    "\n",
    "docs['2016-05-20-28'].keys()"
   ]
  },
  {
   "cell_type": "markdown",
   "metadata": {},
   "source": [
    "# Apply Modularity"
   ]
  },
  {
   "cell_type": "code",
   "execution_count": 22,
   "metadata": {
    "collapsed": false
   },
   "outputs": [],
   "source": [
    "sub_g = ig.Graph.Read_GML('tmp/sg_02.gml')"
   ]
  },
  {
   "cell_type": "code",
   "execution_count": 23,
   "metadata": {
    "collapsed": true
   },
   "outputs": [],
   "source": [
    "def network_properties(g, community):\n",
    "    print(\"Nodes {}\".format(g.vcount()))\n",
    "    print(\"Edges {}\".format(g.ecount()))\n",
    "    print(\"Diameter {}\".format(g.diameter()))\n",
    "    print(\"LCC {}\".format(g.clusters().giant().vcount()))\n",
    "    print(\"APL {}\".format(g.average_path_length()))\n",
    "    print(\"AD {}\".format(sum(g.degree())/len(g.degree())))\n",
    "    print(\"Giant Size {}\".format(len(community.giant().vs())))\n",
    "    print(\"NO of Communities {}\".format(max(community.membership) + 1))\n",
    "    print(\"Modularity {}\".format(g.modularity(community.membership)))"
   ]
  },
  {
   "cell_type": "code",
   "execution_count": 24,
   "metadata": {
    "collapsed": true
   },
   "outputs": [],
   "source": [
    "np.random.seed(1221)"
   ]
  },
  {
   "cell_type": "code",
   "execution_count": 25,
   "metadata": {
    "collapsed": false
   },
   "outputs": [
    {
     "name": "stdout",
     "output_type": "stream",
     "text": [
      "586\n",
      "166\n",
      "140\n",
      "139\n",
      "Nodes 8213\n",
      "Edges 132243\n",
      "LCC 7950\n",
      "NO of Communities 139\n",
      "Modularity 0.7987487477056004\n"
     ]
    }
   ],
   "source": [
    "sg = sub_g.es.select(weight_ge=0.2).subgraph()\n",
    "communities = sg.community_multilevel(weights='weight',return_levels=True)\n",
    "for com in communities:\n",
    "    print(max(com.membership) + 1)\n",
    "community = communities[-1]\n",
    "print(\"Nodes {}\".format(sg.vcount()))\n",
    "print(\"Edges {}\".format(sg.ecount()))\n",
    "print(\"LCC {}\".format(sg.clusters().giant().vcount()))\n",
    "print(\"NO of Communities {}\".format(max(community.membership) + 1))\n",
    "print(\"Modularity {}\".format(sg.modularity(community.membership)))\n",
    "# community = sg.community_infomap(edge_weights='weight')\n",
    "# community = sg.community_leading_eigenvector(weights='weight')"
   ]
  },
  {
   "cell_type": "markdown",
   "metadata": {},
   "source": [
    "# Reduced Data"
   ]
  },
  {
   "cell_type": "code",
   "execution_count": 26,
   "metadata": {
    "collapsed": false
   },
   "outputs": [],
   "source": [
    "reduced_docs = {}\n",
    "for v in sg.vs():\n",
    "    reduced_docs[v['name']] = docs[v['name']]"
   ]
  },
  {
   "cell_type": "code",
   "execution_count": 27,
   "metadata": {
    "collapsed": false
   },
   "outputs": [],
   "source": [
    "sorted_reduced_docs = sorted(reduced_docs.items(), key=lambda x: x[0], reverse=True)"
   ]
  },
  {
   "cell_type": "code",
   "execution_count": 32,
   "metadata": {
    "collapsed": true
   },
   "outputs": [],
   "source": [
    "pickle.dump(sorted_reduced_docs, open('tmp/sorted_reduced_docs_km.pickle', 'wb'))"
   ]
  },
  {
   "cell_type": "code",
   "execution_count": 28,
   "metadata": {
    "collapsed": false,
    "scrolled": true
   },
   "outputs": [],
   "source": [
    "reduced_tfidf_values = [x[1]['tfidf'] for x in sorted_reduced_docs]"
   ]
  },
  {
   "cell_type": "code",
   "execution_count": 29,
   "metadata": {
    "collapsed": false
   },
   "outputs": [
    {
     "data": {
      "text/plain": [
       "<8213x69281 sparse matrix of type '<class 'numpy.float64'>'\n",
       "\twith 1089809 stored elements in Compressed Sparse Row format>"
      ]
     },
     "execution_count": 29,
     "metadata": {},
     "output_type": "execute_result"
    }
   ],
   "source": [
    "reduced_X_tfidf = scipy.sparse.vstack((reduced_tfidf_values))\n",
    "reduced_X_tfidf"
   ]
  },
  {
   "cell_type": "code",
   "execution_count": 30,
   "metadata": {
    "collapsed": false
   },
   "outputs": [
    {
     "name": "stdout",
     "output_type": "stream",
     "text": [
      "8213\n"
     ]
    }
   ],
   "source": [
    "reduced_token_keys = [x[0] for x in sorted_reduced_docs]\n",
    "reduced_token_values = [x[1][\"text\"] for x in sorted_reduced_docs]\n",
    "print(len(reduced_token_values))"
   ]
  },
  {
   "cell_type": "code",
   "execution_count": 31,
   "metadata": {
    "collapsed": false
   },
   "outputs": [
    {
     "data": {
      "text/plain": [
       "'2016-05-30-99'"
      ]
     },
     "execution_count": 31,
     "metadata": {},
     "output_type": "execute_result"
    }
   ],
   "source": [
    "reduced_token_keys[0]"
   ]
  },
  {
   "cell_type": "markdown",
   "metadata": {},
   "source": [
    "# KMeans"
   ]
  },
  {
   "cell_type": "code",
   "execution_count": 53,
   "metadata": {
    "collapsed": true
   },
   "outputs": [],
   "source": [
    "from sklearn.cluster import KMeans"
   ]
  },
  {
   "cell_type": "code",
   "execution_count": 31,
   "metadata": {
    "collapsed": true
   },
   "outputs": [],
   "source": [
    "num_clusters = 100"
   ]
  },
  {
   "cell_type": "code",
   "execution_count": 54,
   "metadata": {
    "collapsed": false
   },
   "outputs": [
    {
     "name": "stdout",
     "output_type": "stream",
     "text": [
      "CPU times: user 5min 6s, sys: 12.9 s, total: 5min 19s\n",
      "Wall time: 5min 21s\n"
     ]
    },
    {
     "data": {
      "text/plain": [
       "KMeans(copy_x=True, init='k-means++', max_iter=300, n_clusters=100, n_init=10,\n",
       "    n_jobs=1, precompute_distances='auto', random_state=5000, tol=0.0001,\n",
       "    verbose=0)"
      ]
     },
     "execution_count": 54,
     "metadata": {},
     "output_type": "execute_result"
    }
   ],
   "source": [
    "km = KMeans(n_clusters=num_clusters, random_state=5000)\n",
    "\n",
    "%time km.fit(reduced_X_tfidf)"
   ]
  },
  {
   "cell_type": "code",
   "execution_count": 55,
   "metadata": {
    "collapsed": false
   },
   "outputs": [],
   "source": [
    "pickle.dump(km, open('tmp/km_' + str(num_clusters) + '1.pickle', 'wb'))"
   ]
  },
  {
   "cell_type": "code",
   "execution_count": 32,
   "metadata": {
    "collapsed": false
   },
   "outputs": [],
   "source": [
    "km = pickle.load(open('tmp/km_' + str(num_clusters) + '1.pickle', 'rb'))"
   ]
  },
  {
   "cell_type": "code",
   "execution_count": 33,
   "metadata": {
    "collapsed": false
   },
   "outputs": [],
   "source": [
    "clusters = km.labels_.tolist()"
   ]
  },
  {
   "cell_type": "code",
   "execution_count": 34,
   "metadata": {
    "collapsed": false
   },
   "outputs": [
    {
     "name": "stdout",
     "output_type": "stream",
     "text": [
      "0.9998782418117619\r\n"
     ]
    }
   ],
   "source": [
    "for i, cluster in enumerate(clusters):\n",
    "    print('{0}\\r'.format(i/len(clusters)))\n",
    "    clear_output(wait=True)\n",
    "    reduced_docs[reduced_token_keys[i]]['km'] = cluster"
   ]
  },
  {
   "cell_type": "code",
   "execution_count": 38,
   "metadata": {
    "collapsed": false
   },
   "outputs": [
    {
     "data": {
      "text/plain": [
       "84"
      ]
     },
     "execution_count": 38,
     "metadata": {},
     "output_type": "execute_result"
    }
   ],
   "source": [
    "reduced_docs['2016-05-01-1']['km']"
   ]
  },
  {
   "cell_type": "code",
   "execution_count": 35,
   "metadata": {
    "collapsed": false
   },
   "outputs": [],
   "source": [
    "# for k, v in reduced_docs.items():\n",
    "#     del reduced_docs[k]['section_id']\n",
    "    \n",
    "for k, v in reduced_docs.items():\n",
    "    reduced_docs[k]['section_id'] = section_id[v['sectionId']]"
   ]
  },
  {
   "cell_type": "code",
   "execution_count": 36,
   "metadata": {
    "collapsed": false
   },
   "outputs": [],
   "source": [
    "def km_to_topics(km_items):\n",
    "    topics = {}\n",
    "\n",
    "    for item in km_items:\n",
    "        topic_no = item[1]\n",
    "        try:\n",
    "            topics[topic_no]\n",
    "        except:\n",
    "            topics[topic_no] = []\n",
    "        topics[topic_no].append(item[0])\n",
    "\n",
    "    km_topics = {}\n",
    "    count = 1\n",
    "    for key, value in sorted(topics.items(), key=lambda x: len(x[1]), reverse=True):\n",
    "        km_topics[count] = value\n",
    "        count += 1\n",
    "\n",
    "    return km_topics"
   ]
  },
  {
   "cell_type": "code",
   "execution_count": 37,
   "metadata": {
    "collapsed": false
   },
   "outputs": [],
   "source": [
    "km_items = []\n",
    "for item in reduced_docs.items():\n",
    "    km_items.append((item[0], item[1]['km']))"
   ]
  },
  {
   "cell_type": "code",
   "execution_count": 38,
   "metadata": {
    "collapsed": false
   },
   "outputs": [
    {
     "data": {
      "text/plain": [
       "'2016-05-20-291'"
      ]
     },
     "execution_count": 38,
     "metadata": {},
     "output_type": "execute_result"
    }
   ],
   "source": [
    "km_items[0][0]"
   ]
  },
  {
   "cell_type": "code",
   "execution_count": 39,
   "metadata": {
    "collapsed": false
   },
   "outputs": [],
   "source": [
    "km_topics = km_to_topics(km_items)"
   ]
  },
  {
   "cell_type": "code",
   "execution_count": 40,
   "metadata": {
    "collapsed": false,
    "scrolled": true
   },
   "outputs": [
    {
     "data": {
      "image/png": "[encoded data removed]",
      "text/plain": [
       "<matplotlib.figure.Figure at 0x10beb0470>"
      ]
     },
     "metadata": {},
     "output_type": "display_data"
    }
   ],
   "source": [
    "x_data = []\n",
    "y_data = []\n",
    "for key, value in sorted(km_topics.items(), key=lambda x: len(x[1]), reverse=True):\n",
    "    if key <= 30:\n",
    "        x_data.append(key)\n",
    "        y_data.append(len(value))\n",
    "\n",
    "ind = np.arange(0, len(y_data) * 2, 2)\n",
    "fig = plt.figure()\n",
    "plt.bar(ind, y_data)\n",
    "plt.xticks(ind, x_data, rotation=90)\n",
    "plt.title(\"Topic Document Distribution\")\n",
    "plt.xlabel(\"Topic\")\n",
    "plt.ylabel(\"Frequency\")\n",
    "plt.tight_layout()\n",
    "fig.savefig('tmp/size_chart_km.png')\n",
    "plt.show()"
   ]
  },
  {
   "cell_type": "code",
   "execution_count": 41,
   "metadata": {
    "collapsed": false
   },
   "outputs": [
    {
     "data": {
      "text/plain": [
       "173.16666666666666"
      ]
     },
     "execution_count": 41,
     "metadata": {},
     "output_type": "execute_result"
    }
   ],
   "source": [
    "np.average(y_data)"
   ]
  },
  {
   "cell_type": "code",
   "execution_count": 42,
   "metadata": {
    "collapsed": true
   },
   "outputs": [],
   "source": [
    "import scipy.stats as stats\n",
    "\n",
    "def topics_to_prob_dist(topics):\n",
    "    x_data = []\n",
    "    y_data = []\n",
    "    for key, value in topics.items():\n",
    "        x_data.append(key)\n",
    "        y_data.append(len(value))\n",
    "\n",
    "    df = pd.DataFrame(y_data)\n",
    "    # df.hist(weights=np.ones_like(df[df.columns[0]]*100.)/len(df))\n",
    "\n",
    "    fig = plt.figure()\n",
    "    plt.hist(df, log=True, weights=np.ones_like(df[df.columns[0]]*100.)/len(df))\n",
    "    plt.tight_layout()\n",
    "    plt.title(\"Probability Distribution of Topic Sizes - K-means\")\n",
    "    plt.xlabel(\"Topic Size\")\n",
    "    plt.ylabel(\"Probability\")\n",
    "    fig.savefig('tmp/prob_chart_km.png')"
   ]
  },
  {
   "cell_type": "code",
   "execution_count": 43,
   "metadata": {
    "collapsed": false
   },
   "outputs": [
    {
     "data": {
      "image/png": "[encoded data removed]",
      "text/plain": [
       "<matplotlib.figure.Figure at 0x104c5d278>"
      ]
     },
     "metadata": {},
     "output_type": "display_data"
    }
   ],
   "source": [
    "topics_to_prob_dist(km_topics)"
   ]
  },
  {
   "cell_type": "code",
   "execution_count": 44,
   "metadata": {
    "collapsed": false
   },
   "outputs": [],
   "source": [
    "km_tfidf_topics = {}\n",
    "\n",
    "for k, vs in km_topics.items():\n",
    "    km_tfidf_topics[k] = []\n",
    "    for v in vs:\n",
    "        km_tfidf_topics[k].append(docs[v]['tfidf'])"
   ]
  },
  {
   "cell_type": "code",
   "execution_count": 45,
   "metadata": {
    "collapsed": false
   },
   "outputs": [],
   "source": [
    "km_labels_true = {}\n",
    "\n",
    "for k, vs in km_topics.items():\n",
    "    km_labels_true[k] = []\n",
    "    for v in vs:\n",
    "        km_labels_true[k].append(docs[v]['section_id'])"
   ]
  },
  {
   "cell_type": "code",
   "execution_count": 46,
   "metadata": {
    "collapsed": false,
    "scrolled": true
   },
   "outputs": [
    {
     "name": "stdout",
     "output_type": "stream",
     "text": [
      "Overall Similarity 0.216\n",
      "Inter Cluster 0.131\n"
     ]
    }
   ],
   "source": [
    "print(\"Overall Similarity {0:.3f}\".format(intra_cluster_overall_similarity(km_tfidf_topics)))\n",
    "print(\"Inter Cluster {0:.3f}\".format(inter_cluster_overall_similarity(km_tfidf_topics)))"
   ]
  },
  {
   "cell_type": "code",
   "execution_count": 160,
   "metadata": {
    "collapsed": false,
    "scrolled": true
   },
   "outputs": [
    {
     "name": "stdout",
     "output_type": "stream",
     "text": [
      "Intra\n",
      "0.110,0.151,0.158,0.156,0.160,0.170,0.181,0.184,0.186,0.189,0.196,0.201,0.211,0.228,\n",
      "Inter\n",
      "0.315,0.231,0.202,0.189,0.184,0.171,0.159,0.155,0.152,0.147,0.140,0.136,0.130,0.122,"
     ]
    }
   ],
   "source": [
    "print(\"Intra\")\n",
    "for i in np.arange(10,141,10):\n",
    "    print(\"{0:.3f}\".format(intra_cluster_overall_similarity({k: v for k, v in km_tfidf_topics.items() if k <= i})), end=\",\")\n",
    "\n",
    "print(\"\\nInter\")\n",
    "for i in np.arange(10,141,10):\n",
    "    print(\"{0:.3f}\".format(inter_cluster_overall_similarity({k: v for k, v in km_tfidf_topics.items() if k <= i})), end=\",\")"
   ]
  },
  {
   "cell_type": "code",
   "execution_count": 139,
   "metadata": {
    "collapsed": false
   },
   "outputs": [
    {
     "data": {
      "text/plain": [
       "(101, 101)"
      ]
     },
     "execution_count": 139,
     "metadata": {},
     "output_type": "execute_result"
    }
   ],
   "source": [
    "sub_topics = {k: v for k, v in km_tfidf_topics.items() if k <= 101}\n",
    "topic_centroids = cluster_centroids(sub_topics)\n",
    "matx_c = scipy.sparse.vstack((topic_centroids.values()))\n",
    "matx_c_c = cosine_similarity(matx_c)\n",
    "matx_c_c.shape"
   ]
  },
  {
   "cell_type": "code",
   "execution_count": 142,
   "metadata": {
    "collapsed": false
   },
   "outputs": [
    {
     "data": {
      "text/plain": [
       "<matplotlib.text.Text at 0x1152d14a8>"
      ]
     },
     "execution_count": 142,
     "metadata": {},
     "output_type": "execute_result"
    },
    {
     "data": {
      "image/png": "[encoded data removed]",
      "text/plain": [
       "<matplotlib.figure.Figure at 0x1154087f0>"
      ]
     },
     "metadata": {},
     "output_type": "display_data"
    }
   ],
   "source": [
    "import seaborn as sns\n",
    "\n",
    "fig, ax = plt.subplots(figsize=(20, 20))\n",
    "sns_plt = sns.heatmap(matx_c_c, cmap=plt.cm.gist_heat_r)\n",
    "sns_plt.set(xticklabels=np.arange(1,101), yticklabels=(-np.sort(-np.arange(1,101))))\n",
    "# sns_plt.invert_yaxis()\n",
    "plt.title(\"K-means\")\n",
    "plt.xlabel(\"Topics\")\n",
    "plt.ylabel(\"Topics\")"
   ]
  },
  {
   "cell_type": "code",
   "execution_count": null,
   "metadata": {
    "collapsed": true
   },
   "outputs": [],
   "source": []
  }
 ],
 "metadata": {
  "kernelspec": {
   "display_name": "Python 3",
   "language": "python",
   "name": "python3"
  },
  "language_info": {
   "codemirror_mode": {
    "name": "ipython",
    "version": 3
   },
   "file_extension": ".py",
   "mimetype": "text/x-python",
   "name": "python",
   "nbconvert_exporter": "python",
   "pygments_lexer": "ipython3",
   "version": "3.5.0"
  }
 },
 "nbformat": 4,
 "nbformat_minor": 0
}
