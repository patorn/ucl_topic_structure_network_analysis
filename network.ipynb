{
 "cells": [
  {
   "cell_type": "code",
   "execution_count": 189,
   "metadata": {
    "collapsed": true
   },
   "outputs": [],
   "source": [
    "%matplotlib inline\n",
    "\n",
    "import matplotlib\n",
    "import matplotlib.pyplot as plt\n",
    "import numpy as np\n",
    "import igraph as ig\n",
    "import lda\n",
    "import os\n",
    "import pdb\n",
    "import nltk\n",
    "import string\n",
    "import json\n",
    "import random\n",
    "import pickle\n",
    "import pandas as pd\n",
    "\n",
    "from IPython.display import clear_output\n",
    "from os import makedirs\n",
    "from os.path import join, exists"
   ]
  },
  {
   "cell_type": "code",
   "execution_count": 190,
   "metadata": {
    "collapsed": true
   },
   "outputs": [],
   "source": [
    "INPUT_DIR = join('tmp', 'parsed')\n",
    "OUTPUT_DIR = join('tmp')\n",
    "makedirs(OUTPUT_DIR, exist_ok=True)"
   ]
  },
  {
   "cell_type": "code",
   "execution_count": 3,
   "metadata": {
    "collapsed": true
   },
   "outputs": [],
   "source": [
    "from nltk.stem.porter import PorterStemmer\n",
    "\n",
    "def tokenize(text):\n",
    "    tokens = nltk.word_tokenize(text)\n",
    "    stems = []\n",
    "    for item in tokens:\n",
    "        stems.append(PorterStemmer().stem(item))\n",
    "    return stems"
   ]
  },
  {
   "cell_type": "code",
   "execution_count": 4,
   "metadata": {
    "collapsed": false
   },
   "outputs": [
    {
     "name": "stdout",
     "output_type": "stream",
     "text": [
      "Building vocabulary...\n",
      "9086\n"
     ]
    }
   ],
   "source": [
    "print(\"Building vocabulary...\")\n",
    "\n",
    "docs = {}\n",
    "doc_tokens = {}\n",
    "for fname in os.listdir(INPUT_DIR):\n",
    "    if fname != '.DS_Store':\n",
    "        with open(join(INPUT_DIR, fname), 'r') as f:\n",
    "            doc = json.load(f)\n",
    "            docs[doc['id']] = doc\n",
    "            text = doc['body']\n",
    "            table = str.maketrans({key: None for key in string.punctuation})\n",
    "            text = text.lower().translate(table)\n",
    "            doc_tokens[doc['id']] = text\n",
    "\n",
    "token_keys = [x[0] for x in doc_tokens.items()]\n",
    "token_values = [x[1] for x in doc_tokens.items()]\n",
    "print(len(doc_tokens.items()))"
   ]
  },
  {
   "cell_type": "code",
   "execution_count": 217,
   "metadata": {
    "collapsed": false
   },
   "outputs": [
    {
     "name": "stdout",
     "output_type": "stream",
     "text": [
      "Processing TF-IDF\n",
      "(9086, 141273)\n"
     ]
    }
   ],
   "source": [
    "from sklearn.feature_extraction.text import TfidfVectorizer\n",
    "\n",
    "print(\"Processing TF-IDF\")\n",
    "\n",
    "vectorizer = TfidfVectorizer(tokenizer=tokenize, stop_words='english')\n",
    "X = vectorizer.fit_transform(token_values)\n",
    "\n",
    "print(X.shape)"
   ]
  },
  {
   "cell_type": "code",
   "execution_count": 6,
   "metadata": {
    "collapsed": true
   },
   "outputs": [],
   "source": [
    "def top_tfidf_feats(row, features, top_n=25):\n",
    "    ''' Get top n tfidf values in row and return them with their corresponding feature names.'''\n",
    "    topn_ids = np.argsort(row)[::-1][:top_n]\n",
    "    top_feats = [(features[i], row[i]) for i in topn_ids]\n",
    "    df = pd.DataFrame(top_feats)\n",
    "    df.columns = ['feature', 'tfidf']\n",
    "    return df"
   ]
  },
  {
   "cell_type": "code",
   "execution_count": 7,
   "metadata": {
    "collapsed": true
   },
   "outputs": [],
   "source": [
    "def top_feats_in_doc(Xtr, features, row_id, top_n=25):\n",
    "    ''' Top tfidf features in specific document (matrix row) '''\n",
    "    row = np.squeeze(Xtr[row_id].toarray())\n",
    "    return top_tfidf_feats(row, features, top_n)"
   ]
  },
  {
   "cell_type": "code",
   "execution_count": 8,
   "metadata": {
    "collapsed": false
   },
   "outputs": [
    {
     "name": "stdout",
     "output_type": "stream",
     "text": [
      "   feature     tfidf\n",
      "0     bull  0.337933\n",
      "1   soccer  0.239934\n",
      "2      red  0.209805\n",
      "3     citi  0.193355\n",
      "4  glidden  0.188261\n",
      "5      nyc  0.183386\n",
      "6       fc  0.167634\n",
      "7   jersey  0.164249\n",
      "8       ml  0.163835\n",
      "9      fan  0.160802\n"
     ]
    }
   ],
   "source": [
    "for i, key in enumerate(token_keys):\n",
    "    print('{0}\\r'.format(i/len(token_keys)))\n",
    "    clear_output(wait=True)\n",
    "    docs[key]['keywords'] = top_feats_in_doc(X, vectorizer.get_feature_names(), i, 10)\n",
    "    \n",
    "print(docs['2016-05-20-28']['keywords'])"
   ]
  },
  {
   "cell_type": "code",
   "execution_count": 9,
   "metadata": {
    "collapsed": true
   },
   "outputs": [],
   "source": [
    "pickle.dump(docs, open('tmp/docs.pickle', 'wb'))"
   ]
  },
  {
   "cell_type": "code",
   "execution_count": 5,
   "metadata": {
    "collapsed": true
   },
   "outputs": [],
   "source": [
    "docs = pickle.load(open('tmp/docs.pickle', 'rb'))"
   ]
  },
  {
   "cell_type": "markdown",
   "metadata": {},
   "source": [
    "# Build the graph from scratch"
   ]
  },
  {
   "cell_type": "code",
   "execution_count": 6,
   "metadata": {
    "collapsed": false
   },
   "outputs": [
    {
     "name": "stdout",
     "output_type": "stream",
     "text": [
      "9086\n"
     ]
    }
   ],
   "source": [
    "g = ig.Graph()\n",
    "for i, key in enumerate(token_keys):\n",
    "    g.add_vertices(key)\n",
    "    \n",
    "print(g.vcount())"
   ]
  },
  {
   "cell_type": "code",
   "execution_count": 10,
   "metadata": {
    "collapsed": false
   },
   "outputs": [
    {
     "name": "stdout",
     "output_type": "stream",
     "text": [
      "82555396\n"
     ]
    }
   ],
   "source": [
    "g.delete_edges(g.es)\n",
    "edges = []\n",
    "for i, key in enumerate(token_keys):\n",
    "    print('{0}\\r'.format(i/len(token_keys)))\n",
    "    clear_output(wait=True)\n",
    "    for i_2, key_2 in enumerate(token_keys):\n",
    "        edges.append((key, key_2))\n",
    "            \n",
    "g.add_edges(edges)  \n",
    "edges = [] \n",
    "print(g.ecount())"
   ]
  },
  {
   "cell_type": "code",
   "execution_count": 12,
   "metadata": {
    "collapsed": false
   },
   "outputs": [
    {
     "name": "stdout",
     "output_type": "stream",
     "text": [
      "82555396\n"
     ]
    }
   ],
   "source": [
    "from sklearn.metrics.pairwise import cosine_similarity\n",
    "\n",
    "count = 0\n",
    "for i, key in enumerate(token_keys):\n",
    "    similarities = cosine_similarity(X[i], X)[0]\n",
    "    print('{0}\\r'.format(i/len(token_keys)))\n",
    "    clear_output(wait=True)\n",
    "    for i_2, key_2 in enumerate(token_keys):            \n",
    "        g.es[count][\"weight\"] = similarities[i_2]\n",
    "        count += 1\n",
    "\n",
    "print(g.ecount())"
   ]
  },
  {
   "cell_type": "markdown",
   "metadata": {},
   "source": [
    "Remove duplicated and self-loop edges"
   ]
  },
  {
   "cell_type": "code",
   "execution_count": 13,
   "metadata": {
    "collapsed": false
   },
   "outputs": [
    {
     "name": "stdout",
     "output_type": "stream",
     "text": [
      "41273155\n"
     ]
    }
   ],
   "source": [
    "g.simplify(multiple=True, loops=True, combine_edges=\"max\")\n",
    "print(g.ecount())"
   ]
  },
  {
   "cell_type": "code",
   "execution_count": 14,
   "metadata": {
    "collapsed": false
   },
   "outputs": [
    {
     "data": {
      "text/plain": [
       "0.027366185195034684"
      ]
     },
     "execution_count": 14,
     "metadata": {},
     "output_type": "execute_result"
    }
   ],
   "source": [
    "g.es[1]['weight']"
   ]
  },
  {
   "cell_type": "code",
   "execution_count": 15,
   "metadata": {
    "collapsed": true
   },
   "outputs": [],
   "source": [
    "g.write_gml('tmp/igraph.gml')"
   ]
  },
  {
   "cell_type": "code",
   "execution_count": 65,
   "metadata": {
    "collapsed": false
   },
   "outputs": [
    {
     "ename": "FileNotFoundError",
     "evalue": "[Errno 2] No such file or directory: 'tmp/igraph_01.gml'",
     "output_type": "error",
     "traceback": [
      "\u001b[0;31m---------------------------------------------------------------------------\u001b[0m",
      "\u001b[0;31mFileNotFoundError\u001b[0m                         Traceback (most recent call last)",
      "\u001b[0;32m<ipython-input-65-6f3c3981e8fa>\u001b[0m in \u001b[0;36m<module>\u001b[0;34m()\u001b[0m\n\u001b[0;32m----> 1\u001b[0;31m \u001b[0mg\u001b[0m \u001b[0;34m=\u001b[0m \u001b[0mig\u001b[0m\u001b[0;34m.\u001b[0m\u001b[0mGraph\u001b[0m\u001b[0;34m.\u001b[0m\u001b[0mRead_GML\u001b[0m\u001b[0;34m(\u001b[0m\u001b[0;34m'tmp/igraph_01.gml'\u001b[0m\u001b[0;34m)\u001b[0m\u001b[0;34m\u001b[0m\u001b[0m\n\u001b[0m",
      "\u001b[0;31mFileNotFoundError\u001b[0m: [Errno 2] No such file or directory: 'tmp/igraph_01.gml'"
     ]
    }
   ],
   "source": [
    "g = ig.Graph.Read_GML('tmp/igraph.gml')"
   ]
  },
  {
   "cell_type": "code",
   "execution_count": 16,
   "metadata": {
    "collapsed": false
   },
   "outputs": [
    {
     "data": {
      "text/plain": [
       "(0, 2)"
      ]
     },
     "execution_count": 16,
     "metadata": {},
     "output_type": "execute_result"
    }
   ],
   "source": [
    "g.es[1].tuple"
   ]
  },
  {
   "cell_type": "code",
   "execution_count": 17,
   "metadata": {
    "collapsed": false
   },
   "outputs": [
    {
     "data": {
      "text/plain": [
       "igraph.Vertex(<igraph.Graph object at 0x10e1f0d68>, 0, {'name': '2016-05-01-1'})"
      ]
     },
     "execution_count": 17,
     "metadata": {},
     "output_type": "execute_result"
    }
   ],
   "source": [
    "g.vs[0]"
   ]
  },
  {
   "cell_type": "code",
   "execution_count": 73,
   "metadata": {
    "collapsed": false
   },
   "outputs": [],
   "source": [
    "sub_g = g.es.select(weight_ge=0).subgraph()"
   ]
  },
  {
   "cell_type": "code",
   "execution_count": 75,
   "metadata": {
    "collapsed": false
   },
   "outputs": [
    {
     "name": "stdout",
     "output_type": "stream",
     "text": [
      "Nodes 9086\n",
      "Edges 41273155\n",
      "AD 9085.0\n"
     ]
    }
   ],
   "source": [
    "print(\"Nodes {}\".format(sub_g.vcount()))\n",
    "print(\"Edges {}\".format(sub_g.ecount()))\n",
    "# print(\"Diameter {}\".format(sub_g.diameter()))\n",
    "# print(\"LCC {}\".format(sub_g.clusters().giant().vcount()))\n",
    "# print(\"APL {}\".format(sub_g.average_path_length()))\n",
    "print(\"AD {}\".format(sum(sub_g.degree())/len(sub_g.degree())))"
   ]
  },
  {
   "cell_type": "code",
   "execution_count": 26,
   "metadata": {
    "collapsed": false
   },
   "outputs": [
    {
     "data": {
      "text/plain": [
       "(0, 1734)"
      ]
     },
     "execution_count": 26,
     "metadata": {},
     "output_type": "execute_result"
    }
   ],
   "source": [
    "sub_g.es()[0].tuple"
   ]
  },
  {
   "cell_type": "code",
   "execution_count": 23,
   "metadata": {
    "collapsed": false
   },
   "outputs": [
    {
     "name": "stdout",
     "output_type": "stream",
     "text": [
      "igraph.Vertex(<igraph.Graph object at 0x10e1f0c78>, 0, {'name': '2016-05-01-122'})\n",
      "igraph.Vertex(<igraph.Graph object at 0x10e1f0c78>, 3, {'name': '2016-05-01-81'})\n"
     ]
    }
   ],
   "source": [
    "print(sub_g.vs[1])\n",
    "print(sub_g.vs[3])"
   ]
  },
  {
   "cell_type": "code",
   "execution_count": 39,
   "metadata": {
    "collapsed": true
   },
   "outputs": [],
   "source": [
    "sub_g.write_gml('tmp/subgraph_01.gml')"
   ]
  },
  {
   "cell_type": "markdown",
   "metadata": {},
   "source": [
    "# Load Network"
   ]
  },
  {
   "cell_type": "code",
   "execution_count": 365,
   "metadata": {
    "collapsed": false
   },
   "outputs": [],
   "source": [
    "g = ig.Graph.Read_GML('tmp/subgraph_01.gml')"
   ]
  },
  {
   "cell_type": "code",
   "execution_count": 366,
   "metadata": {
    "collapsed": true
   },
   "outputs": [],
   "source": [
    "sg = g.es.select(weight_ge=0.2).subgraph()"
   ]
  },
  {
   "cell_type": "code",
   "execution_count": 367,
   "metadata": {
    "collapsed": false
   },
   "outputs": [],
   "source": [
    "# community = sg.community_infomap(edge_weights='weight')\n",
    "community = sg.community_multilevel(weights='weight')\n",
    "# community = sg.community_leading_eigenvector(weights='weight')"
   ]
  },
  {
   "cell_type": "code",
   "execution_count": 368,
   "metadata": {
    "collapsed": false
   },
   "outputs": [
    {
     "name": "stdout",
     "output_type": "stream",
     "text": [
      "Nodes 7814\n",
      "Edges 98164\n",
      "Diameter 15\n",
      "LCC 7356\n",
      "APL 5.104654144972761\n",
      "AD 25.125159969285896\n",
      "Giant Size 612\n",
      "NO of Communities 226\n",
      "Modularity 0.8243999357460129\n"
     ]
    }
   ],
   "source": [
    "print(\"Nodes {}\".format(sg.vcount()))\n",
    "print(\"Edges {}\".format(sg.ecount()))\n",
    "print(\"Diameter {}\".format(sg.diameter()))\n",
    "print(\"LCC {}\".format(sg.clusters().giant().vcount()))\n",
    "print(\"APL {}\".format(sg.average_path_length()))\n",
    "print(\"AD {}\".format(sum(sg.degree())/len(sg.degree())))\n",
    "print(\"Giant Size {}\".format(len(community.giant().vs())))\n",
    "print(\"NO of Communities {}\".format(max(community.membership)))\n",
    "print(\"Modularity {}\".format(sg.modularity(community.membership)))"
   ]
  },
  {
   "cell_type": "code",
   "execution_count": 212,
   "metadata": {
    "collapsed": false,
    "scrolled": false
   },
   "outputs": [],
   "source": [
    "with open('tmp/network_docs.txt', 'w+') as file:\n",
    "    for i in range(max(community.membership)):\n",
    "        for v in community.subgraph(i).vs():\n",
    "            file.write(\"Topic:{} File:{} Title:{}\\n\".format(i, v['name'], docs[v['name']]['webTitle']))"
   ]
  },
  {
   "cell_type": "markdown",
   "metadata": {},
   "source": [
    "# Size Chart"
   ]
  },
  {
   "cell_type": "code",
   "execution_count": 235,
   "metadata": {
    "collapsed": false
   },
   "outputs": [
    {
     "data": {
      "text/plain": [
       "1497"
      ]
     },
     "execution_count": 235,
     "metadata": {},
     "output_type": "execute_result"
    }
   ],
   "source": [
    "net_topics = {}\n",
    "\n",
    "for i in range(max(community.membership)):\n",
    "    for v in community.subgraph(i).vs():\n",
    "        topic_no = i\n",
    "        try:\n",
    "            net_topics[topic_no]\n",
    "        except KeyError:\n",
    "            net_topics[topic_no] = 0\n",
    "\n",
    "        net_topics[topic_no] += 1 \n",
    "        \n",
    "len(net_topics.keys())"
   ]
  },
  {
   "cell_type": "code",
   "execution_count": 236,
   "metadata": {
    "collapsed": false
   },
   "outputs": [
    {
     "data": {
      "image/png": "[encoded data removed]",
      "text/plain": [
       "<matplotlib.figure.Figure at 0x1525dea58>"
      ]
     },
     "metadata": {},
     "output_type": "display_data"
    }
   ],
   "source": [
    "x_data = []\n",
    "y_data = []\n",
    "for key, value in sorted(net_topics.items(), key=lambda x: x[1], reverse=True):\n",
    "    x_data.append(key)\n",
    "    y_data.append(value)\n",
    "\n",
    "ind = np.arange(0, len(y_data) * 2, 2)\n",
    "fig = plt.figure(figsize=(60,10))\n",
    "plt.bar(ind, y_data)\n",
    "plt.xticks(ind, x_data, rotation=90)\n",
    "plt.title(\"Network Topic Document Distribution\")\n",
    "plt.xlabel(\"Topic\")\n",
    "plt.ylabel(\"Frequency\")\n",
    "fig.savefig('tmp/size_chart_net.png')\n",
    "plt.show()"
   ]
  },
  {
   "cell_type": "markdown",
   "metadata": {},
   "source": [
    "# LDA"
   ]
  },
  {
   "cell_type": "code",
   "execution_count": 14,
   "metadata": {
    "collapsed": true
   },
   "outputs": [],
   "source": [
    "from gensim import matutils\n",
    "from gensim.models.ldamodel import LdaModel"
   ]
  },
  {
   "cell_type": "code",
   "execution_count": 17,
   "metadata": {
    "collapsed": false
   },
   "outputs": [
    {
     "name": "stdout",
     "output_type": "stream",
     "text": [
      "(9086, 141273)\n"
     ]
    }
   ],
   "source": [
    "from sklearn.feature_extraction.text import CountVectorizer\n",
    "\n",
    "vectorizer = CountVectorizer(tokenizer=tokenize, stop_words='english')\n",
    "X = vectorizer.fit_transform(token_values)\n",
    "vocab = vectorizer.get_feature_names()\n",
    "\n",
    "print(X.shape)"
   ]
  },
  {
   "cell_type": "code",
   "execution_count": 86,
   "metadata": {
    "collapsed": false
   },
   "outputs": [],
   "source": [
    "np.random.seed(1234)\n",
    "\n",
    "import logging\n",
    "logging.basicConfig(format='%(asctime)s : %(levelname)s : %(message)s', level=logging.INFO)\n",
    "\n",
    "gensim_model = LdaModel(matutils.Sparse2Corpus(X.T), \n",
    "                num_topics=226,\n",
    "                passes=50,\n",
    "                id2word=dict([(i, s) for i, s in enumerate(vocab)]))"
   ]
  },
  {
   "cell_type": "code",
   "execution_count": 87,
   "metadata": {
    "collapsed": true
   },
   "outputs": [],
   "source": [
    "pickle.dump(gensim_model, open('tmp/gensim_lda.pickle', 'wb'))"
   ]
  },
  {
   "cell_type": "markdown",
   "metadata": {},
   "source": [
    "# Load LDA"
   ]
  },
  {
   "cell_type": "code",
   "execution_count": 15,
   "metadata": {
    "collapsed": false
   },
   "outputs": [],
   "source": [
    "lda_model = pickle.load(open('tmp/gensim_lda.pickle', 'rb'))"
   ]
  },
  {
   "cell_type": "code",
   "execution_count": 18,
   "metadata": {
    "collapsed": false
   },
   "outputs": [
    {
     "name": "stdout",
     "output_type": "stream",
     "text": [
      "9086\n"
     ]
    }
   ],
   "source": [
    "doc_topic_prob_mat = lda_model[matutils.Sparse2Corpus(X.T)]\n",
    "print(len(doc_topic_prob_mat))"
   ]
  },
  {
   "cell_type": "code",
   "execution_count": 20,
   "metadata": {
    "collapsed": false
   },
   "outputs": [],
   "source": [
    "for i, mat in enumerate(doc_topic_prob_mat):\n",
    "    docs[token_keys[i]]['topic_most_pr'] = max(mat, key=lambda x: x[1])[0]\n",
    "\n",
    "lda_items = sorted(docs.items(), key=lambda x: x[1]['topic_most_pr'])"
   ]
  },
  {
   "cell_type": "code",
   "execution_count": 21,
   "metadata": {
    "collapsed": true
   },
   "outputs": [],
   "source": [
    "pickle.dump(lda_items, open('tmp/lda_items.pickle', 'wb'))"
   ]
  },
  {
   "cell_type": "code",
   "execution_count": 22,
   "metadata": {
    "collapsed": true
   },
   "outputs": [],
   "source": [
    "pickle.dump(docs, open('tmp/docs_topic_most_pr.pickle', 'wb'))"
   ]
  },
  {
   "cell_type": "code",
   "execution_count": 23,
   "metadata": {
    "collapsed": false
   },
   "outputs": [],
   "source": [
    "with open('tmp/lda_docs.txt', 'w+') as file:\n",
    "    for item in lda_items:\n",
    "        file.write(\"Topic:{} File:{} Title:{}\\n\".format(item[1]['topic_most_pr'], item[0], item[1]['webTitle']))"
   ]
  },
  {
   "cell_type": "code",
   "execution_count": null,
   "metadata": {
    "collapsed": false
   },
   "outputs": [],
   "source": [
    "lda_items = pickle.load(open('tmp/lda_items.pickle', 'rb'))"
   ]
  },
  {
   "cell_type": "markdown",
   "metadata": {},
   "source": [
    "# Size Chart"
   ]
  },
  {
   "cell_type": "code",
   "execution_count": 43,
   "metadata": {
    "collapsed": false
   },
   "outputs": [
    {
     "data": {
      "text/plain": [
       "226"
      ]
     },
     "execution_count": 43,
     "metadata": {},
     "output_type": "execute_result"
    }
   ],
   "source": [
    "lda_topics = {}\n",
    "\n",
    "for i in range(226):\n",
    "    lda_topics[i] = []\n",
    "    \n",
    "for item in lda_items:\n",
    "    topic_no = item[1]['topic_most_pr']\n",
    "    lda_topics[topic_no].append(item[0])\n",
    "    \n",
    "len(lda_topics.keys())"
   ]
  },
  {
   "cell_type": "code",
   "execution_count": 72,
   "metadata": {
    "collapsed": false
   },
   "outputs": [
    {
     "data": {
      "image/png": "[encoded data removed]",
      "text/plain": [
       "<matplotlib.figure.Figure at 0x118bcf6a0>"
      ]
     },
     "metadata": {},
     "output_type": "display_data"
    }
   ],
   "source": [
    "x_data = []\n",
    "y_data = []\n",
    "for key, value in sorted(lda_topics.items(), key=lambda x: len(x[1]), reverse=True):\n",
    "    x_data.append(key)\n",
    "    y_data.append(len(value))\n",
    "\n",
    "ind = np.arange(0, len(y_data) * 2, 2)\n",
    "fig = plt.figure(figsize=(60,10))\n",
    "plt.bar(ind, y_data)\n",
    "plt.xticks(ind, x_data, rotation=90)\n",
    "plt.title(\"LDA Topic Document Distribution\")\n",
    "plt.xlabel(\"Topic\")\n",
    "plt.ylabel(\"Frequency\")\n",
    "fig.savefig('tmp/size_chart_lda.png')\n",
    "plt.show()"
   ]
  },
  {
   "cell_type": "markdown",
   "metadata": {},
   "source": [
    "# Heatmap"
   ]
  },
  {
   "cell_type": "code",
   "execution_count": 369,
   "metadata": {
    "collapsed": false
   },
   "outputs": [
    {
     "name": "stdout",
     "output_type": "stream",
     "text": [
      "226\n",
      "{'2016-05-01-3': True, '2016-05-02-13': True}\n"
     ]
    }
   ],
   "source": [
    "topics = {}\n",
    "\n",
    "for i in range(max(community.membership)):\n",
    "    for v in community.subgraph(i).vs():\n",
    "        topic_no = i\n",
    "        try:\n",
    "            topics[topic_no]\n",
    "        except KeyError:\n",
    "            topics[topic_no] = []\n",
    "\n",
    "        topics[topic_no].append(v['name'])\n",
    "\n",
    "net_data = []\n",
    "for key, value in sorted(topics.items(), key=lambda x: x[0]):\n",
    "    h = {}\n",
    "    for v in value:\n",
    "        h[v] = True\n",
    "    net_data.append(h)\n",
    "        \n",
    "print(len(net_data))\n",
    "print(net_data[0])"
   ]
  },
  {
   "cell_type": "code",
   "execution_count": 47,
   "metadata": {
    "collapsed": false
   },
   "outputs": [
    {
     "name": "stdout",
     "output_type": "stream",
     "text": [
      "226\n",
      "{'2016-05-13-44': True, '2016-05-27-195': True, '2016-05-19-9': True, '2016-05-13-266': True, '2016-05-19-190': True, '2016-05-20-24': True, '2016-05-19-60': True, '2016-05-14-142': True, '2016-05-13-331': True, '2016-05-25-267': True, '2016-05-20-98': True, '2016-05-18-63': True, '2016-05-13-143': True}\n"
     ]
    }
   ],
   "source": [
    "topics = {}\n",
    "\n",
    "topics = lda_topics\n",
    "    \n",
    "lda_data = []\n",
    "for key, value in sorted(topics.items(), key=lambda x: x[0]):\n",
    "    h = {}\n",
    "    for v in value:\n",
    "        h[v] = True\n",
    "    lda_data.append(h)\n",
    "\n",
    "print(len(lda_data))\n",
    "print(lda_data[1])"
   ]
  },
  {
   "cell_type": "code",
   "execution_count": 407,
   "metadata": {
    "collapsed": false
   },
   "outputs": [
    {
     "name": "stdout",
     "output_type": "stream",
     "text": [
      "(452, 9086)\n"
     ]
    }
   ],
   "source": [
    "from sklearn.feature_extraction import DictVectorizer\n",
    "\n",
    "vectorizer = DictVectorizer()\n",
    "vectors  = net_data + lda_data\n",
    "X = vectorizer.fit_transform(vectors)\n",
    "\n",
    "print(X.shape)"
   ]
  },
  {
   "cell_type": "code",
   "execution_count": 408,
   "metadata": {
    "collapsed": false
   },
   "outputs": [
    {
     "name": "stdout",
     "output_type": "stream",
     "text": [
      "2\n",
      "0\n",
      "2\n"
     ]
    }
   ],
   "source": [
    "print(len(net_data[0].keys()))\n",
    "print(len(lda_data[0].keys()))\n",
    "print(np.count_nonzero(X[:226].toarray()[0]))"
   ]
  },
  {
   "cell_type": "code",
   "execution_count": 409,
   "metadata": {
    "collapsed": true
   },
   "outputs": [],
   "source": [
    "net_vectors = X[:226]\n",
    "lda_vectors = X[226:]"
   ]
  },
  {
   "cell_type": "code",
   "execution_count": 410,
   "metadata": {
    "collapsed": false
   },
   "outputs": [],
   "source": [
    "similarities = cosine_similarity(net_vectors, lda_vectors)"
   ]
  },
  {
   "cell_type": "code",
   "execution_count": 412,
   "metadata": {
    "collapsed": false
   },
   "outputs": [
    {
     "ename": "AttributeError",
     "evalue": "'numpy.ndarray' object has no attribute 'toarray'",
     "output_type": "error",
     "traceback": [
      "\u001b[0;31m---------------------------------------------------------------------------\u001b[0m",
      "\u001b[0;31mAttributeError\u001b[0m                            Traceback (most recent call last)",
      "\u001b[0;32m<ipython-input-412-aecbdccc53f6>\u001b[0m in \u001b[0;36m<module>\u001b[0;34m()\u001b[0m\n\u001b[0;32m----> 1\u001b[0;31m \u001b[0mnp\u001b[0m\u001b[0;34m.\u001b[0m\u001b[0msavetxt\u001b[0m\u001b[0;34m(\u001b[0m\u001b[0;34m'tmp/heatmap.csv'\u001b[0m\u001b[0;34m,\u001b[0m \u001b[0msimilarities\u001b[0m\u001b[0;34m.\u001b[0m\u001b[0mtoarray\u001b[0m\u001b[0;34m(\u001b[0m\u001b[0;34m)\u001b[0m\u001b[0;34m,\u001b[0m \u001b[0mfmt\u001b[0m\u001b[0;34m=\u001b[0m\u001b[0;34m'%d'\u001b[0m\u001b[0;34m,\u001b[0m \u001b[0mdelimiter\u001b[0m\u001b[0;34m=\u001b[0m\u001b[0;34m\",\"\u001b[0m\u001b[0;34m)\u001b[0m\u001b[0;34m\u001b[0m\u001b[0m\n\u001b[0m",
      "\u001b[0;31mAttributeError\u001b[0m: 'numpy.ndarray' object has no attribute 'toarray'"
     ]
    }
   ],
   "source": [
    "np.savetxt('tmp/heatmap.csv', similarities, fmt='%d', delimiter=\",\")"
   ]
  },
  {
   "cell_type": "code",
   "execution_count": 413,
   "metadata": {
    "collapsed": false
   },
   "outputs": [
    {
     "data": {
      "text/plain": [
       "<matplotlib.axes._subplots.AxesSubplot at 0x127e75a58>"
      ]
     },
     "execution_count": 413,
     "metadata": {},
     "output_type": "execute_result"
    },
    {
     "data": {
      "image/png": "[encoded data removed]",
      "text/plain": [
       "<matplotlib.figure.Figure at 0x11c7f5898>"
      ]
     },
     "metadata": {},
     "output_type": "display_data"
    }
   ],
   "source": [
    "import seaborn as sns\n",
    "\n",
    "fig, ax = plt.subplots(figsize=(30, 30))\n",
    "sns.heatmap(similarities, xticklabels=2, yticklabels=2, cmap=plt.cm.gist_heat_r)"
   ]
  },
  {
   "cell_type": "markdown",
   "metadata": {},
   "source": [
    "# Size to topic table + keywords"
   ]
  },
  {
   "cell_type": "code",
   "execution_count": 147,
   "metadata": {
    "collapsed": false
   },
   "outputs": [],
   "source": [
    "import itertools\n",
    "\n",
    "def save_keyword_table(topics, file_path):\n",
    "    result = {}\n",
    "    rows = []\n",
    "    for topic in topics:\n",
    "        items = list(map(lambda x: x.values.tolist(), topic[1]))\n",
    "        keywords = sorted(list(itertools.chain(*items)), key=lambda x: x[1], reverse=True)\n",
    "        keywords = list(map(lambda x: x[0], keywords))[:10]\n",
    "        result[topic[0]] = (len(topic[1]), keywords)\n",
    "        rows.append([topic[0], len(topic[1]), keywords])\n",
    "\n",
    "    with open(file_path, 'w+') as file:\n",
    "        for row in rows:\n",
    "            file.write(\"{};{};{}\\n\".format(row[0], row[1], row[2]))\n",
    "    \n",
    "    return result"
   ]
  },
  {
   "cell_type": "code",
   "execution_count": 148,
   "metadata": {
    "collapsed": false
   },
   "outputs": [],
   "source": [
    "topics = {}\n",
    "\n",
    "for i in range(max(community.membership)):\n",
    "    for v in community.subgraph(i).vs():\n",
    "        topic_no = i\n",
    "        try:\n",
    "            topics[topic_no]\n",
    "        except KeyError:\n",
    "            topics[topic_no] = []\n",
    "\n",
    "        topics[topic_no].append(docs[v['name']]['keywords'])\n",
    "        \n",
    "topics = sorted(topics.items(), key=lambda x: len(x[1]), reverse=True)\n",
    "\n",
    "net_keywords = save_keyword_table(topics, 'tmp/keywordtable_net.csv')"
   ]
  },
  {
   "cell_type": "code",
   "execution_count": 149,
   "metadata": {
    "collapsed": false
   },
   "outputs": [],
   "source": [
    "topics = {}\n",
    "\n",
    "for k, v in lda_items:\n",
    "    topic_no = v['topic_most_pr']\n",
    "    try:\n",
    "        topics[topic_no]\n",
    "    except KeyError:\n",
    "        topics[topic_no] = []\n",
    "\n",
    "    topics[topic_no].append(docs[k]['keywords'])\n",
    "    \n",
    "topics = sorted(topics.items(), key=lambda x: len(x[1]), reverse=True)\n",
    "\n",
    "lda_keywords = save_keyword_table(topics, 'tmp/keywordtable_lda.csv')"
   ]
  },
  {
   "cell_type": "code",
   "execution_count": 77,
   "metadata": {
    "collapsed": false
   },
   "outputs": [
    {
     "name": "stdout",
     "output_type": "stream",
     "text": [
      "[['kooiman', 0.8127769719535584], ['schipper', 0.7495957471079563], ['pite', 0.7094665105009573], ['knox', 0.7019186599186819], ['itoj', 0.6980839430275991], ['curri', 0.6894071166736933], ['warnock', 0.6861303977937785], ['raptor', 0.683898791026874], ['ebner', 0.6837088357276689], ['arteta', 0.6759196190401957], ['netbal', 0.6552455601214872], ['quidditch', 0.6547345488243379], ['bradford', 0.6473911018945802], ['hayn', 0.6457407443257588], ['iceland', 0.6448972880254444], ['spur', 0.6448155891426471], ['morri', 0.6290075384655391], ['curri', 0.6260469208663165], ['suárez', 0.6258813560860709], ['spieth', 0.623562434424801]]\n"
     ]
    }
   ],
   "source": [
    "list_of_menuitems = list(map(lambda x: x.values.tolist(), topics[6][1]))\n",
    "chain = sorted(list(itertools.chain(*list_of_menuitems)), key=lambda x: x[1], reverse=True)\n",
    "print(chain[:20])"
   ]
  },
  {
   "cell_type": "code",
   "execution_count": 129,
   "metadata": {
    "collapsed": false
   },
   "outputs": [
    {
     "data": {
      "text/plain": [
       "11"
      ]
     },
     "execution_count": 129,
     "metadata": {},
     "output_type": "execute_result"
    }
   ],
   "source": [
    "a = similarities[6].toarray()[0]\n",
    "m = max(range(len(a)), key=lambda x: a[x])\n",
    "m"
   ]
  },
  {
   "cell_type": "code",
   "execution_count": 146,
   "metadata": {
    "collapsed": false
   },
   "outputs": [],
   "source": [
    "import csv\n",
    "with open('tmp/matching.csv', 'w+') as file:\n",
    "    rows = []\n",
    "    for i, row in enumerate(similarities):\n",
    "        a = row.toarray()[0]\n",
    "        lda =  max(range(len(a)), key=lambda x: a[x])\n",
    "        sim =  max(a)\n",
    "        rows.append([i, net_keywords[i][0], net_keywords[i][1], lda, lda_keywords[lda][0], lda_keywords[lda][1], sim])\n",
    "    \n",
    "    for row in sorted(rows, key=lambda x: x[1], reverse=True):\n",
    "        writer = csv.writer(file)\n",
    "        writer.writerow(row)"
   ]
  },
  {
   "cell_type": "markdown",
   "metadata": {},
   "source": [
    "# LDA + Modularity"
   ]
  },
  {
   "cell_type": "code",
   "execution_count": 424,
   "metadata": {
    "collapsed": false
   },
   "outputs": [
    {
     "name": "stdout",
     "output_type": "stream",
     "text": [
      "Network Communities Modularity 0.8243999357460129\n",
      "LDA Communities Modularity 0.4235280324048751\n"
     ]
    }
   ],
   "source": [
    "membership = []\n",
    "for v in sg.vs():\n",
    "    membership.append(docs[v['name']]['topic_most_pr'])\n",
    "\n",
    "print(\"Network Communities Modularity {}\".format(sg.modularity(community.membership)))\n",
    "print(\"LDA Communities Modularity {}\".format(sg.modularity(membership)))"
   ]
  },
  {
   "cell_type": "markdown",
   "metadata": {},
   "source": [
    "# Modularity applied to LDA Similarities"
   ]
  },
  {
   "cell_type": "code",
   "execution_count": 287,
   "metadata": {
    "collapsed": false
   },
   "outputs": [
    {
     "name": "stdout",
     "output_type": "stream",
     "text": [
      "0.9998899405679067\r\n"
     ]
    }
   ],
   "source": [
    "lda_model.minimum_probability=0.0\n",
    "\n",
    "mat = []\n",
    "for i, m in enumerate(doc_topic_prob_mat):\n",
    "    clear_output(wait=True)\n",
    "    progress = i/len(token_keys)\n",
    "    print('{0}\\r'.format(progress))\n",
    "    a = []\n",
    "    for n in m:\n",
    "        if n[1] >= 0.01:\n",
    "            a.append(n[1])\n",
    "        else:\n",
    "            a.append(0)\n",
    "    mat.append(a)"
   ]
  },
  {
   "cell_type": "code",
   "execution_count": 288,
   "metadata": {
    "collapsed": false
   },
   "outputs": [
    {
     "data": {
      "text/plain": [
       "9086"
      ]
     },
     "execution_count": 288,
     "metadata": {},
     "output_type": "execute_result"
    }
   ],
   "source": [
    "len(mat)"
   ]
  },
  {
   "cell_type": "code",
   "execution_count": 417,
   "metadata": {
    "collapsed": false
   },
   "outputs": [
    {
     "data": {
      "text/plain": [
       "matrix([[ 0.        ,  0.        ,  0.01226318,  0.        ,  0.        ,\n",
       "          0.        ,  0.        ,  0.        ,  0.        ,  0.02008254,\n",
       "          0.        ,  0.        ,  0.        ,  0.        ,  0.        ,\n",
       "          0.        ,  0.        ,  0.        ,  0.        ,  0.        ,\n",
       "          0.        ,  0.        ,  0.        ,  0.        ,  0.03434723,\n",
       "          0.        ,  0.        ,  0.        ,  0.        ,  0.01441289,\n",
       "          0.        ,  0.        ,  0.        ,  0.        ,  0.        ,\n",
       "          0.        ,  0.        ,  0.        ,  0.        ,  0.        ,\n",
       "          0.        ,  0.        ,  0.        ,  0.        ,  0.        ,\n",
       "          0.        ,  0.        ,  0.        ,  0.        ,  0.        ,\n",
       "          0.        ,  0.        ,  0.        ,  0.        ,  0.        ,\n",
       "          0.        ,  0.        ,  0.        ,  0.        ,  0.        ,\n",
       "          0.01745501,  0.        ,  0.        ,  0.        ,  0.        ,\n",
       "          0.        ,  0.        ,  0.        ,  0.        ,  0.        ,\n",
       "          0.        ,  0.        ,  0.        ,  0.        ,  0.        ,\n",
       "          0.        ,  0.0120077 ,  0.        ,  0.        ,  0.        ,\n",
       "          0.        ,  0.        ,  0.        ,  0.        ,  0.        ,\n",
       "          0.        ,  0.        ,  0.        ,  0.        ,  0.24508941,\n",
       "          0.        ,  0.        ,  0.        ,  0.        ,  0.        ,\n",
       "          0.        ,  0.        ,  0.        ,  0.        ,  0.        ,\n",
       "          0.        ,  0.        ,  0.        ,  0.        ,  0.        ,\n",
       "          0.        ,  0.        ,  0.01457425,  0.0276134 ,  0.        ,\n",
       "          0.        ,  0.        ,  0.        ,  0.        ,  0.        ,\n",
       "          0.        ,  0.        ,  0.        ,  0.        ,  0.01403023,\n",
       "          0.        ,  0.        ,  0.        ,  0.        ,  0.        ,\n",
       "          0.        ,  0.        ,  0.        ,  0.        ,  0.        ,\n",
       "          0.        ,  0.        ,  0.        ,  0.        ,  0.        ,\n",
       "          0.05049913,  0.        ,  0.        ,  0.        ,  0.        ,\n",
       "          0.        ,  0.        ,  0.        ,  0.        ,  0.        ,\n",
       "          0.        ,  0.        ,  0.        ,  0.        ,  0.        ,\n",
       "          0.        ,  0.        ,  0.        ,  0.        ,  0.        ,\n",
       "          0.        ,  0.        ,  0.        ,  0.        ,  0.        ,\n",
       "          0.06837387,  0.        ,  0.        ,  0.        ,  0.        ,\n",
       "          0.        ,  0.        ,  0.        ,  0.        ,  0.        ,\n",
       "          0.01546478,  0.        ,  0.        ,  0.        ,  0.        ,\n",
       "          0.        ,  0.        ,  0.        ,  0.        ,  0.        ,\n",
       "          0.        ,  0.12975143,  0.        ,  0.        ,  0.        ,\n",
       "          0.        ,  0.02061976,  0.        ,  0.        ,  0.        ,\n",
       "          0.01938554,  0.        ,  0.        ,  0.        ,  0.        ,\n",
       "          0.        ,  0.        ,  0.        ,  0.        ,  0.        ,\n",
       "          0.        ,  0.        ,  0.14502327,  0.        ,  0.        ,\n",
       "          0.        ,  0.        ,  0.        ,  0.        ,  0.        ,\n",
       "          0.        ,  0.        ,  0.        ,  0.        ,  0.        ,\n",
       "          0.        ,  0.        ,  0.        ,  0.        ,  0.        ,\n",
       "          0.        ,  0.        ,  0.        ,  0.        ,  0.        ,\n",
       "          0.        ]])"
      ]
     },
     "execution_count": 417,
     "metadata": {},
     "output_type": "execute_result"
    }
   ],
   "source": [
    "mat = np.mat(mat)\n",
    "pickle.dump(mat, open('tmp/mat3.pickle', 'wb'))\n",
    "mat_np[1]"
   ]
  },
  {
   "cell_type": "code",
   "execution_count": 298,
   "metadata": {
    "collapsed": false
   },
   "outputs": [
    {
     "data": {
      "text/plain": [
       "9086"
      ]
     },
     "execution_count": 298,
     "metadata": {},
     "output_type": "execute_result"
    }
   ],
   "source": [
    "len(cosine_similarity(mat_np[0], mat_np)[0])"
   ]
  },
  {
   "cell_type": "code",
   "execution_count": 292,
   "metadata": {
    "collapsed": false
   },
   "outputs": [
    {
     "name": "stdout",
     "output_type": "stream",
     "text": [
      "9086\n"
     ]
    }
   ],
   "source": [
    "g = ig.Graph()\n",
    "for i, key in enumerate(token_keys):\n",
    "    g.add_vertices(key)\n",
    "    \n",
    "print(g.vcount())"
   ]
  },
  {
   "cell_type": "code",
   "execution_count": 302,
   "metadata": {
    "collapsed": false
   },
   "outputs": [
    {
     "name": "stdout",
     "output_type": "stream",
     "text": [
      "82555396\n"
     ]
    }
   ],
   "source": [
    "g.delete_edges(g.es)\n",
    "edges = []\n",
    "for i, source in enumerate(token_keys):\n",
    "    print('{0}\\r'.format(i/len(token_keys)))\n",
    "    clear_output(wait=True)\n",
    "    for i_2, target in enumerate(token_keys):\n",
    "        edges.append((source, target))\n",
    "            \n",
    "g.add_edges(edges)  \n",
    "edges = [] \n",
    "print(g.ecount())"
   ]
  },
  {
   "cell_type": "code",
   "execution_count": 303,
   "metadata": {
    "collapsed": false
   },
   "outputs": [
    {
     "name": "stdout",
     "output_type": "stream",
     "text": [
      "0.9998899405679067\r\n",
      "82555396\n"
     ]
    }
   ],
   "source": [
    "from sklearn.metrics.pairwise import cosine_similarity\n",
    "\n",
    "count = 0\n",
    "for i, source in enumerate(token_keys):\n",
    "    clear_output(wait=True)\n",
    "    similarities = cosine_similarity(mat_np[i], mat_np)[0]\n",
    "    print('{0}\\r'.format(i/len(token_keys)))\n",
    "    for j, target in enumerate(token_keys):            \n",
    "        g.es[count][\"weight\"] = similarities[j]\n",
    "        count += 1\n",
    "\n",
    "print(g.ecount())"
   ]
  },
  {
   "cell_type": "code",
   "execution_count": 304,
   "metadata": {
    "collapsed": false
   },
   "outputs": [
    {
     "name": "stdout",
     "output_type": "stream",
     "text": [
      "41273155\n"
     ]
    }
   ],
   "source": [
    "g.simplify(multiple=True, loops=True, combine_edges=\"max\")\n",
    "print(g.ecount())"
   ]
  },
  {
   "cell_type": "code",
   "execution_count": 305,
   "metadata": {
    "collapsed": true
   },
   "outputs": [],
   "source": [
    "g.write_gml('tmp/igraph_lda.gml')"
   ]
  },
  {
   "cell_type": "code",
   "execution_count": 311,
   "metadata": {
    "collapsed": false
   },
   "outputs": [],
   "source": [
    "sg = g.es.select(weight_ge=0.1).subgraph()"
   ]
  },
  {
   "cell_type": "code",
   "execution_count": 312,
   "metadata": {
    "collapsed": true
   },
   "outputs": [],
   "source": [
    "sg.write_gml('tmp/igraph_lda_01.gml')"
   ]
  },
  {
   "cell_type": "code",
   "execution_count": null,
   "metadata": {
    "collapsed": true
   },
   "outputs": [],
   "source": [
    "g = ig.Graph.Read_GML('tmp/igraph_lda_01.gml')"
   ]
  },
  {
   "cell_type": "code",
   "execution_count": null,
   "metadata": {
    "collapsed": false
   },
   "outputs": [],
   "source": [
    "sg = g.es.select(weight_ge=0.9).subgraph()"
   ]
  },
  {
   "cell_type": "code",
   "execution_count": null,
   "metadata": {
    "collapsed": false
   },
   "outputs": [],
   "source": [
    "# community = sg.community_infomap(edge_weights='weight')\n",
    "community = sg.community_multilevel(weights='weight')\n",
    "# community = sg.community_leading_eigenvector(weights='weight')"
   ]
  },
  {
   "cell_type": "code",
   "execution_count": null,
   "metadata": {
    "collapsed": false
   },
   "outputs": [],
   "source": [
    "print(\"Nodes {}\".format(sg.vcount()))\n",
    "print(\"Edges {}\".format(sg.ecount()))\n",
    "print(\"Diameter {}\".format(sg.diameter()))\n",
    "print(\"LCC {}\".format(sg.clusters().giant().vcount()))\n",
    "print(\"APL {}\".format(sg.average_path_length()))\n",
    "print(\"AD {}\".format(sum(sg.degree())/len(sg.degree())))\n",
    "print(\"Giant Size {}\".format(len(community.giant().vs())))\n",
    "print(\"NO of Communities {}\".format(max(community.membership)))\n",
    "print(\"Modularity {}\".format(sg.modularity(community.membership)))"
   ]
  },
  {
   "cell_type": "code",
   "execution_count": 352,
   "metadata": {
    "collapsed": true
   },
   "outputs": [],
   "source": [
    "with open('tmp/lda_network_docs.txt', 'w+') as file:\n",
    "    for i in range(max(community.membership)):\n",
    "        for v in community.subgraph(i).vs():\n",
    "            file.write(\"Topic:{} File:{} Title:{}\\n\".format(i, v['name'], docs[v['name']]['webTitle']))"
   ]
  },
  {
   "cell_type": "code",
   "execution_count": null,
   "metadata": {
    "collapsed": true
   },
   "outputs": [],
   "source": []
  }
 ],
 "metadata": {
  "kernelspec": {
   "display_name": "Python 3",
   "language": "python",
   "name": "python3"
  },
  "language_info": {
   "codemirror_mode": {
    "name": "ipython",
    "version": 3
   },
   "file_extension": ".py",
   "mimetype": "text/x-python",
   "name": "python",
   "nbconvert_exporter": "python",
   "pygments_lexer": "ipython3",
   "version": "3.5.0"
  }
 },
 "nbformat": 4,
 "nbformat_minor": 0
}
