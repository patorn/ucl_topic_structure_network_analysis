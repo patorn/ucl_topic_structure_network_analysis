{
 "cells": [
  {
   "cell_type": "code",
   "execution_count": 1,
   "metadata": {
    "collapsed": true
   },
   "outputs": [],
   "source": [
    "%matplotlib inline\n",
    "\n",
    "import matplotlib\n",
    "import matplotlib.pyplot as plt\n",
    "import numpy as np\n",
    "import igraph as ig\n",
    "import lda\n",
    "import os\n",
    "import pdb\n",
    "import nltk\n",
    "import string\n",
    "import json\n",
    "import random\n",
    "import pickle\n",
    "import pandas as pd\n",
    "import seaborn as sns\n",
    "import scipy\n",
    "\n",
    "from IPython.display import clear_output\n",
    "from os import makedirs\n",
    "from os.path import join, exists\n",
    "from sklearn.metrics.pairwise import cosine_similarity"
   ]
  },
  {
   "cell_type": "code",
   "execution_count": 2,
   "metadata": {
    "collapsed": true
   },
   "outputs": [],
   "source": [
    "import logging\n",
    "logging.basicConfig(format='%(asctime)s : %(levelname)s : %(message)s', level=logging.INFO)\n",
    "logging.root.level = logging.INFO"
   ]
  },
  {
   "cell_type": "code",
   "execution_count": 3,
   "metadata": {
    "collapsed": true
   },
   "outputs": [],
   "source": [
    "INPUT_DIR = join('tmp', 'parsed')\n",
    "OUTPUT_DIR = join('tmp')\n",
    "makedirs(OUTPUT_DIR, exist_ok=True)"
   ]
  },
  {
   "cell_type": "code",
   "execution_count": 4,
   "metadata": {
    "collapsed": true
   },
   "outputs": [],
   "source": [
    "np.random.seed(1234)"
   ]
  },
  {
   "cell_type": "code",
   "execution_count": 5,
   "metadata": {
    "collapsed": true
   },
   "outputs": [],
   "source": [
    "from nltk.stem.porter import PorterStemmer\n",
    "\n",
    "def tokenize(text):\n",
    "    tokens = nltk.word_tokenize(text)\n",
    "    stems = []\n",
    "    for item in tokens:\n",
    "        stems.append(PorterStemmer().stem(item))\n",
    "    return stems"
   ]
  },
  {
   "cell_type": "code",
   "execution_count": 193,
   "metadata": {
    "collapsed": true
   },
   "outputs": [],
   "source": [
    "import math\n",
    "\n",
    "def intra_cluster_similarity(vectors):\n",
    "    matx = scipy.sparse.vstack((vectors))\n",
    "    return np.sum(cosine_similarity(matx, matx)) / math.pow(len(vectors), 2)"
   ]
  },
  {
   "cell_type": "code",
   "execution_count": 194,
   "metadata": {
    "collapsed": true
   },
   "outputs": [],
   "source": [
    "def intra_cluster_overall_similarity(vectors):\n",
    "    similarity_topics = {}\n",
    "    for k, values in vectors.items():\n",
    "        if len(values) > 0:\n",
    "            similarity_topics[k] = intra_cluster_similarity(values)\n",
    "\n",
    "    return sum(similarity_topics.values()) / len(similarity_topics.values())"
   ]
  },
  {
   "cell_type": "code",
   "execution_count": null,
   "metadata": {
    "collapsed": true
   },
   "outputs": [],
   "source": [
    "def inter_cluster_overall_similarity(vectors):\n",
    "    similarity_topics = {}\n",
    "    for k, values in vectors.items():\n",
    "        if len(values) > 0:\n",
    "            matx = scipy.sparse.vstack((values))\n",
    "            similarities = []\n",
    "            for k2, values2 in vectors.items():\n",
    "                if len(values) > 0 & k != k2:\n",
    "                    matx2 = scipy.sparse.vstack((values2))\n",
    "                    similarities.append(cosine_similarity(matx, matx2))\n",
    "            similarity_topics[k] = np.average(similarities)\n",
    "\n",
    "    return sum(similarity_topics.values()) / len(similarity_topics.values())"
   ]
  },
  {
   "cell_type": "code",
   "execution_count": 6,
   "metadata": {
    "collapsed": false
   },
   "outputs": [
    {
     "name": "stdout",
     "output_type": "stream",
     "text": [
      "Building vocabulary...\n",
      "9086\n"
     ]
    }
   ],
   "source": [
    "print(\"Building vocabulary...\")\n",
    "\n",
    "docs = {}\n",
    "doc_tokens = {}\n",
    "for fname in os.listdir(INPUT_DIR):\n",
    "    if fname != '.DS_Store':\n",
    "        with open(join(INPUT_DIR, fname), 'r') as f:\n",
    "            doc = json.load(f)\n",
    "            docs[doc['id']] = doc\n",
    "            text = doc['body']\n",
    "            table = str.maketrans({key: None for key in string.punctuation})\n",
    "            text = text.lower().translate(table)\n",
    "            doc_tokens[doc['id']] = text\n",
    "\n",
    "token_keys = [x[0] for x in doc_tokens.items()]\n",
    "token_values = [x[1] for x in doc_tokens.items()]\n",
    "print(len(doc_tokens.items()))"
   ]
  },
  {
   "cell_type": "markdown",
   "metadata": {},
   "source": [
    "# TF-IDF Vectorizer"
   ]
  },
  {
   "cell_type": "code",
   "execution_count": 7,
   "metadata": {
    "collapsed": false
   },
   "outputs": [
    {
     "name": "stdout",
     "output_type": "stream",
     "text": [
      "Processing TF-IDF\n",
      "(9086, 141273)\n"
     ]
    }
   ],
   "source": [
    "from sklearn.feature_extraction.text import TfidfVectorizer\n",
    "\n",
    "print(\"Processing TF-IDF\")\n",
    "\n",
    "vectorizer_tfidf = TfidfVectorizer(tokenizer=tokenize, norm='l2', stop_words='english')\n",
    "X_tfidf = vectorizer_tfidf.fit_transform(token_values)\n",
    "\n",
    "print(X_tfidf.shape)"
   ]
  },
  {
   "cell_type": "markdown",
   "metadata": {},
   "source": [
    "# Add Keywords to docs"
   ]
  },
  {
   "cell_type": "code",
   "execution_count": 954,
   "metadata": {
    "collapsed": true
   },
   "outputs": [],
   "source": [
    "def top_tfidf_feats(row, features, top_n=25):\n",
    "    ''' Get top n tfidf values in row and return them with their corresponding feature names.'''\n",
    "    topn_ids = np.argsort(row)[::-1][:top_n]\n",
    "    top_feats = [(features[i], row[i]) for i in topn_ids]\n",
    "    df = pd.DataFrame(top_feats)\n",
    "    df.columns = ['feature', 'tfidf']\n",
    "    return df"
   ]
  },
  {
   "cell_type": "code",
   "execution_count": 955,
   "metadata": {
    "collapsed": true
   },
   "outputs": [],
   "source": [
    "def top_feats_in_doc(Xtr, features, row_id, top_n=25):\n",
    "    ''' Top tfidf features in specific document (matrix row) '''\n",
    "    row = np.squeeze(Xtr[row_id].toarray())\n",
    "    return top_tfidf_feats(row, features, top_n)"
   ]
  },
  {
   "cell_type": "code",
   "execution_count": 976,
   "metadata": {
    "collapsed": false
   },
   "outputs": [
    {
     "name": "stdout",
     "output_type": "stream",
     "text": [
      "       feature     tfidf\n",
      "0         bull  0.337933\n",
      "1       soccer  0.239934\n",
      "2          red  0.209805\n",
      "3         citi  0.193355\n",
      "4      glidden  0.188261\n",
      "5          nyc  0.183386\n",
      "6           fc  0.167634\n",
      "7       jersey  0.164249\n",
      "8           ml  0.163835\n",
      "9          fan  0.160802\n",
      "10        team  0.159903\n",
      "11        york  0.152018\n",
      "12     stadium  0.148256\n",
      "13       yanke  0.146709\n",
      "14       city’  0.145608\n",
      "15    ferrezza  0.141195\n",
      "16         esc  0.135119\n",
      "17     support  0.133098\n",
      "18         new  0.128757\n",
      "19       derbi  0.127820\n",
      "20        club  0.111208\n",
      "21      hudson  0.097068\n",
      "22       river  0.089162\n",
      "23     rivalri  0.088795\n",
      "24           –  0.085512\n",
      "25       giant  0.083519\n",
      "26      derby’  0.078050\n",
      "27        rail  0.076293\n",
      "28       sport  0.069485\n",
      "29      subway  0.066429\n",
      "30        play  0.065766\n",
      "31      yorker  0.064453\n",
      "32       metro  0.060317\n",
      "33    harrison  0.059349\n",
      "34     inaugur  0.059196\n",
      "35         say  0.059004\n",
      "36  overshadow  0.058467\n",
      "37   manhattan  0.057919\n",
      "38     league’  0.057656\n",
      "39        tide  0.055770\n",
      "40     borough  0.054558\n",
      "41       arena  0.052424\n",
      "42    franchis  0.051402\n",
      "43      modest  0.050602\n",
      "44       villa  0.050538\n",
      "45       group  0.048971\n",
      "46        mlss  0.047065\n",
      "47     “thirst  0.047065\n",
      "48  1000member  0.047065\n",
      "49    rivalry’  0.047065\n"
     ]
    }
   ],
   "source": [
    "for i, key in enumerate(token_keys):\n",
    "    print('{0}\\r'.format(i/len(token_keys)))\n",
    "    clear_output(wait=True)\n",
    "    docs[key]['keywords'] = top_feats_in_doc(X_tfidf, vectorizer_tfidf.get_feature_names(), i, 50)\n",
    "    \n",
    "print(docs['2016-05-20-28']['keywords'])"
   ]
  },
  {
   "cell_type": "markdown",
   "metadata": {},
   "source": [
    "# Add Vector to docs"
   ]
  },
  {
   "cell_type": "code",
   "execution_count": null,
   "metadata": {
    "collapsed": false
   },
   "outputs": [],
   "source": [
    "for i, key in enumerate(token_keys):\n",
    "    docs[key]['tfidf'] = X_tfidf[i]\n",
    "\n",
    "docs['2016-05-20-28']['tfidf']"
   ]
  },
  {
   "cell_type": "markdown",
   "metadata": {},
   "source": [
    "# Save & Load Docs"
   ]
  },
  {
   "cell_type": "code",
   "execution_count": 57,
   "metadata": {
    "collapsed": true
   },
   "outputs": [],
   "source": [
    "pickle.dump(docs, open('tmp/docs.pickle', 'wb'))"
   ]
  },
  {
   "cell_type": "code",
   "execution_count": 8,
   "metadata": {
    "collapsed": false
   },
   "outputs": [
    {
     "data": {
      "text/plain": [
       "dict_keys(['authors', 'mod_topic', 'lda_matrix', 'lda', 'apiUrl', 'keywords', 'webTitle', 'tfidf', 'id', 'lda_value', 'webUrl', 'sectionId', 'body_t', 'body', 'guardianId', 'webPublicationDate', 'ents'])"
      ]
     },
     "execution_count": 8,
     "metadata": {},
     "output_type": "execute_result"
    }
   ],
   "source": [
    "docs = pickle.load(open('tmp/docs.pickle', 'rb'))\n",
    "\n",
    "docs['2016-05-20-28'].keys()"
   ]
  },
  {
   "cell_type": "markdown",
   "metadata": {},
   "source": [
    "# Build the graph from scratch"
   ]
  },
  {
   "cell_type": "code",
   "execution_count": null,
   "metadata": {
    "collapsed": false
   },
   "outputs": [],
   "source": [
    "g = ig.Graph()\n",
    "for i, key in enumerate(token_keys):\n",
    "    g.add_vertices(key)\n",
    "    \n",
    "print(g.vcount())"
   ]
  },
  {
   "cell_type": "code",
   "execution_count": null,
   "metadata": {
    "collapsed": false
   },
   "outputs": [],
   "source": [
    "g.delete_edges(g.es)\n",
    "edges = []\n",
    "for i, source in enumerate(token_keys):\n",
    "    print('{0}\\r'.format(i/len(token_keys)))\n",
    "    clear_output(wait=True)\n",
    "    for j, target in enumerate(token_keys):\n",
    "        edges.append((source, target))\n",
    "            \n",
    "g.add_edges(edges)  \n",
    "edges = [] \n",
    "print(g.ecount())"
   ]
  },
  {
   "cell_type": "code",
   "execution_count": null,
   "metadata": {
    "collapsed": false
   },
   "outputs": [],
   "source": [
    "from sklearn.metrics.pairwise import cosine_similarity\n",
    "\n",
    "count = 0\n",
    "for i, source in enumerate(token_keys):\n",
    "    similarities = cosine_similarity(X_tfidf[i], X_tfidf)[0]\n",
    "    print('{0}\\r'.format(i/len(token_keys)))\n",
    "    clear_output(wait=True)\n",
    "    for j, target in enumerate(token_keys):            \n",
    "        g.es[count][\"weight\"] = similarities[j]\n",
    "        count += 1\n",
    "\n",
    "print(g.ecount())"
   ]
  },
  {
   "cell_type": "markdown",
   "metadata": {},
   "source": [
    "Remove duplicated and self-loop edges"
   ]
  },
  {
   "cell_type": "code",
   "execution_count": null,
   "metadata": {
    "collapsed": false
   },
   "outputs": [],
   "source": [
    "g.simplify(multiple=True, loops=True, combine_edges=\"max\")\n",
    "print(g.ecount())"
   ]
  },
  {
   "cell_type": "code",
   "execution_count": null,
   "metadata": {
    "collapsed": false
   },
   "outputs": [],
   "source": [
    "g.es[1]['weight']"
   ]
  },
  {
   "cell_type": "code",
   "execution_count": null,
   "metadata": {
    "collapsed": true
   },
   "outputs": [],
   "source": [
    "g.write_gml('tmp/igraph.gml')"
   ]
  },
  {
   "cell_type": "code",
   "execution_count": null,
   "metadata": {
    "collapsed": false
   },
   "outputs": [],
   "source": [
    "g = ig.Graph.Read_GML('tmp/igraph.gml')"
   ]
  },
  {
   "cell_type": "code",
   "execution_count": null,
   "metadata": {
    "collapsed": false
   },
   "outputs": [],
   "source": [
    "sub_g = g.es.select(weight_ge=0.1).subgraph()"
   ]
  },
  {
   "cell_type": "code",
   "execution_count": null,
   "metadata": {
    "collapsed": false
   },
   "outputs": [],
   "source": [
    "print(\"Nodes {}\".format(sub_g.vcount()))\n",
    "print(\"Edges {}\".format(sub_g.ecount()))"
   ]
  },
  {
   "cell_type": "code",
   "execution_count": null,
   "metadata": {
    "collapsed": false
   },
   "outputs": [],
   "source": [
    "print(sub_g.vs[1])\n",
    "print(sub_g.vs[3])"
   ]
  },
  {
   "cell_type": "code",
   "execution_count": null,
   "metadata": {
    "collapsed": true
   },
   "outputs": [],
   "source": [
    "sub_g.write_gml('tmp/subgraph_01.gml')"
   ]
  },
  {
   "cell_type": "markdown",
   "metadata": {},
   "source": [
    "# Load Network"
   ]
  },
  {
   "cell_type": "code",
   "execution_count": 10,
   "metadata": {
    "collapsed": false
   },
   "outputs": [],
   "source": [
    "g = ig.Graph.Read_GML('tmp/subgraph_01.gml')"
   ]
  },
  {
   "cell_type": "code",
   "execution_count": 13,
   "metadata": {
    "collapsed": true
   },
   "outputs": [],
   "source": [
    "def network_properties(g, community):\n",
    "    print(\"Nodes {}\".format(g.vcount()))\n",
    "    print(\"Edges {}\".format(g.ecount()))\n",
    "    print(\"Diameter {}\".format(g.diameter()))\n",
    "    print(\"LCC {}\".format(g.clusters().giant().vcount()))\n",
    "    print(\"APL {}\".format(g.average_path_length()))\n",
    "    print(\"AD {}\".format(sum(g.degree())/len(g.degree())))\n",
    "    print(\"Giant Size {}\".format(len(community.giant().vs())))\n",
    "    print(\"NO of Communities {}\".format(max(community.membership) + 1))\n",
    "    print(\"Modularity {}\".format(g.modularity(community.membership)))"
   ]
  },
  {
   "cell_type": "code",
   "execution_count": 14,
   "metadata": {
    "collapsed": false
   },
   "outputs": [
    {
     "data": {
      "text/plain": [
       "0.032318418979897949"
      ]
     },
     "execution_count": 14,
     "metadata": {},
     "output_type": "execute_result"
    }
   ],
   "source": [
    "threshold = np.average(cosine_similarity(X_tfidf))\n",
    "threshold"
   ]
  },
  {
   "cell_type": "code",
   "execution_count": 80,
   "metadata": {
    "collapsed": true
   },
   "outputs": [],
   "source": [
    "sg = g.es.select(weight_ge=0.1).subgraph()"
   ]
  },
  {
   "cell_type": "code",
   "execution_count": 81,
   "metadata": {
    "collapsed": false
   },
   "outputs": [
    {
     "name": "stdout",
     "output_type": "stream",
     "text": [
      "Nodes 9048\n",
      "Edges 708573\n",
      "Diameter 7\n",
      "LCC 9036\n",
      "APL 2.638845668800883\n",
      "AD 156.62533156498674\n",
      "Giant Size 3243\n",
      "NO of Communities 17\n",
      "Modularity 0.4965933914218401\n"
     ]
    }
   ],
   "source": [
    "# community = sg.community_infomap(edge_weights='weight')\n",
    "# community = sg.community_multilevel(weights='weight')\n",
    "community = sg.community_leading_eigenvector(weights='weight')\n",
    "network_properties(sg, community)"
   ]
  },
  {
   "cell_type": "code",
   "execution_count": 77,
   "metadata": {
    "collapsed": false
   },
   "outputs": [],
   "source": [
    "topics = {}\n",
    "\n",
    "for i in range(max(community.membership) + 1):\n",
    "    for v in community.subgraph(i).vs():\n",
    "        topic_no = i\n",
    "        try:\n",
    "            topics[topic_no]\n",
    "        except KeyError:\n",
    "            topics[topic_no] = []\n",
    "\n",
    "        topics[topic_no].append(docs[v['name']]['tfidf'])"
   ]
  },
  {
   "cell_type": "code",
   "execution_count": 74,
   "metadata": {
    "collapsed": false
   },
   "outputs": [
    {
     "name": "stdout",
     "output_type": "stream",
     "text": [
      "Overall Similarity {} 1.0\n",
      "Overall Similarity Top 10 {} 1.0\n",
      "Overall Similarity Top 30 {} 1.0\n",
      "Overall Similarity Top 100 {} 1.0\n",
      "Network Communities Modularity 0.83984375\n"
     ]
    }
   ],
   "source": [
    "print(\"Overall Similarity {}\", intra_cluster_overall_similarity(topics))\n",
    "print(\"Overall Similarity Top 10 {}\", intra_cluster_overall_similarity({k: v for k, v in topics.items() if k <= 10}))\n",
    "print(\"Overall Similarity Top 30 {}\", intra_cluster_overall_similarity({k: v for k, v in topics.items() if k <= 30}))\n",
    "print(\"Overall Similarity Top 100 {}\", intra_cluster_overall_similarity({k: v for k, v in topics.items() if k <= 100}))\n",
    "print(\"Network Communities Modularity {}\".format(sg.modularity(community.membership)))"
   ]
  },
  {
   "cell_type": "markdown",
   "metadata": {},
   "source": [
    "## Show contents of communities"
   ]
  },
  {
   "cell_type": "code",
   "execution_count": 21,
   "metadata": {
    "collapsed": false,
    "scrolled": false
   },
   "outputs": [],
   "source": [
    "with open('tmp/network_docs.txt', 'w+') as file:\n",
    "    for i in range(max(community.membership) + 1):\n",
    "        for v in community.subgraph(i).vs():\n",
    "            file.write(\"Topic:{} File:{} Title:{}\\n\".format(i, v['name'], docs[v['name']]['webTitle']))"
   ]
  },
  {
   "cell_type": "markdown",
   "metadata": {},
   "source": [
    "# Network Size Chart"
   ]
  },
  {
   "cell_type": "code",
   "execution_count": 39,
   "metadata": {
    "collapsed": false
   },
   "outputs": [],
   "source": [
    "def network_to_topics(com):\n",
    "    topics = {}\n",
    "\n",
    "    for i in range(max(com.membership) + 1):\n",
    "        for v in com.subgraph(i).vs():\n",
    "            topic_no = i\n",
    "            try:\n",
    "                topics[topic_no]\n",
    "            except KeyError:\n",
    "                topics[topic_no] = []\n",
    "\n",
    "            topics[topic_no].append(v['name'])\n",
    "    \n",
    "    net_topics = {}\n",
    "    count = 1\n",
    "    for key, value in sorted(topics.items(), key=lambda x: len(x[1]), reverse=True):\n",
    "        net_topics[count] = value\n",
    "        count += 1\n",
    "        \n",
    "    return net_topics"
   ]
  },
  {
   "cell_type": "code",
   "execution_count": 40,
   "metadata": {
    "collapsed": true
   },
   "outputs": [],
   "source": [
    "net_topics = network_to_topics(community)"
   ]
  },
  {
   "cell_type": "code",
   "execution_count": 53,
   "metadata": {
    "collapsed": false
   },
   "outputs": [
    {
     "data": {
      "text/plain": [
       "dict_keys(['guardianId', 'lda_topic', 'keywords', 'webPublicationDate', 'ents', 'lda_matrix', 'webTitle', 'id', 'tfidf', 'webUrl', 'authors', 'body', 'sectionId', 'mod_topic', 'apiUrl', 'lda', 'lda_value', 'body_t'])"
      ]
     },
     "execution_count": 53,
     "metadata": {},
     "output_type": "execute_result"
    }
   ],
   "source": [
    "for key, value in net_topics.items():\n",
    "    for v in value:\n",
    "        docs[v]['mod_topic'] = key\n",
    "\n",
    "docs['2016-05-20-284'].keys()"
   ]
  },
  {
   "cell_type": "code",
   "execution_count": 16,
   "metadata": {
    "collapsed": false,
    "scrolled": true
   },
   "outputs": [],
   "source": [
    "def community_to_size_chart(net_topics):\n",
    "    x_data = []\n",
    "    y_data = []\n",
    "    for key, value in net_topics.items():\n",
    "        x_data.append(key)\n",
    "        y_data.append(len(value))\n",
    "\n",
    "    ind = np.arange(0, len(y_data) * 2, 2)\n",
    "    fig = plt.figure(figsize=(60,10))\n",
    "    plt.bar(ind, y_data)\n",
    "    plt.xticks(ind, x_data, rotation=90)\n",
    "    plt.title(\"Topic Document Distribution\")\n",
    "    plt.xlabel(\"Topic\")\n",
    "    plt.ylabel(\"Frequency\")\n",
    "    fig.savefig('tmp/size_chart_net.png')\n",
    "    plt.show()"
   ]
  },
  {
   "cell_type": "code",
   "execution_count": 17,
   "metadata": {
    "collapsed": false
   },
   "outputs": [
    {
     "data": {
      "image/png": "[encoded data removed]",
      "text/plain": [
       "<matplotlib.figure.Figure at 0x10b8eb5f8>"
      ]
     },
     "metadata": {},
     "output_type": "display_data"
    }
   ],
   "source": [
    "community_to_size_chart(net_topics)"
   ]
  },
  {
   "cell_type": "code",
   "execution_count": 396,
   "metadata": {
    "collapsed": false
   },
   "outputs": [
    {
     "data": {
      "image/png": "[encoded data removed]",
      "text/plain": [
       "<matplotlib.figure.Figure at 0x120f780f0>"
      ]
     },
     "metadata": {},
     "output_type": "display_data"
    }
   ],
   "source": [
    "import scipy.stats as stats\n",
    "\n",
    "def topics_to_prob_dist(topics):\n",
    "    x_data = []\n",
    "    y_data = []\n",
    "    for key, value in topics.items():\n",
    "        x_data.append(key)\n",
    "        y_data.append(len(value))\n",
    "\n",
    "    df = pd.DataFrame(y_data)\n",
    "    # df.hist(weights=np.ones_like(df[df.columns[0]]*100.)/len(df))\n",
    "\n",
    "    plt.hist(df, log=True, weights=np.ones_like(df[df.columns[0]]*100.)/len(df))\n",
    "    plt.xlabel(\"Topic Size\")\n",
    "    plt.ylabel(\"Probability\")\n",
    "    \n",
    "topics_to_prob_dist(net_topics)"
   ]
  },
  {
   "cell_type": "markdown",
   "metadata": {},
   "source": [
    "# LDA"
   ]
  },
  {
   "cell_type": "code",
   "execution_count": 82,
   "metadata": {
    "collapsed": true
   },
   "outputs": [],
   "source": [
    "from gensim import matutils\n",
    "from gensim.models.ldamodel import LdaModel"
   ]
  },
  {
   "cell_type": "code",
   "execution_count": 83,
   "metadata": {
    "collapsed": false
   },
   "outputs": [
    {
     "name": "stdout",
     "output_type": "stream",
     "text": [
      "Processing Count\n",
      "(9086, 141273)\n"
     ]
    }
   ],
   "source": [
    "from sklearn.feature_extraction.text import CountVectorizer\n",
    "\n",
    "print(\"Processing Count\")\n",
    "\n",
    "vectorizer = CountVectorizer(tokenizer=tokenize, stop_words='english')\n",
    "X_count = vectorizer.fit_transform(token_values)\n",
    "\n",
    "print(X_count.shape)"
   ]
  },
  {
   "cell_type": "code",
   "execution_count": 84,
   "metadata": {
    "collapsed": true
   },
   "outputs": [],
   "source": [
    "vocab = vectorizer.get_feature_names()"
   ]
  },
  {
   "cell_type": "code",
   "execution_count": 172,
   "metadata": {
    "collapsed": false
   },
   "outputs": [],
   "source": [
    "def data_to_folds(data, k):\n",
    "  folds = []\n",
    "\n",
    "  for i in range(k):\n",
    "    fold = []\n",
    "    for j in range(i, data.shape[0], k):\n",
    "      fold.append(data[j])\n",
    "    folds.append(fold)\n",
    "\n",
    "  return folds\n",
    "\n",
    "folds = data_to_folds(X_count, 5)"
   ]
  },
  {
   "cell_type": "code",
   "execution_count": 173,
   "metadata": {
    "collapsed": true
   },
   "outputs": [],
   "source": [
    "# Partition data to train and test sets\n",
    "# return list train data, list of test data\n",
    "def split_folds(folds, i):\n",
    "  train = folds[:i] + folds[i+1:]\n",
    "  train = [x for data in train for x in data] # Flatten\n",
    "  train = scipy.sparse.vstack((X_count_train))\n",
    "  test = scipy.sparse.vstack(folds[i])\n",
    "  \n",
    "  return train, test"
   ]
  },
  {
   "cell_type": "code",
   "execution_count": 174,
   "metadata": {
    "collapsed": false
   },
   "outputs": [
    {
     "data": {
      "text/plain": [
       "(7268, 141273)"
      ]
     },
     "execution_count": 174,
     "metadata": {},
     "output_type": "execute_result"
    }
   ],
   "source": [
    "X_count_train.shape"
   ]
  },
  {
   "cell_type": "markdown",
   "metadata": {},
   "source": [
    "## Run LDA"
   ]
  },
  {
   "cell_type": "code",
   "execution_count": 182,
   "metadata": {
    "collapsed": false
   },
   "outputs": [
    {
     "name": "stdout",
     "output_type": "stream",
     "text": [
      "Fold  0\n",
      "Fold  1\n",
      "Fold  2\n",
      "Fold  3\n",
      "Fold  4\n"
     ]
    }
   ],
   "source": [
    "np.random.seed(1234)\n",
    "\n",
    "train_log_preps = []\n",
    "test_log_preps = []\n",
    "train_preps = []\n",
    "test_preps = []\n",
    "\n",
    "for i in range(len(folds)):\n",
    "    print(\"Fold \", i)\n",
    "    X_count_train, X_count_test = split_folds(folds, i)\n",
    "    train_corpus = matutils.Sparse2Corpus(X_count_train.T)\n",
    "    test_corpus = matutils.Sparse2Corpus(X_count_test.T)\n",
    "    \n",
    "    lda_model = LdaModel(train_corpus, \n",
    "                    num_topics=75,\n",
    "                    passes=10,\n",
    "                    id2word=dict([(i, s) for i, s in enumerate(vocab)]))\n",
    "    \n",
    "    train_log_prep_gensim = lda_model.log_perplexity(train_corpus)\n",
    "    test_log_prep_gensim = lda_model.log_perplexity(test_corpus)\n",
    "    train_preplexity_gensim = np.exp2(-train_log_prep_gensim)\n",
    "    test_preplexity_gensim = np.exp2(-test_log_prep_gensim)\n",
    "    \n",
    "    train_log_preps.append(train_log_prep_gensim)\n",
    "    test_log_preps.append(test_log_prep_gensim)\n",
    "    train_preps.append(train_preplexity_gensim)\n",
    "    test_preps.append(test_preplexity_gensim)"
   ]
  },
  {
   "cell_type": "code",
   "execution_count": 183,
   "metadata": {
    "collapsed": false
   },
   "outputs": [
    {
     "name": "stdout",
     "output_type": "stream",
     "text": [
      "[-8.9106299093654791, -8.9098162732451858, -8.9047418496261095, -8.9032417212493122, -8.9098987997118773]\n",
      "[-13.209182504215462, -10.867430794339647, -10.81480166913731, -10.896878313290888, -10.787577371961579]\n",
      "[481.24572319251183, 480.97439176131553, 479.28562146342784, 478.78751461192962, 481.00190572046853]\n",
      "[9470.2218290010333, 1868.1968905482852, 1801.2736649127221, 1906.7213583857463, 1767.6015328472072]\n"
     ]
    }
   ],
   "source": [
    "print(train_log_preps)\n",
    "print(test_log_preps)\n",
    "print(train_preps)\n",
    "print(test_preps)"
   ]
  },
  {
   "cell_type": "code",
   "execution_count": 507,
   "metadata": {
    "collapsed": true
   },
   "outputs": [],
   "source": [
    "lda_model = LdaModel(matutils.Sparse2Corpus(X_count.T), \n",
    "                num_topics=10,\n",
    "                passes=10,\n",
    "                id2word=dict([(i, s) for i, s in enumerate(vocab)]))"
   ]
  },
  {
   "cell_type": "code",
   "execution_count": 508,
   "metadata": {
    "collapsed": true
   },
   "outputs": [],
   "source": [
    "pickle.dump(lda_model, open('tmp/gensim_lda_10_10.pickle', 'wb'))"
   ]
  },
  {
   "cell_type": "markdown",
   "metadata": {},
   "source": [
    "## Load LDA"
   ]
  },
  {
   "cell_type": "code",
   "execution_count": 356,
   "metadata": {
    "collapsed": false
   },
   "outputs": [
    {
     "ename": "FileNotFoundError",
     "evalue": "[Errno 2] No such file or directory: 'tmp/gensim_lda_50_10.pickle'",
     "output_type": "error",
     "traceback": [
      "\u001b[0;31m---------------------------------------------------------------------------\u001b[0m",
      "\u001b[0;31mFileNotFoundError\u001b[0m                         Traceback (most recent call last)",
      "\u001b[0;32m<ipython-input-356-f57e6874ce6a>\u001b[0m in \u001b[0;36m<module>\u001b[0;34m()\u001b[0m\n\u001b[0;32m----> 1\u001b[0;31m \u001b[0mlda_model\u001b[0m \u001b[0;34m=\u001b[0m \u001b[0mpickle\u001b[0m\u001b[0;34m.\u001b[0m\u001b[0mload\u001b[0m\u001b[0;34m(\u001b[0m\u001b[0mopen\u001b[0m\u001b[0;34m(\u001b[0m\u001b[0;34m'tmp/gensim_lda_50_10.pickle'\u001b[0m\u001b[0;34m,\u001b[0m \u001b[0;34m'rb'\u001b[0m\u001b[0;34m)\u001b[0m\u001b[0;34m)\u001b[0m\u001b[0;34m\u001b[0m\u001b[0m\n\u001b[0m",
      "\u001b[0;31mFileNotFoundError\u001b[0m: [Errno 2] No such file or directory: 'tmp/gensim_lda_50_10.pickle'"
     ]
    }
   ],
   "source": [
    "lda_model = pickle.load(open('tmp/gensim_lda_250_50.pickle', 'rb'))"
   ]
  },
  {
   "cell_type": "code",
   "execution_count": 509,
   "metadata": {
    "collapsed": false
   },
   "outputs": [
    {
     "name": "stdout",
     "output_type": "stream",
     "text": [
      "9086\n"
     ]
    }
   ],
   "source": [
    "doc_topic_prob_mat = lda_model[matutils.Sparse2Corpus(X_count.T)]\n",
    "print(len(doc_topic_prob_mat))"
   ]
  },
  {
   "cell_type": "code",
   "execution_count": 510,
   "metadata": {
    "collapsed": false
   },
   "outputs": [
    {
     "name": "stdout",
     "output_type": "stream",
     "text": [
      "0.9998899405679067\r\n"
     ]
    }
   ],
   "source": [
    "for i, mat in enumerate(doc_topic_prob_mat):\n",
    "    print('{0}\\r'.format(i/len(doc_topic_prob_mat)))\n",
    "    clear_output(wait=True)\n",
    "    max_prob = max(mat, key=lambda x: x[1])\n",
    "    docs[token_keys[i]]['lda'] = max_prob[0]\n",
    "    docs[token_keys[i]]['lda_value'] = max_prob[1]"
   ]
  },
  {
   "cell_type": "code",
   "execution_count": 511,
   "metadata": {
    "collapsed": false
   },
   "outputs": [],
   "source": [
    "pickle.dump(docs, open('tmp/docs_lda_10_10.pickle', 'wb'))"
   ]
  },
  {
   "cell_type": "code",
   "execution_count": 454,
   "metadata": {
    "collapsed": false
   },
   "outputs": [],
   "source": [
    "docs = pickle.load(open('tmp/docs_lda_250_50.pickle', 'rb'))"
   ]
  },
  {
   "cell_type": "code",
   "execution_count": 512,
   "metadata": {
    "collapsed": true
   },
   "outputs": [],
   "source": [
    "lda_items = sorted(docs.items(), key=lambda x: x[1]['lda'])"
   ]
  },
  {
   "cell_type": "code",
   "execution_count": 513,
   "metadata": {
    "collapsed": false
   },
   "outputs": [],
   "source": [
    "d = list(map(lambda x: x[1]['lda_value'], docs.items()))"
   ]
  },
  {
   "cell_type": "code",
   "execution_count": 514,
   "metadata": {
    "collapsed": false
   },
   "outputs": [
    {
     "data": {
      "text/plain": [
       "0.62621274093671186"
      ]
     },
     "execution_count": 514,
     "metadata": {},
     "output_type": "execute_result"
    }
   ],
   "source": [
    "d_avg = np.average(d)\n",
    "d_avg"
   ]
  },
  {
   "cell_type": "code",
   "execution_count": 515,
   "metadata": {
    "collapsed": false
   },
   "outputs": [
    {
     "data": {
      "text/plain": [
       "8842"
      ]
     },
     "execution_count": 515,
     "metadata": {},
     "output_type": "execute_result"
    }
   ],
   "source": [
    "sum(1 for x in d if x >= d_avg/2)"
   ]
  },
  {
   "cell_type": "code",
   "execution_count": 403,
   "metadata": {
    "collapsed": false
   },
   "outputs": [],
   "source": [
    "with open('tmp/lda_docs.txt', 'w+') as file:\n",
    "    for item in lda_items:\n",
    "        file.write(\"Topic:{} File:{} Title:{}\\n\".format(item[1]['lda'], item[0], item[1]['webTitle']))"
   ]
  },
  {
   "cell_type": "markdown",
   "metadata": {},
   "source": [
    "# LDA Size Chart"
   ]
  },
  {
   "cell_type": "code",
   "execution_count": 516,
   "metadata": {
    "collapsed": true
   },
   "outputs": [],
   "source": [
    "def lda_to_topics(lda_items):\n",
    "    topics = {}\n",
    "\n",
    "    for i in range(300):\n",
    "        topics[i] = []\n",
    "\n",
    "    for item in lda_items:\n",
    "        topic_no = item[1]['lda']\n",
    "        if item[1]['lda_value'] >= 0.0:\n",
    "            topics[topic_no].append(item[0])\n",
    "\n",
    "    lda_topics = {}\n",
    "    count = 1\n",
    "    for key, value in sorted(topics.items(), key=lambda x: len(x[1]), reverse=True):\n",
    "        lda_topics[count] = value\n",
    "        count += 1\n",
    "        \n",
    "    return lda_topics"
   ]
  },
  {
   "cell_type": "code",
   "execution_count": 517,
   "metadata": {
    "collapsed": false
   },
   "outputs": [],
   "source": [
    "def lda_to_size_chart(lda_topics):\n",
    "    print(len(lda_topics.keys()))\n",
    "\n",
    "    x_data = []\n",
    "    y_data = []\n",
    "    for key, value in lda_topics.items():\n",
    "        x_data.append(key)\n",
    "        y_data.append(len(value))\n",
    "\n",
    "    ind = np.arange(0, len(y_data) * 2, 2)\n",
    "    fig = plt.figure(figsize=(60,10))\n",
    "    plt.bar(ind, y_data)\n",
    "    plt.xticks(ind, x_data, rotation=90)\n",
    "    plt.title(\"LDA Topic Document Distribution\")\n",
    "    plt.xlabel(\"Topic\")\n",
    "    plt.ylabel(\"Frequency\")\n",
    "    fig.savefig('tmp/size_chart_lda.png')\n",
    "    plt.show()"
   ]
  },
  {
   "cell_type": "code",
   "execution_count": 518,
   "metadata": {
    "collapsed": false
   },
   "outputs": [],
   "source": [
    "lda_items = sorted(docs.items(), key=lambda x: x[1]['lda'])\n",
    "lda_topics = lda_to_topics(lda_items)"
   ]
  },
  {
   "cell_type": "code",
   "execution_count": 502,
   "metadata": {
    "collapsed": false
   },
   "outputs": [
    {
     "data": {
      "text/plain": [
       "dict_keys(['authors', 'lcm_topic', 'lda_topic', 'lda_matrix', 'lda', 'keywords', 'webTitle', 'tfidf', 'id', 'lda_value', 'webUrl', 'sectionId', 'body_t', 'apiUrl', 'guardianId', 'webPublicationDate', 'mod_topic', 'ents', 'body'])"
      ]
     },
     "execution_count": 502,
     "metadata": {},
     "output_type": "execute_result"
    }
   ],
   "source": [
    "for key, value in lda_topics.items():\n",
    "    for v in value:\n",
    "        docs[v]['lda_topic'] = key\n",
    "\n",
    "docs['2016-05-20-284'].keys()"
   ]
  },
  {
   "cell_type": "code",
   "execution_count": 503,
   "metadata": {
    "collapsed": false
   },
   "outputs": [
    {
     "name": "stdout",
     "output_type": "stream",
     "text": [
      "50\n"
     ]
    },
    {
     "data": {
      "image/png": "[encoded data removed]",
      "text/plain": [
       "<matplotlib.figure.Figure at 0x1104d7e10>"
      ]
     },
     "metadata": {},
     "output_type": "display_data"
    }
   ],
   "source": [
    "lda_to_size_chart(lda_topics)"
   ]
  },
  {
   "cell_type": "code",
   "execution_count": 504,
   "metadata": {
    "collapsed": false,
    "scrolled": true
   },
   "outputs": [
    {
     "ename": "NameError",
     "evalue": "name 'topics_to_prob_dist' is not defined",
     "output_type": "error",
     "traceback": [
      "\u001b[0;31m---------------------------------------------------------------------------\u001b[0m",
      "\u001b[0;31mNameError\u001b[0m                                 Traceback (most recent call last)",
      "\u001b[0;32m<ipython-input-504-222864315d4e>\u001b[0m in \u001b[0;36m<module>\u001b[0;34m()\u001b[0m\n\u001b[0;32m----> 1\u001b[0;31m \u001b[0mtopics_to_prob_dist\u001b[0m\u001b[0;34m(\u001b[0m\u001b[0mlda_topics\u001b[0m\u001b[0;34m)\u001b[0m\u001b[0;34m\u001b[0m\u001b[0m\n\u001b[0m",
      "\u001b[0;31mNameError\u001b[0m: name 'topics_to_prob_dist' is not defined"
     ]
    }
   ],
   "source": [
    "topics_to_prob_dist(lda_topics)"
   ]
  },
  {
   "cell_type": "code",
   "execution_count": 519,
   "metadata": {
    "collapsed": false
   },
   "outputs": [
    {
     "data": {
      "text/plain": [
       "0.056749728355305187"
      ]
     },
     "execution_count": 519,
     "metadata": {},
     "output_type": "execute_result"
    }
   ],
   "source": [
    "topics = {}\n",
    "\n",
    "for k, vs in lda_topics.items():\n",
    "    topics[k] = []\n",
    "    for v in vs:\n",
    "        topics[k].append(docs[v]['tfidf'])\n",
    "\n",
    "intra_cluster_overall_similarity(topics)"
   ]
  },
  {
   "cell_type": "code",
   "execution_count": 520,
   "metadata": {
    "collapsed": false
   },
   "outputs": [
    {
     "data": {
      "text/plain": [
       "0.033712558039718066"
      ]
     },
     "execution_count": 520,
     "metadata": {},
     "output_type": "execute_result"
    }
   ],
   "source": [
    "intra_cluster_similarity(topics[1])"
   ]
  },
  {
   "cell_type": "code",
   "execution_count": 521,
   "metadata": {
    "collapsed": false
   },
   "outputs": [
    {
     "name": "stdout",
     "output_type": "stream",
     "text": [
      "Overall Similarity Top 10 0.0567497283553\n",
      "Overall Similarity Top 30 0.0567497283553\n",
      "Overall Similarity Top 100 0.0567497283553\n"
     ]
    }
   ],
   "source": [
    "print(\"Overall Similarity Top 10\", intra_cluster_overall_similarity({k: v for k, v in topics.items() if k <= 10}))\n",
    "print(\"Overall Similarity Top 30\", intra_cluster_overall_similarity({k: v for k, v in topics.items() if k <= 30}))\n",
    "print(\"Overall Similarity Top 100\", intra_cluster_overall_similarity({k: v for k, v in topics.items() if k <= 100}))"
   ]
  },
  {
   "cell_type": "markdown",
   "metadata": {},
   "source": [
    "# Heatmap"
   ]
  },
  {
   "cell_type": "code",
   "execution_count": 116,
   "metadata": {
    "collapsed": false
   },
   "outputs": [],
   "source": [
    "def community_to_heatmap_data(network_topics):\n",
    "    d = []\n",
    "    for key, value in sorted(network_topics.items(), key=lambda x: x[0]):\n",
    "        h = {}\n",
    "        for v in value:\n",
    "            h[v] = True\n",
    "        d.append(h)\n",
    "\n",
    "    return(d)"
   ]
  },
  {
   "cell_type": "code",
   "execution_count": 117,
   "metadata": {
    "collapsed": false
   },
   "outputs": [],
   "source": [
    "def lda_topics_to_heatmap_data(lda_topics):\n",
    "    d = []\n",
    "    for key, value in sorted(lda_topics.items(), key=lambda x: x[0]):\n",
    "        h = {}\n",
    "        for v in value:\n",
    "            h[v] = True\n",
    "        d.append(h)\n",
    "        \n",
    "    return d"
   ]
  },
  {
   "cell_type": "code",
   "execution_count": 118,
   "metadata": {
    "collapsed": false
   },
   "outputs": [
    {
     "ename": "NameError",
     "evalue": "name 'lcm_topics' is not defined",
     "output_type": "error",
     "traceback": [
      "\u001b[0;31m---------------------------------------------------------------------------\u001b[0m",
      "\u001b[0;31mNameError\u001b[0m                                 Traceback (most recent call last)",
      "\u001b[0;32m<ipython-input-118-8243e783c92b>\u001b[0m in \u001b[0;36m<module>\u001b[0;34m()\u001b[0m\n\u001b[1;32m      1\u001b[0m \u001b[0mnet_data\u001b[0m \u001b[0;34m=\u001b[0m \u001b[0mcommunity_to_heatmap_data\u001b[0m\u001b[0;34m(\u001b[0m\u001b[0mnet_topics\u001b[0m\u001b[0;34m)\u001b[0m\u001b[0;34m\u001b[0m\u001b[0m\n\u001b[0;32m----> 2\u001b[0;31m \u001b[0mlcm_data\u001b[0m \u001b[0;34m=\u001b[0m \u001b[0mcommunity_to_heatmap_data\u001b[0m\u001b[0;34m(\u001b[0m\u001b[0mlcm_topics\u001b[0m\u001b[0;34m)\u001b[0m\u001b[0;34m\u001b[0m\u001b[0m\n\u001b[0m\u001b[1;32m      3\u001b[0m \u001b[0mlda_data\u001b[0m \u001b[0;34m=\u001b[0m \u001b[0mlda_topics_to_heatmap_data\u001b[0m\u001b[0;34m(\u001b[0m\u001b[0mlda_topics\u001b[0m\u001b[0;34m)\u001b[0m\u001b[0;34m\u001b[0m\u001b[0m\n",
      "\u001b[0;31mNameError\u001b[0m: name 'lcm_topics' is not defined"
     ]
    }
   ],
   "source": [
    "net_data = community_to_heatmap_data(net_topics)\n",
    "lcm_data = community_to_heatmap_data(lcm_topics)\n",
    "lda_data = lda_topics_to_heatmap_data(lda_topics)"
   ]
  },
  {
   "cell_type": "code",
   "execution_count": 987,
   "metadata": {
    "collapsed": false
   },
   "outputs": [
    {
     "name": "stdout",
     "output_type": "stream",
     "text": [
      "(300, 8840)\n"
     ]
    }
   ],
   "source": [
    "from sklearn.feature_extraction import DictVectorizer\n",
    "\n",
    "vectorizer = DictVectorizer()\n",
    "vectors  = lda_data + net_data \n",
    "X_dict = vectorizer.fit_transform(vectors)\n",
    "\n",
    "print(X_dict.shape)"
   ]
  },
  {
   "cell_type": "code",
   "execution_count": 988,
   "metadata": {
    "collapsed": false
   },
   "outputs": [
    {
     "name": "stdout",
     "output_type": "stream",
     "text": [
      "898\n",
      "1041\n",
      "1041\n"
     ]
    }
   ],
   "source": [
    "print(len(lda_data[0].keys()))\n",
    "print(len(net_data[0].keys()))\n",
    "print(np.count_nonzero(X_dict[0].toarray()))"
   ]
  },
  {
   "cell_type": "code",
   "execution_count": 989,
   "metadata": {
    "collapsed": true
   },
   "outputs": [],
   "source": [
    "lda_vectors = X_dict[0:150]\n",
    "net_vectors = X_dict[150:300]"
   ]
  },
  {
   "cell_type": "code",
   "execution_count": 990,
   "metadata": {
    "collapsed": false
   },
   "outputs": [
    {
     "data": {
      "text/plain": [
       "(150, 150)"
      ]
     },
     "execution_count": 990,
     "metadata": {},
     "output_type": "execute_result"
    }
   ],
   "source": [
    "from sklearn.metrics.pairwise import cosine_similarity\n",
    "\n",
    "similarities = cosine_similarity(lda_vectors, net_vectors)\n",
    "similarities.shape"
   ]
  },
  {
   "cell_type": "code",
   "execution_count": 991,
   "metadata": {
    "collapsed": true
   },
   "outputs": [],
   "source": [
    "pickle.dump(similarities, open('tmp/similarities_mod_lcm.pickle', 'wb'))"
   ]
  },
  {
   "cell_type": "code",
   "execution_count": 825,
   "metadata": {
    "collapsed": false
   },
   "outputs": [
    {
     "data": {
      "text/plain": [
       "(30, 30)"
      ]
     },
     "execution_count": 825,
     "metadata": {},
     "output_type": "execute_result"
    }
   ],
   "source": [
    "from sklearn.metrics.pairwise import cosine_similarity\n",
    "\n",
    "filtered_sims = cosine_similarity(X_dict[0:30], X_dict[150:180])\n",
    "filtered_sims.shape"
   ]
  },
  {
   "cell_type": "code",
   "execution_count": 826,
   "metadata": {
    "collapsed": false
   },
   "outputs": [],
   "source": [
    "def filter_max_in_sims(sims):\n",
    "    sims = sims.copy()\n",
    "    for sim in sims:\n",
    "        low_values_indices = sim < np.amax(sim)\n",
    "        sim[low_values_indices] = 0 \n",
    "    return sims"
   ]
  },
  {
   "cell_type": "code",
   "execution_count": 828,
   "metadata": {
    "collapsed": false
   },
   "outputs": [
    {
     "data": {
      "text/plain": [
       "<matplotlib.text.Text at 0x114da40b8>"
      ]
     },
     "execution_count": 828,
     "metadata": {},
     "output_type": "execute_result"
    },
    {
     "data": {
      "image/png": "[encoded data removed]",
      "text/plain": [
       "<matplotlib.figure.Figure at 0x1166e88d0>"
      ]
     },
     "metadata": {},
     "output_type": "display_data"
    }
   ],
   "source": [
    "import seaborn as sns\n",
    "\n",
    "filtered_sims = filter_max_in_sims(filtered_sims)\n",
    "fig, ax = plt.subplots(figsize=(10, 10))\n",
    "sns_plt = sns.heatmap(filtered_sims, cmap=plt.cm.gist_heat_r)\n",
    "sns_plt.set(xticklabels=np.arange(1,31), yticklabels=(-np.sort(-np.arange(1,31))))\n",
    "plt.xlabel(\"Modularity\")\n",
    "plt.ylabel(\"LDA\")"
   ]
  },
  {
   "cell_type": "markdown",
   "metadata": {},
   "source": [
    "# Size to topic table + keywords"
   ]
  },
  {
   "cell_type": "code",
   "execution_count": 977,
   "metadata": {
    "collapsed": false
   },
   "outputs": [],
   "source": [
    "import itertools\n",
    "\n",
    "def keywords_to_keyword_table(topics, n):\n",
    "    result = {}\n",
    "    for topic in topics:\n",
    "        items = list(map(lambda x: x.values.tolist(), topic[1]))\n",
    "        keywords = sorted(list(itertools.chain(*items)), key=lambda x: x[1], reverse=True)\n",
    "        keywords = list(map(lambda x: x[0], keywords))\n",
    "        keywords2 = sorted(set(keywords),key=keywords.index)[:n]\n",
    "        result[topic[0]] = (len(topic[1]), keywords2)\n",
    "    return result"
   ]
  },
  {
   "cell_type": "code",
   "execution_count": 978,
   "metadata": {
    "collapsed": false
   },
   "outputs": [],
   "source": [
    "def topics_to_keywords(topics):\n",
    "    results = {}\n",
    "\n",
    "    for k, vs in topics.items():\n",
    "        results[k] = []\n",
    "        for v in vs:\n",
    "            results[k].append(docs[v]['keywords'])\n",
    "\n",
    "    results = sorted(results.items(), key=lambda x: len(x[1]), reverse=True)\n",
    "    \n",
    "    return results"
   ]
  },
  {
   "cell_type": "code",
   "execution_count": 979,
   "metadata": {
    "collapsed": false
   },
   "outputs": [],
   "source": [
    "lda_keywords = keywords_to_keyword_table(topics_to_keywords(lda_topics), 50)"
   ]
  },
  {
   "cell_type": "code",
   "execution_count": 980,
   "metadata": {
    "collapsed": false
   },
   "outputs": [],
   "source": [
    "net_keywords = keywords_to_keyword_table(topics_to_keywords(net_topics), 50)"
   ]
  },
  {
   "cell_type": "code",
   "execution_count": 981,
   "metadata": {
    "collapsed": true
   },
   "outputs": [],
   "source": [
    "lcm_keywords = keywords_to_keyword_table(topics_to_keywords(lcm_topics), 50)"
   ]
  },
  {
   "cell_type": "code",
   "execution_count": 982,
   "metadata": {
    "collapsed": false
   },
   "outputs": [
    {
     "data": {
      "text/plain": [
       "{'antonia', 'cunk', 'eavi', 'hellboy', 'ipod', 'wed'}"
      ]
     },
     "execution_count": 982,
     "metadata": {},
     "output_type": "execute_result"
    }
   ],
   "source": [
    "set(lda_keywords[1][1]) & set(net_keywords[1][1])"
   ]
  },
  {
   "cell_type": "code",
   "execution_count": 942,
   "metadata": {
    "collapsed": false
   },
   "outputs": [],
   "source": [
    "import csv\n",
    "\n",
    "sorted_1 = sorted(lda_keywords.items(), key=lambda x: x[1][0], reverse=True)\n",
    "sorted_2 = sorted(net_keywords.items(), key=lambda x: x[1][0], reverse=True)\n",
    "sorted_3 = sorted(lcm_keywords.items(), key=lambda x: x[1][0], reverse=True)\n",
    "\n",
    "rows = []\n",
    "for i in range(len(net_keywords)):\n",
    "    row = [i+1]\n",
    "    row += [sorted_1[i][1][0], sorted_2[i][1][0], sorted_3[i][1][0], sorted_1[i][1][1], sorted_2[i][1][1], sorted_3[i][1][1]]    \n",
    "    rows.append(row)\n",
    "\n",
    "with open('tmp/keywords.csv', 'w+') as file:    \n",
    "    for row in rows:\n",
    "        writer = csv.writer(file, delimiter=';')\n",
    "        writer.writerow(row)"
   ]
  },
  {
   "cell_type": "code",
   "execution_count": 992,
   "metadata": {
    "collapsed": true
   },
   "outputs": [],
   "source": [
    "similarities = pickle.load(open('tmp/similarities_mod_lcm.pickle', 'rb'))"
   ]
  },
  {
   "cell_type": "code",
   "execution_count": 993,
   "metadata": {
    "collapsed": false
   },
   "outputs": [
    {
     "data": {
      "text/plain": [
       "23"
      ]
     },
     "execution_count": 993,
     "metadata": {},
     "output_type": "execute_result"
    }
   ],
   "source": [
    "a = similarities[6]\n",
    "m = max(range(len(a)), key=lambda x: a[x])\n",
    "m"
   ]
  },
  {
   "cell_type": "code",
   "execution_count": 994,
   "metadata": {
    "collapsed": false
   },
   "outputs": [],
   "source": [
    "import csv\n",
    "\n",
    "rows = []\n",
    "for i, row in enumerate(similarities):\n",
    "    sim =  np.amax(row)\n",
    "    net =  max(range(len(row)), key=lambda x: row[x]) + 1\n",
    "    lda = i + 1\n",
    "    rows.append([lda, net_keywords[lda][0], net, lcm_keywords[net][0], set(net_keywords[lda][1]) & set(lcm_keywords[net][1]), sim])\n",
    "\n",
    "with open('tmp/matching.csv', 'w+') as file:    \n",
    "    for row in sorted(rows, key=lambda x: x[1], reverse=True):\n",
    "        writer = csv.writer(file, delimiter=';')\n",
    "        writer.writerow(row)"
   ]
  },
  {
   "cell_type": "markdown",
   "metadata": {},
   "source": [
    "# LCM"
   ]
  },
  {
   "cell_type": "code",
   "execution_count": 283,
   "metadata": {
    "collapsed": false
   },
   "outputs": [
    {
     "name": "stdout",
     "output_type": "stream",
     "text": [
      "0.9998899405679067\r\n"
     ]
    }
   ],
   "source": [
    "lda_model.minimum_probability=0.0\n",
    "\n",
    "mat_lda = []\n",
    "for i, m in enumerate(doc_topic_prob_mat):\n",
    "    clear_output(wait=True)\n",
    "    print('{0}\\r'.format(i/len(token_keys)))\n",
    "    a = []\n",
    "    for n in m:\n",
    "        if n[1] >= 0.01:\n",
    "            a.append(n[1])\n",
    "        else:\n",
    "            a.append(0)\n",
    "    mat_lda.append(a)"
   ]
  },
  {
   "cell_type": "code",
   "execution_count": 284,
   "metadata": {
    "collapsed": false
   },
   "outputs": [
    {
     "data": {
      "text/plain": [
       "matrix([[ 0.        ,  0.11856003,  0.        ,  0.        ,  0.        ,\n",
       "          0.02403184,  0.10266708,  0.        ,  0.03900642,  0.        ,\n",
       "          0.        ,  0.        ,  0.        ,  0.        ,  0.        ,\n",
       "          0.        ,  0.        ,  0.        ,  0.        ,  0.        ,\n",
       "          0.02798356,  0.        ,  0.        ,  0.        ,  0.        ,\n",
       "          0.        ,  0.0366805 ,  0.        ,  0.        ,  0.        ,\n",
       "          0.        ,  0.        ,  0.        ,  0.11155131,  0.        ,\n",
       "          0.        ,  0.        ,  0.        ,  0.        ,  0.01927168,\n",
       "          0.        ,  0.        ,  0.        ,  0.        ,  0.        ,\n",
       "          0.        ,  0.        ,  0.        ,  0.        ,  0.        ,\n",
       "          0.        ,  0.02307031,  0.        ,  0.        ,  0.        ,\n",
       "          0.        ,  0.        ,  0.        ,  0.        ,  0.        ,\n",
       "          0.        ,  0.01359342,  0.        ,  0.        ,  0.01692062,\n",
       "          0.        ,  0.        ,  0.        ,  0.04262269,  0.        ,\n",
       "          0.        ,  0.        ,  0.        ,  0.04360986,  0.        ,\n",
       "          0.        ,  0.        ,  0.        ,  0.        ,  0.        ,\n",
       "          0.        ,  0.        ,  0.        ,  0.        ,  0.        ,\n",
       "          0.        ,  0.        ,  0.        ,  0.        ,  0.        ,\n",
       "          0.        ,  0.        ,  0.        ,  0.        ,  0.        ,\n",
       "          0.14380358,  0.        ,  0.        ,  0.        ,  0.        ,\n",
       "          0.        ,  0.        ,  0.        ,  0.        ,  0.        ,\n",
       "          0.        ,  0.        ,  0.        ,  0.        ,  0.        ,\n",
       "          0.        ,  0.        ,  0.        ,  0.        ,  0.        ,\n",
       "          0.        ,  0.        ,  0.        ,  0.        ,  0.        ,\n",
       "          0.        ,  0.        ,  0.        ,  0.02087164,  0.        ,\n",
       "          0.        ,  0.        ,  0.        ,  0.05618561,  0.        ,\n",
       "          0.        ,  0.        ,  0.        ,  0.        ,  0.        ,\n",
       "          0.        ,  0.        ,  0.10439742,  0.        ,  0.        ,\n",
       "          0.        ,  0.        ,  0.        ,  0.        ,  0.        ,\n",
       "          0.        ,  0.        ,  0.        ,  0.        ,  0.        ]])"
      ]
     },
     "execution_count": 284,
     "metadata": {},
     "output_type": "execute_result"
    }
   ],
   "source": [
    "mat_lda = np.mat(mat_lda)\n",
    "pickle.dump(mat_lda, open('tmp/mat.pickle', 'wb'))\n",
    "mat_lda[1]"
   ]
  },
  {
   "cell_type": "markdown",
   "metadata": {},
   "source": [
    "## Add LDA to docs"
   ]
  },
  {
   "cell_type": "code",
   "execution_count": 285,
   "metadata": {
    "collapsed": false
   },
   "outputs": [
    {
     "data": {
      "text/plain": [
       "<1x150 sparse matrix of type '<class 'numpy.float64'>'\n",
       "\twith 11 stored elements in Compressed Sparse Row format>"
      ]
     },
     "execution_count": 285,
     "metadata": {},
     "output_type": "execute_result"
    }
   ],
   "source": [
    "for i, key in enumerate(token_keys):\n",
    "    docs[key]['lda_matrix'] = scipy.sparse.csr_matrix(mat_lda[i])\n",
    "  \n",
    "docs['2016-05-20-28']['lda_matrix']"
   ]
  },
  {
   "cell_type": "code",
   "execution_count": 286,
   "metadata": {
    "collapsed": false
   },
   "outputs": [
    {
     "name": "stdout",
     "output_type": "stream",
     "text": [
      "9086\n"
     ]
    }
   ],
   "source": [
    "g_lcm = ig.Graph()\n",
    "for i, key in enumerate(token_keys):\n",
    "    g_lcm.add_vertices(key)\n",
    "    \n",
    "print(g_lcm.vcount())"
   ]
  },
  {
   "cell_type": "code",
   "execution_count": 287,
   "metadata": {
    "collapsed": false
   },
   "outputs": [
    {
     "name": "stdout",
     "output_type": "stream",
     "text": [
      "82555396\n"
     ]
    }
   ],
   "source": [
    "g_lcm.delete_edges(g.es)\n",
    "edges = []\n",
    "for i, source in enumerate(token_keys):\n",
    "    print('{0}\\r'.format(i/len(token_keys)))\n",
    "    for i_2, target in enumerate(token_keys):\n",
    "        edges.append((source, target))\n",
    "    clear_output(wait=True)\n",
    "            \n",
    "g_lcm.add_edges(edges)  \n",
    "edges = [] \n",
    "print(g_lcm.ecount())"
   ]
  },
  {
   "cell_type": "code",
   "execution_count": 295,
   "metadata": {
    "collapsed": false
   },
   "outputs": [
    {
     "name": "stdout",
     "output_type": "stream",
     "text": [
      "0.9998899405679067\n",
      "82555396\n"
     ]
    }
   ],
   "source": [
    "from sklearn.metrics.pairwise import cosine_similarity\n",
    "\n",
    "count = 0\n",
    "for i, source in enumerate(token_keys):\n",
    "    clear_output(wait=True)\n",
    "    similarities = cosine_similarity(mat_lda[i], mat_lda)[0]\n",
    "    print('{0}\\r'.format(i/len(token_keys)))\n",
    "    for j, target in enumerate(token_keys):  \n",
    "        g_lcm.es[count][\"weight\"] = similarities[j]\n",
    "        count += 1\n",
    "\n",
    "print(g_lcm.ecount())"
   ]
  },
  {
   "cell_type": "code",
   "execution_count": 296,
   "metadata": {
    "collapsed": false
   },
   "outputs": [
    {
     "name": "stdout",
     "output_type": "stream",
     "text": [
      "41273155\n"
     ]
    }
   ],
   "source": [
    "g_lcm.simplify(multiple=True, loops=True, combine_edges=\"max\")\n",
    "print(g_lcm.ecount())"
   ]
  },
  {
   "cell_type": "code",
   "execution_count": 303,
   "metadata": {
    "collapsed": false
   },
   "outputs": [],
   "source": [
    "sg_lcm = g_lcm.es.select(weight_ge=0.1).subgraph()"
   ]
  },
  {
   "cell_type": "code",
   "execution_count": 304,
   "metadata": {
    "collapsed": false
   },
   "outputs": [
    {
     "name": "stdout",
     "output_type": "stream",
     "text": [
      "Nodes 9086\n",
      "Edges 23508092\n"
     ]
    }
   ],
   "source": [
    "print(\"Nodes {}\".format(sg_lcm.vcount()))\n",
    "print(\"Edges {}\".format(sg_lcm.ecount()))"
   ]
  },
  {
   "cell_type": "code",
   "execution_count": 124,
   "metadata": {
    "collapsed": true
   },
   "outputs": [],
   "source": [
    "sg_lcm.write_gml('tmp/igraph_lcm_8245.gml')"
   ]
  },
  {
   "cell_type": "markdown",
   "metadata": {},
   "source": [
    "## Load LCM Network"
   ]
  },
  {
   "cell_type": "code",
   "execution_count": null,
   "metadata": {
    "collapsed": true
   },
   "outputs": [],
   "source": [
    "lda_sim = cosine_similarity(mat_lda, mat_lda)"
   ]
  },
  {
   "cell_type": "code",
   "execution_count": 18,
   "metadata": {
    "collapsed": false
   },
   "outputs": [],
   "source": [
    "g_lcm = ig.Graph.Read_GML('tmp/igraph_lcm_8245.gml')"
   ]
  },
  {
   "cell_type": "code",
   "execution_count": 27,
   "metadata": {
    "collapsed": false
   },
   "outputs": [],
   "source": [
    "sg_lcm = g_lcm.es.select(weight_ge=0.8245).subgraph() #0.8245"
   ]
  },
  {
   "cell_type": "code",
   "execution_count": 28,
   "metadata": {
    "collapsed": false
   },
   "outputs": [
    {
     "name": "stdout",
     "output_type": "stream",
     "text": [
      "Nodes 7762\n",
      "Edges 191303\n"
     ]
    }
   ],
   "source": [
    "print(\"Nodes {}\".format(sg_lcm.vcount()))\n",
    "print(\"Edges {}\".format(sg_lcm.ecount()))"
   ]
  },
  {
   "cell_type": "code",
   "execution_count": 29,
   "metadata": {
    "collapsed": false
   },
   "outputs": [],
   "source": [
    "# community = sg.community_infomap(edge_weights='weight')\n",
    "community_lcm = sg_lcm.community_multilevel(weights='weight')\n",
    "# community = sg.community_leading_eigenvector(weights='weight')"
   ]
  },
  {
   "cell_type": "code",
   "execution_count": 30,
   "metadata": {
    "collapsed": false
   },
   "outputs": [
    {
     "name": "stdout",
     "output_type": "stream",
     "text": [
      "Nodes 7762\n",
      "Edges 191303\n",
      "Diameter 19\n",
      "LCC 7354\n",
      "APL 6.189421671083362\n",
      "AD 49.292192733831484\n",
      "Giant Size 823\n",
      "NO of Communities 150\n",
      "Modularity 0.8262817233778451\n"
     ]
    }
   ],
   "source": [
    "network_properties(sg_lcm, community_lcm)"
   ]
  },
  {
   "cell_type": "code",
   "execution_count": 54,
   "metadata": {
    "collapsed": true
   },
   "outputs": [],
   "source": [
    "lcm_topics = network_to_topics(community_lcm)"
   ]
  },
  {
   "cell_type": "code",
   "execution_count": 55,
   "metadata": {
    "collapsed": false
   },
   "outputs": [
    {
     "data": {
      "text/plain": [
       "dict_keys(['guardianId', 'lcm_topic', 'lda_topic', 'keywords', 'webPublicationDate', 'ents', 'lda_matrix', 'webTitle', 'id', 'tfidf', 'webUrl', 'authors', 'body', 'sectionId', 'mod_topic', 'apiUrl', 'lda', 'lda_value', 'body_t'])"
      ]
     },
     "execution_count": 55,
     "metadata": {},
     "output_type": "execute_result"
    }
   ],
   "source": [
    "for key, value in lcm_topics.items():\n",
    "    for v in value:\n",
    "        docs[v]['lcm_topic'] = key\n",
    "\n",
    "docs['2016-05-20-284'].keys()"
   ]
  },
  {
   "cell_type": "code",
   "execution_count": 56,
   "metadata": {
    "collapsed": false
   },
   "outputs": [
    {
     "data": {
      "image/png": "[encoded data removed]",
      "text/plain": [
       "<matplotlib.figure.Figure at 0x10d0c4550>"
      ]
     },
     "metadata": {},
     "output_type": "display_data"
    }
   ],
   "source": [
    "community_to_size_chart(lcm_topics)"
   ]
  },
  {
   "cell_type": "code",
   "execution_count": 394,
   "metadata": {
    "collapsed": false
   },
   "outputs": [
    {
     "data": {
      "image/png": "[encoded data removed]",
      "text/plain": [
       "<matplotlib.figure.Figure at 0x121090668>"
      ]
     },
     "metadata": {},
     "output_type": "display_data"
    }
   ],
   "source": [
    "topics_to_prob_dist(lcm_topics)"
   ]
  },
  {
   "cell_type": "code",
   "execution_count": null,
   "metadata": {
    "collapsed": false
   },
   "outputs": [],
   "source": [
    "with open('tmp/lcm_docs.txt', 'w+') as file:\n",
    "    for i in range(max(community_lda.membership) + 1):\n",
    "        for v in community_lda.subgraph(i).vs():\n",
    "            file.write(\"Topic:{} File:{} Title:{}\\n\".format(i, v['name'], docs[v['name']]['webTitle']))"
   ]
  },
  {
   "cell_type": "markdown",
   "metadata": {},
   "source": [
    "## LDA network"
   ]
  },
  {
   "cell_type": "code",
   "execution_count": 273,
   "metadata": {
    "collapsed": false
   },
   "outputs": [
    {
     "name": "stdout",
     "output_type": "stream",
     "text": [
      "Nodes 9086\n",
      "Edges 2823445\n"
     ]
    }
   ],
   "source": [
    "g_lda = g_lcm.es.select(weight_ge=0.5).subgraph()\n",
    "print(\"Nodes {}\".format(g_lda.vcount()))\n",
    "print(\"Edges {}\".format(g_lda.ecount()))"
   ]
  },
  {
   "cell_type": "code",
   "execution_count": 274,
   "metadata": {
    "collapsed": false
   },
   "outputs": [
    {
     "data": {
      "text/plain": [
       "7452"
      ]
     },
     "execution_count": 274,
     "metadata": {},
     "output_type": "execute_result"
    }
   ],
   "source": [
    "lda_topics_values = [val for sublist in list(lda_topics.values()) for val in sublist]\n",
    "len(lda_topics_values)"
   ]
  },
  {
   "cell_type": "code",
   "execution_count": 275,
   "metadata": {
    "collapsed": false
   },
   "outputs": [
    {
     "data": {
      "text/plain": [
       "1634"
      ]
     },
     "execution_count": 275,
     "metadata": {},
     "output_type": "execute_result"
    }
   ],
   "source": [
    "to_delete_ids = [v.index for v in g_lda.vs if v['name'] not in lda_topics_values] \n",
    "len(to_delete_ids)"
   ]
  },
  {
   "cell_type": "code",
   "execution_count": 276,
   "metadata": {
    "collapsed": false
   },
   "outputs": [
    {
     "name": "stdout",
     "output_type": "stream",
     "text": [
      "Nodes 7452\n",
      "Edges 1902342\n"
     ]
    }
   ],
   "source": [
    "g_lda.delete_vertices(to_delete_ids)\n",
    "print(\"Nodes {}\".format(g_lda.vcount()))\n",
    "print(\"Edges {}\".format(g_lda.ecount()))"
   ]
  },
  {
   "cell_type": "code",
   "execution_count": 334,
   "metadata": {
    "collapsed": false
   },
   "outputs": [
    {
     "name": "stdout",
     "output_type": "stream",
     "text": [
      "Nodes 7406\n",
      "Edges 610745\n"
     ]
    }
   ],
   "source": [
    "sg_lda = g_lda.es.select(weight_ge=0.7).subgraph()\n",
    "print(\"Nodes {}\".format(sg_lda.vcount()))\n",
    "print(\"Edges {}\".format(sg_lda.ecount()))"
   ]
  },
  {
   "cell_type": "code",
   "execution_count": 335,
   "metadata": {
    "collapsed": false
   },
   "outputs": [
    {
     "data": {
      "text/plain": [
       "igraph.Vertex(<igraph.Graph object at 0x1188159a8>, 0, {'Community': 2, 'name': '2016-05-04-301', 'id': 0.0})"
      ]
     },
     "execution_count": 335,
     "metadata": {},
     "output_type": "execute_result"
    }
   ],
   "source": [
    "for v in sg_lda.vs:\n",
    "    v['Community'] = docs[v['name']]['lda_sorted']\n",
    "sg_lda.vs[0]"
   ]
  },
  {
   "cell_type": "code",
   "execution_count": 336,
   "metadata": {
    "collapsed": false
   },
   "outputs": [],
   "source": [
    "membership = []\n",
    "for v in sg_lda.vs():\n",
    "    membership.append(v['Community'])"
   ]
  },
  {
   "cell_type": "code",
   "execution_count": 337,
   "metadata": {
    "collapsed": false
   },
   "outputs": [
    {
     "name": "stdout",
     "output_type": "stream",
     "text": [
      "LDA Communities Modularity 0.6869776895329\n"
     ]
    }
   ],
   "source": [
    "print(\"LDA Communities Modularity {}\".format(sg_lda.modularity(membership)))"
   ]
  },
  {
   "cell_type": "code",
   "execution_count": 338,
   "metadata": {
    "collapsed": false
   },
   "outputs": [],
   "source": [
    "sg_lda.write_gml('tmp/igraph_lda_8.gml')"
   ]
  },
  {
   "cell_type": "markdown",
   "metadata": {
    "collapsed": true
   },
   "source": [
    "# Hierarchical Clustering"
   ]
  },
  {
   "cell_type": "code",
   "execution_count": 908,
   "metadata": {
    "collapsed": false
   },
   "outputs": [],
   "source": [
    "def fancy_dendrogram(*args, **kwargs):\n",
    "    max_d = kwargs.pop('max_d', None)\n",
    "    if max_d and 'color_threshold' not in kwargs:\n",
    "        kwargs['color_threshold'] = max_d\n",
    "    annotate_above = kwargs.pop('annotate_above', 0)\n",
    "\n",
    "    ddata = dendrogram(*args, **kwargs)\n",
    "\n",
    "    if not kwargs.get('no_plot', False):\n",
    "        plt.title('Hierarchical Clustering Dendrogram (truncated)')\n",
    "        plt.xlabel('sample index or (cluster size)')\n",
    "        plt.ylabel('distance')\n",
    "        for i, d, c in zip(ddata['icoord'], ddata['dcoord'], ddata['color_list']):\n",
    "            x = 0.5 * sum(i[1:3])\n",
    "            y = d[1]\n",
    "            if y > annotate_above:\n",
    "                plt.plot(x, y, 'o', c=c)\n",
    "                plt.annotate(\"%.3g\" % y, (x, y), xytext=(0, -5),\n",
    "                             textcoords='offset points',\n",
    "                             va='top', ha='center')\n",
    "        if max_d:\n",
    "            plt.axhline(y=max_d, c='k')\n",
    "    return ddata"
   ]
  },
  {
   "cell_type": "code",
   "execution_count": 823,
   "metadata": {
    "collapsed": false
   },
   "outputs": [],
   "source": [
    "from sklearn.metrics.pairwise import cosine_similarity\n",
    "\n",
    "dist = 1 - cosine_similarity(X_tfidf)"
   ]
  },
  {
   "cell_type": "code",
   "execution_count": 781,
   "metadata": {
    "collapsed": false
   },
   "outputs": [],
   "source": [
    "from sklearn.metrics.pairwise import euclidean_distances\n",
    "\n",
    "dist = euclidean_distances(X_tfidf)"
   ]
  },
  {
   "cell_type": "code",
   "execution_count": 524,
   "metadata": {
    "collapsed": true
   },
   "outputs": [],
   "source": [
    "from scipy.cluster.hierarchy import ward, complete, average, dendrogram"
   ]
  },
  {
   "cell_type": "code",
   "execution_count": 782,
   "metadata": {
    "collapsed": false
   },
   "outputs": [
    {
     "name": "stdout",
     "output_type": "stream",
     "text": [
      "Start Hierarchical Clustering...\n",
      "Done Hierarchical Clustering...\n"
     ]
    }
   ],
   "source": [
    "print(\"Start Hierarchical Clustering...\")\n",
    "\n",
    "linkage_matrix = average(dist) #define the linkage_matrix using hierachical clustering pre-computed distances\n",
    "\n",
    "print(\"Done Hierarchical Clustering...\")"
   ]
  },
  {
   "cell_type": "code",
   "execution_count": 783,
   "metadata": {
    "collapsed": false
   },
   "outputs": [
    {
     "data": {
      "text/plain": [
       "0.72507604694498762"
      ]
     },
     "execution_count": 783,
     "metadata": {},
     "output_type": "execute_result"
    }
   ],
   "source": [
    "from scipy.cluster.hierarchy import cophenet\n",
    "from scipy.spatial.distance import pdist\n",
    "\n",
    "c, coph_dists = cophenet(linkage_matrix, pdist(dist))\n",
    "c"
   ]
  },
  {
   "cell_type": "code",
   "execution_count": 824,
   "metadata": {
    "collapsed": true
   },
   "outputs": [],
   "source": [
    "pickle.dump(linkage_matrix, open('tmp/linkage_matrix_average_eucli.pickle', 'wb'))"
   ]
  },
  {
   "cell_type": "code",
   "execution_count": 913,
   "metadata": {
    "collapsed": false
   },
   "outputs": [],
   "source": [
    "linkage_matrix = pickle.load(open('tmp/linkage_matrix_average_eucli.pickle', 'rb'))"
   ]
  },
  {
   "cell_type": "code",
   "execution_count": 939,
   "metadata": {
    "collapsed": false
   },
   "outputs": [
    {
     "data": {
      "image/png": "[encoded data removed]",
      "text/plain": [
       "<matplotlib.figure.Figure at 0x1200c9f60>"
      ]
     },
     "metadata": {},
     "output_type": "display_data"
    }
   ],
   "source": [
    "plt.figure(figsize=(60, 10))\n",
    "fancy_dendrogram(\n",
    "    linkage_matrix,\n",
    "    truncate_mode='lastp',\n",
    "    p=1000,\n",
    "    leaf_rotation=90.,\n",
    "    leaf_font_size=12.,\n",
    "    show_contracted=True,\n",
    "    annotate_above=10,  # useful in small plots so annotations don't overlap\n",
    ")\n",
    "plt.show()"
   ]
  },
  {
   "cell_type": "code",
   "execution_count": 947,
   "metadata": {
    "collapsed": false
   },
   "outputs": [
    {
     "name": "stdout",
     "output_type": "stream",
     "text": [
      "592 clusters\n",
      "Giant Size: 1038\n"
     ]
    }
   ],
   "source": [
    "from scipy.cluster.hierarchy import fclusterdata, fcluster\n",
    "\n",
    "def cluster_indices(cluster_assignments):\n",
    "    n = cluster_assignments.max()\n",
    "    indices = []\n",
    "    for cluster_number in range(1, n + 1):\n",
    "        indices.append(np.where(cluster_assignments == cluster_number)[0])\n",
    "    return indices\n",
    "\n",
    "# Compute the clusters.\n",
    "cluster_assignments = fcluster(linkage_matrix, 2.4, criterion=\"distance\")\n",
    "\n",
    "# Print the indices of the data points in each cluster.\n",
    "num_clusters = cluster_assignments.max()\n",
    "print(\"%d clusters\" % num_clusters)\n",
    "indices = cluster_indices(cluster_assignments)\n",
    "\n",
    "print(\"Giant Size:\", len(max(indices, key=lambda x: len(x))))\n",
    "\n",
    "# for k, ind in enumerate(indices):\n",
    "#     print(\"cluster\", k + 1, \" (Length:)\", len(ind), \"=\", ind)\n",
    "\n",
    "for k, ind in enumerate(indices):\n",
    "    for i in ind:\n",
    "        docs[token_keys[i]]['hclust'] = k"
   ]
  },
  {
   "cell_type": "code",
   "execution_count": 948,
   "metadata": {
    "collapsed": true
   },
   "outputs": [],
   "source": [
    "hclust_items = sorted(docs.items(), key=lambda x: x[1]['hclust'])"
   ]
  },
  {
   "cell_type": "code",
   "execution_count": 949,
   "metadata": {
    "collapsed": true
   },
   "outputs": [],
   "source": [
    "with open('tmp/hclust_docs.txt', 'w+') as file:\n",
    "    for item in hclust_items:\n",
    "        file.write(\"Topic:{} File:{} Title:{}\\n\".format(item[1]['hclust'], item[0], item[1]['webTitle']))"
   ]
  },
  {
   "cell_type": "code",
   "execution_count": 950,
   "metadata": {
    "collapsed": false
   },
   "outputs": [
    {
     "name": "stdout",
     "output_type": "stream",
     "text": [
      "592\n"
     ]
    }
   ],
   "source": [
    "topics = {}\n",
    "\n",
    "for i in range(num_clusters):\n",
    "    topics[i] = []\n",
    "    \n",
    "for item in hclust_items:\n",
    "    topic_no = item[1]['hclust']\n",
    "    topics[topic_no].append(item[0])\n",
    "    \n",
    "print(len(topics.keys()))\n",
    "\n",
    "hclust_topics = {}\n",
    "count = 1\n",
    "for key, value in sorted(topics.items(), key=lambda x: len(x[1]), reverse=True):\n",
    "    hclust_topics[count] = value\n",
    "    count += 1"
   ]
  },
  {
   "cell_type": "code",
   "execution_count": 951,
   "metadata": {
    "collapsed": false
   },
   "outputs": [
    {
     "data": {
      "image/png": "[encoded data removed]",
      "text/plain": [
       "<matplotlib.figure.Figure at 0x11277f9b0>"
      ]
     },
     "metadata": {},
     "output_type": "display_data"
    }
   ],
   "source": [
    "x_data = []\n",
    "y_data = []\n",
    "for key, value in sorted(hclust_topics.items(), key=lambda x: len(x[1]), reverse=True):\n",
    "    if key <= 30:\n",
    "        x_data.append(key)\n",
    "        y_data.append(len(value))\n",
    "\n",
    "ind = np.arange(0, len(y_data) * 2, 2)\n",
    "fig = plt.figure(figsize=(60,10))\n",
    "plt.bar(ind, y_data)\n",
    "plt.xticks(ind, x_data, rotation=90)\n",
    "plt.title(\"Topic Document Distribution\")\n",
    "plt.xlabel(\"Topic\")\n",
    "plt.ylabel(\"Frequency\")\n",
    "fig.savefig('tmp/size_chart_lda.png')\n",
    "plt.show()"
   ]
  },
  {
   "cell_type": "code",
   "execution_count": 952,
   "metadata": {
    "collapsed": false
   },
   "outputs": [
    {
     "data": {
      "text/plain": [
       "0.47456809810158856"
      ]
     },
     "execution_count": 952,
     "metadata": {},
     "output_type": "execute_result"
    }
   ],
   "source": [
    "topics = {}\n",
    "\n",
    "for k, vs in hclust_topics.items():\n",
    "    topics[k] = []\n",
    "    for v in vs:\n",
    "        topics[k].append(docs[v]['tfidf'])\n",
    "\n",
    "intra_cluster_overall_similarity(topics)"
   ]
  },
  {
   "cell_type": "code",
   "execution_count": 953,
   "metadata": {
    "collapsed": false,
    "scrolled": true
   },
   "outputs": [
    {
     "name": "stdout",
     "output_type": "stream",
     "text": [
      "Overall Similarity Top 10 {} 0.0662631311105\n",
      "Overall Similarity Top 30 {} 0.151035928491\n",
      "Overall Similarity Top 100 {} 0.229936954286\n"
     ]
    }
   ],
   "source": [
    "print(\"Overall Similarity Top 10 {}\", intra_cluster_overall_similarity({k: v for k, v in topics.items() if k <= 10}))\n",
    "print(\"Overall Similarity Top 30 {}\", intra_cluster_overall_similarity({k: v for k, v in topics.items() if k <= 30}))\n",
    "print(\"Overall Similarity Top 100 {}\", intra_cluster_overall_similarity({k: v for k, v in topics.items() if k <= 100}))"
   ]
  },
  {
   "cell_type": "markdown",
   "metadata": {},
   "source": [
    "# KMeans"
   ]
  },
  {
   "cell_type": "code",
   "execution_count": null,
   "metadata": {
    "collapsed": false
   },
   "outputs": [],
   "source": [
    "from sklearn.cluster import KMeans\n",
    "\n",
    "num_clusters = 1200\n",
    "\n",
    "km = KMeans(n_clusters=num_clusters)\n",
    "\n",
    "%time km.fit(X_tfidf)\n",
    "\n",
    "clusters = km.labels_.tolist()"
   ]
  },
  {
   "cell_type": "code",
   "execution_count": 68,
   "metadata": {
    "collapsed": true
   },
   "outputs": [],
   "source": [
    "pickle.dump(km, open('tmp/km.pickle', 'wb'))"
   ]
  },
  {
   "cell_type": "code",
   "execution_count": 764,
   "metadata": {
    "collapsed": true
   },
   "outputs": [],
   "source": [
    "km = pickle.load(open('tmp/km.pickle', 'rb'))"
   ]
  },
  {
   "cell_type": "code",
   "execution_count": 765,
   "metadata": {
    "collapsed": false
   },
   "outputs": [
    {
     "data": {
      "text/plain": [
       "16"
      ]
     },
     "execution_count": 765,
     "metadata": {},
     "output_type": "execute_result"
    }
   ],
   "source": [
    "clusters = km.labels_.tolist()\n",
    "clusters[0]"
   ]
  },
  {
   "cell_type": "code",
   "execution_count": null,
   "metadata": {
    "collapsed": false
   },
   "outputs": [],
   "source": [
    "for i, cluster in enumerate(clusters):\n",
    "    print('{0}\\r'.format(i/len(clusters)))\n",
    "    clear_output(wait=True)\n",
    "    docs[token_keys[i]]['km'] = cluster"
   ]
  },
  {
   "cell_type": "code",
   "execution_count": 767,
   "metadata": {
    "collapsed": false
   },
   "outputs": [],
   "source": [
    "def km_to_topics(km_items):\n",
    "    topics = {}\n",
    "\n",
    "    for i in range(300):\n",
    "        topics[i] = []\n",
    "\n",
    "    for item in km_items:\n",
    "        topic_no = item[1]['km']\n",
    "        topics[topic_no].append(item[0])\n",
    "\n",
    "    km_topics = {}\n",
    "    count = 1\n",
    "    for key, value in sorted(topics.items(), key=lambda x: len(x[1]), reverse=True):\n",
    "        km_topics[count] = value\n",
    "        count += 1\n",
    "\n",
    "    return km_topics"
   ]
  },
  {
   "cell_type": "code",
   "execution_count": 768,
   "metadata": {
    "collapsed": true
   },
   "outputs": [],
   "source": [
    "km_items = sorted(docs.items(), key=lambda x: x[1]['km'])\n",
    "km_topics = km_to_topics(km_items)"
   ]
  },
  {
   "cell_type": "code",
   "execution_count": 769,
   "metadata": {
    "collapsed": false
   },
   "outputs": [
    {
     "data": {
      "text/plain": [
       "0.062456916980175615"
      ]
     },
     "execution_count": 769,
     "metadata": {},
     "output_type": "execute_result"
    }
   ],
   "source": [
    "topics = {}\n",
    "\n",
    "for k, vs in km_topics.items():\n",
    "    topics[k] = []\n",
    "    for v in vs:\n",
    "        topics[k].append(docs[v]['tfidf'])\n",
    "\n",
    "intra_cluster_overall_similarity(topics)"
   ]
  },
  {
   "cell_type": "code",
   "execution_count": 770,
   "metadata": {
    "collapsed": false
   },
   "outputs": [
    {
     "name": "stdout",
     "output_type": "stream",
     "text": [
      "Overall Similarity Top 10 {} 0.0365771067719\n",
      "Overall Similarity Top 30 {} 0.0403154712968\n",
      "Overall Similarity Top 100 {} 0.0500464647507\n"
     ]
    }
   ],
   "source": [
    "print(\"Overall Similarity Top 10 {}\", intra_cluster_overall_similarity({k: v for k, v in topics.items() if k <= 10}))\n",
    "print(\"Overall Similarity Top 30 {}\", intra_cluster_overall_similarity({k: v for k, v in topics.items() if k <= 30}))\n",
    "print(\"Overall Similarity Top 100 {}\", intra_cluster_overall_similarity({k: v for k, v in topics.items() if k <= 100}))"
   ]
  },
  {
   "cell_type": "markdown",
   "metadata": {},
   "source": [
    "# Visualization"
   ]
  },
  {
   "cell_type": "code",
   "execution_count": 31,
   "metadata": {
    "collapsed": false
   },
   "outputs": [],
   "source": [
    "def add_community_to_graph(key, graph, com):\n",
    "    for i in range(max(com.membership) + 1):\n",
    "        for v in com.subgraph(i).vs():\n",
    "            node = graph.vs().find(name=v['name'])\n",
    "            node['Community'] = docs[v['name']][key]"
   ]
  },
  {
   "cell_type": "markdown",
   "metadata": {},
   "source": [
    "## Modularity Network"
   ]
  },
  {
   "cell_type": "code",
   "execution_count": 386,
   "metadata": {
    "collapsed": true
   },
   "outputs": [],
   "source": [
    "topics = {}\n",
    "\n",
    "for i in range(max(community.membership) + 1):\n",
    "    for v in community.subgraph(i).vs():\n",
    "        topic_no = i\n",
    "        try:\n",
    "            topics[topic_no]\n",
    "        except KeyError:\n",
    "            topics[topic_no] = []\n",
    "\n",
    "        topics[topic_no].append(docs[v['name']]['tfidf'])"
   ]
  },
  {
   "cell_type": "code",
   "execution_count": 387,
   "metadata": {
    "collapsed": false
   },
   "outputs": [
    {
     "name": "stdout",
     "output_type": "stream",
     "text": [
      "Overall Similarity {} 0.733234501023\n",
      "Overall Similarity Top 10 {} 0.826339933173\n",
      "Overall Similarity Top 30 {} 0.824217456112\n",
      "Overall Similarity Top 100 {} 0.732469515204\n",
      "Network Communities Modularity 0.7770162025166544\n"
     ]
    }
   ],
   "source": [
    "print(\"Overall Similarity {}\", intra_cluster_overall_similarity(topics))\n",
    "print(\"Overall Similarity Top 10 {}\", intra_cluster_overall_similarity({k: v for k, v in topics.items() if k <= 10}))\n",
    "print(\"Overall Similarity Top 30 {}\", intra_cluster_overall_similarity({k: v for k, v in topics.items() if k <= 30}))\n",
    "print(\"Overall Similarity Top 100 {}\", intra_cluster_overall_similarity({k: v for k, v in topics.items() if k <= 100}))\n",
    "print(\"Network Communities Modularity {}\".format(sg.modularity(community.membership)))"
   ]
  },
  {
   "cell_type": "code",
   "execution_count": 36,
   "metadata": {
    "collapsed": false
   },
   "outputs": [
    {
     "data": {
      "text/plain": [
       "0.59947680876274956"
      ]
     },
     "execution_count": 36,
     "metadata": {},
     "output_type": "execute_result"
    }
   ],
   "source": [
    "# topic = topics[2]\n",
    "# print(np.dot((topic[0] + topic[1]).toarray() / len(topic), (topic[0] + topic[1]).toarray().T / len(topic)))\n",
    "\n",
    "intra_cluster_similarity(topics[1])"
   ]
  },
  {
   "cell_type": "code",
   "execution_count": 38,
   "metadata": {
    "collapsed": true
   },
   "outputs": [],
   "source": [
    "sg.write_gml('tmp/network_community.gml')"
   ]
  },
  {
   "cell_type": "markdown",
   "metadata": {},
   "source": [
    "## LDA"
   ]
  },
  {
   "cell_type": "code",
   "execution_count": 390,
   "metadata": {
    "collapsed": false
   },
   "outputs": [
    {
     "name": "stdout",
     "output_type": "stream",
     "text": [
      "{0: 0, 1: 8, 2: 4, 3: 10, 4: 14, 5: 13, 6: 32, 7: 17, 8: 26, 9: 1, 10: 18, 11: 39, 12: 22, 13: 21, 14: 36, 15: 20, 16: 42, 17: 25, 18: 6, 19: 29, 20: 23, 21: 11, 22: 30, 23: 1, 24: 23, 25: 31, 26: 40, 27: 0, 28: 11, 29: 9, 30: 39, 31: 15, 32: 0, 33: 2, 34: 3, 35: 0, 36: 20, 37: 3, 38: 20, 39: 0, 40: 0, 41: 0, 42: 9, 43: 25, 44: 24, 45: 0, 46: 3, 47: 3, 48: 0, 49: 0}\n"
     ]
    }
   ],
   "source": [
    "from sklearn.metrics.pairwise import cosine_similarity\n",
    "\n",
    "similarities = cosine_similarity(lda_vectors, net_vectors)\n",
    "\n",
    "matching = {}\n",
    "for i, a in enumerate(similarities):\n",
    "    b =  max(range(len(a)), key=lambda x: a[x])\n",
    "    matching[i] = b\n",
    "\n",
    "print(matching)"
   ]
  },
  {
   "cell_type": "code",
   "execution_count": null,
   "metadata": {
    "collapsed": false
   },
   "outputs": [],
   "source": [
    "for v in sg_lda.vs:\n",
    "    v['Community'] = docs[v['name']]['lda_sorted']\n",
    "sg_lda.vs[0]"
   ]
  },
  {
   "cell_type": "code",
   "execution_count": null,
   "metadata": {
    "collapsed": false
   },
   "outputs": [],
   "source": [
    "membership = []\n",
    "for v in sg_lda.vs():\n",
    "    membership.append(v['Community'])"
   ]
  },
  {
   "cell_type": "code",
   "execution_count": null,
   "metadata": {
    "collapsed": false
   },
   "outputs": [],
   "source": [
    "print(\"LDA Communities Modularity {}\".format(sg_lda.modularity(membership)))"
   ]
  },
  {
   "cell_type": "code",
   "execution_count": null,
   "metadata": {
    "collapsed": false
   },
   "outputs": [],
   "source": [
    "for v in sg_lda.vs:\n",
    "    v['Community'] = matching[v['Community']]"
   ]
  },
  {
   "cell_type": "code",
   "execution_count": null,
   "metadata": {
    "collapsed": false
   },
   "outputs": [],
   "source": [
    "sg_lda.vs[0]"
   ]
  },
  {
   "cell_type": "code",
   "execution_count": null,
   "metadata": {
    "collapsed": true
   },
   "outputs": [],
   "source": [
    "sg_lda.write_gml('tmp/lda_community.gml')"
   ]
  },
  {
   "cell_type": "code",
   "execution_count": 189,
   "metadata": {
    "collapsed": false
   },
   "outputs": [
    {
     "data": {
      "text/plain": [
       "0.31506991178271709"
      ]
     },
     "execution_count": 189,
     "metadata": {},
     "output_type": "execute_result"
    }
   ],
   "source": [
    "topics = {}\n",
    "\n",
    "for k, vs in lda_topics.items():\n",
    "    topics[k] = []\n",
    "    for v in vs:\n",
    "        topics[k].append(docs[v]['tfidf'])\n",
    "\n",
    "intra_cluster_overall_similarity(topics)"
   ]
  },
  {
   "cell_type": "code",
   "execution_count": 412,
   "metadata": {
    "collapsed": false
   },
   "outputs": [
    {
     "data": {
      "text/plain": [
       "0.060205147720234477"
      ]
     },
     "execution_count": 412,
     "metadata": {},
     "output_type": "execute_result"
    }
   ],
   "source": [
    "intra_cluster_similarity(topics[1])"
   ]
  },
  {
   "cell_type": "code",
   "execution_count": 191,
   "metadata": {
    "collapsed": false
   },
   "outputs": [
    {
     "name": "stdout",
     "output_type": "stream",
     "text": [
      "Overall Similarity Top 10 0.0822215088418\n",
      "Overall Similarity Top 30 0.111106386257\n",
      "Overall Similarity Top 100 0.209335295193\n"
     ]
    }
   ],
   "source": [
    "print(\"Overall Similarity Top 10\", intra_cluster_overall_similarity({k: v for k, v in topics.items() if k <= 10}))\n",
    "print(\"Overall Similarity Top 30\", intra_cluster_overall_similarity({k: v for k, v in topics.items() if k <= 30}))\n",
    "print(\"Overall Similarity Top 100\", intra_cluster_overall_similarity({k: v for k, v in topics.items() if k <= 100}))"
   ]
  },
  {
   "cell_type": "markdown",
   "metadata": {},
   "source": [
    "## LCM"
   ]
  },
  {
   "cell_type": "code",
   "execution_count": null,
   "metadata": {
    "collapsed": false
   },
   "outputs": [],
   "source": [
    "from sklearn.metrics.pairwise import cosine_similarity\n",
    "from collections import defaultdict\n",
    "\n",
    "similarities = cosine_similarity(lda_vectors, net_vectors)\n",
    "\n",
    "matching = {}\n",
    "matching_count = {}\n",
    "matching_count = defaultdict(lambda: 0, matching_count)\n",
    "\n",
    "for i, a in enumerate(similarities):\n",
    "    b =  max(range(len(a)), key=lambda x: a[x])\n",
    "    if b in matching.values():\n",
    "        matching_count[b] += 0.1\n",
    "        matching[i] = b + matching_count[b]\n",
    "    else:\n",
    "        matching[i] = b\n",
    "\n",
    "print(matching)"
   ]
  },
  {
   "cell_type": "code",
   "execution_count": 60,
   "metadata": {
    "collapsed": false
   },
   "outputs": [],
   "source": [
    "for v in sg_lcm.vs:\n",
    "    v['Community'] = docs[v['name']]['lcm_topic']"
   ]
  },
  {
   "cell_type": "code",
   "execution_count": 62,
   "metadata": {
    "collapsed": false
   },
   "outputs": [],
   "source": [
    "sg_lcm.write_gml('tmp/lcm_community.gml')"
   ]
  },
  {
   "cell_type": "code",
   "execution_count": 65,
   "metadata": {
    "collapsed": false
   },
   "outputs": [
    {
     "data": {
      "text/plain": [
       "0.48598567957221644"
      ]
     },
     "execution_count": 65,
     "metadata": {},
     "output_type": "execute_result"
    }
   ],
   "source": [
    "topics = {}\n",
    "\n",
    "for k, vs in lcm_topics.items():\n",
    "    topics[k] = []\n",
    "    for v in vs:\n",
    "        topics[k].append(docs[v]['tfidf'])\n",
    "\n",
    "intra_cluster_overall_similarity(topics)"
   ]
  },
  {
   "cell_type": "code",
   "execution_count": 66,
   "metadata": {
    "collapsed": false
   },
   "outputs": [
    {
     "name": "stdout",
     "output_type": "stream",
     "text": [
      "Overall Similarity Top 10 {} 0.0769973535112\n",
      "Overall Similarity Top 30 {} 0.131370115617\n",
      "Overall Similarity Top 100 {} 0.390543830857\n"
     ]
    }
   ],
   "source": [
    "print(\"Overall Similarity Top 10 {}\", intra_cluster_overall_similarity({k: v for k, v in topics.items() if k <= 10}))\n",
    "print(\"Overall Similarity Top 30 {}\", intra_cluster_overall_similarity({k: v for k, v in topics.items() if k <= 30}))\n",
    "print(\"Overall Similarity Top 100 {}\", intra_cluster_overall_similarity({k: v for k, v in topics.items() if k <= 100}))"
   ]
  },
  {
   "cell_type": "code",
   "execution_count": null,
   "metadata": {
    "collapsed": true
   },
   "outputs": [],
   "source": []
  }
 ],
 "metadata": {
  "kernelspec": {
   "display_name": "Python 3",
   "language": "python",
   "name": "python3"
  },
  "language_info": {
   "codemirror_mode": {
    "name": "ipython",
    "version": 3
   },
   "file_extension": ".py",
   "mimetype": "text/x-python",
   "name": "python",
   "nbconvert_exporter": "python",
   "pygments_lexer": "ipython3",
   "version": "3.5.0"
  }
 },
 "nbformat": 4,
 "nbformat_minor": 0
}
