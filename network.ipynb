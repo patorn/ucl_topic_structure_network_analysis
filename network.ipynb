{
 "cells": [
  {
   "cell_type": "code",
   "execution_count": 4,
   "metadata": {
    "collapsed": true
   },
   "outputs": [],
   "source": [
    "%matplotlib inline\n",
    "\n",
    "import matplotlib\n",
    "import matplotlib.pyplot as plt\n",
    "import numpy as np\n",
    "import igraph as ig\n",
    "import os\n",
    "import pdb\n",
    "import nltk\n",
    "import string\n",
    "import json\n",
    "import random\n",
    "import pickle\n",
    "import pandas as pd\n",
    "import seaborn as sns\n",
    "import scipy\n",
    "\n",
    "from IPython.display import clear_output\n",
    "from os import makedirs\n",
    "from os.path import join, exists\n",
    "from sklearn.metrics.pairwise import cosine_similarity"
   ]
  },
  {
   "cell_type": "code",
   "execution_count": 5,
   "metadata": {
    "collapsed": true
   },
   "outputs": [],
   "source": [
    "import logging\n",
    "logging.basicConfig(format='%(asctime)s : %(levelname)s : %(message)s', level=logging.INFO)\n",
    "logging.root.level = logging.INFO"
   ]
  },
  {
   "cell_type": "code",
   "execution_count": 6,
   "metadata": {
    "collapsed": true
   },
   "outputs": [],
   "source": [
    "INPUT_DIR = join('tmp', 'parsed')\n",
    "OUTPUT_DIR = join('tmp')\n",
    "makedirs(OUTPUT_DIR, exist_ok=True)"
   ]
  },
  {
   "cell_type": "code",
   "execution_count": 7,
   "metadata": {
    "collapsed": true
   },
   "outputs": [],
   "source": [
    "np.random.seed(1234)"
   ]
  },
  {
   "cell_type": "code",
   "execution_count": 8,
   "metadata": {
    "collapsed": true
   },
   "outputs": [],
   "source": [
    "plt.style.use('classic')"
   ]
  },
  {
   "cell_type": "code",
   "execution_count": 9,
   "metadata": {
    "collapsed": true
   },
   "outputs": [],
   "source": [
    "import math\n",
    "\n",
    "def intra_cluster_similarity(vectors):\n",
    "    matx = scipy.sparse.vstack((vectors))\n",
    "    return np.sum(cosine_similarity(matx, matx)) / math.pow(len(vectors), 2)"
   ]
  },
  {
   "cell_type": "code",
   "execution_count": 10,
   "metadata": {
    "collapsed": true
   },
   "outputs": [],
   "source": [
    "def intra_cluster_overall_similarity(vectors):\n",
    "    similarity_topics = {}\n",
    "    for k, values in vectors.items():\n",
    "        if len(values) > 0:\n",
    "            similarity_topics[k] = intra_cluster_similarity(values)\n",
    "\n",
    "    return sum(similarity_topics.values()) / len(similarity_topics.values())"
   ]
  },
  {
   "cell_type": "code",
   "execution_count": 11,
   "metadata": {
    "collapsed": true
   },
   "outputs": [],
   "source": [
    "def intra_cluster_weighted_similarity(vectors):\n",
    "    weighted = 0.\n",
    "    n = 0.\n",
    "    for k, values in vectors.items():\n",
    "        n += len(values)\n",
    "            \n",
    "    for k, values in vectors.items():\n",
    "        if len(values) > 0:\n",
    "            weighted += len(values) * intra_cluster_similarity(values)\n",
    "\n",
    "    return weighted / n"
   ]
  },
  {
   "cell_type": "code",
   "execution_count": 12,
   "metadata": {
    "collapsed": true
   },
   "outputs": [],
   "source": [
    "def inter_cluster_overall_similarity2(vectors):\n",
    "    similarity_topics = {}\n",
    "    for k, values in vectors.items():\n",
    "        if len(values) > 0:\n",
    "            matx = scipy.sparse.vstack((values))\n",
    "            centroid1 = matx.sum(axis=0) / len(values)\n",
    "            similarities = []\n",
    "            for k2, values2 in vectors.items():\n",
    "                if len(values2) > 0 & k != k2:\n",
    "                    matx2 = scipy.sparse.vstack((values2))\n",
    "                    centroid2 = matx2.sum(axis=0) / len(values2)\n",
    "                    similarities.append(cosine_similarity(centroid1, centroid2))\n",
    "            similarity_topics[k] = np.sum(similarities) / len(similarities)\n",
    "            \n",
    "    return sum(similarity_topics.values()) / len(similarity_topics.values())"
   ]
  },
  {
   "cell_type": "code",
   "execution_count": 13,
   "metadata": {
    "collapsed": true
   },
   "outputs": [],
   "source": [
    "def cluster_centroids(vectors):\n",
    "    centroids = {}\n",
    "    for k, values in vectors.items():\n",
    "        matx = scipy.sparse.vstack((values))\n",
    "        centroids[k] = scipy.sparse.csr_matrix(matx.sum(axis=0) / len(values))\n",
    "    return centroids"
   ]
  },
  {
   "cell_type": "code",
   "execution_count": 14,
   "metadata": {
    "collapsed": false
   },
   "outputs": [],
   "source": [
    "def inter_cluster_overall_similarity(vectors):\n",
    "    topic_centroids = cluster_centroids(vectors)\n",
    "    matx_c = scipy.sparse.vstack((topic_centroids.values()))\n",
    "    matx_c_c = cosine_similarity(matx_c)\n",
    "    matx_c_c_s = sum(matx_c_c) / len(matx_c_c)\n",
    "\n",
    "    return sum(matx_c_c_s) / len(matx_c_c_s)"
   ]
  },
  {
   "cell_type": "code",
   "execution_count": 15,
   "metadata": {
    "collapsed": true
   },
   "outputs": [],
   "source": [
    "def purity_score(labels_true):\n",
    "    nh = np.bincount(labels_true)\n",
    "\n",
    "    return nh[np.argmax(nh)] / sum(nh)"
   ]
  },
  {
   "cell_type": "code",
   "execution_count": 16,
   "metadata": {
    "collapsed": true
   },
   "outputs": [],
   "source": [
    "def entropy_score(labels_true):\n",
    "    entropy = 0.\n",
    "    cats = np.unique(labels_true)\n",
    "    ci = len(cats)\n",
    "    if ci == 1: # math.log(1,2) == 0.0, causes div by zero when normalizing\n",
    "        ci += 1\n",
    "    nh = np.bincount(labels_true)\n",
    "    n = len(labels_true)\n",
    "    \n",
    "    for j in cats:\n",
    "        p_category = nh[j] / n\n",
    "        entropy += p_category * math.log(p_category, 2)\n",
    "    \n",
    "    return -((1 / math.log(ci, 2)) * entropy)"
   ]
  },
  {
   "cell_type": "code",
   "execution_count": 17,
   "metadata": {
    "collapsed": false
   },
   "outputs": [],
   "source": [
    "def entropy_weighted_score(labels_size, labels_true):\n",
    "    entropy = 0.\n",
    "    n = 0.\n",
    "    for i in (np.arange(labels_size) + 1):\n",
    "        try:\n",
    "            n += len(labels_true[i])\n",
    "        except:\n",
    "            n += 0.\n",
    "        \n",
    "    for i in (np.arange(labels_size) + 1):\n",
    "        try:\n",
    "            labels_true_topic = labels_true[i]\n",
    "            ni = len(labels_true_topic)\n",
    "            entropy += (ni / n) * entropy_score(labels_true_topic)\n",
    "        except:\n",
    "            entropy += 0.\n",
    "    return entropy"
   ]
  },
  {
   "cell_type": "code",
   "execution_count": 18,
   "metadata": {
    "collapsed": true
   },
   "outputs": [],
   "source": [
    "def purity_weighted_score(labels_size, labels_true):\n",
    "    purity = 0.\n",
    "    n = 0.\n",
    "    for i in (np.arange(labels_size) + 1):\n",
    "        try:\n",
    "            n += len(labels_true[i])\n",
    "        except:\n",
    "            n += 0.\n",
    "        \n",
    "    for i in (np.arange(labels_size) + 1):\n",
    "        try:\n",
    "            labels_true_topic = labels_true[i]\n",
    "            ni = len(labels_true_topic)\n",
    "            purity += (ni / n) * purity_score(labels_true_topic)\n",
    "        except:\n",
    "            purity += 0.\n",
    "    return purity"
   ]
  },
  {
   "cell_type": "code",
   "execution_count": 19,
   "metadata": {
    "collapsed": true
   },
   "outputs": [],
   "source": [
    "from nltk.stem.porter import PorterStemmer\n",
    "\n",
    "def tokenize(text):\n",
    "    tokens = nltk.word_tokenize(text)\n",
    "    return tokens"
   ]
  },
  {
   "cell_type": "code",
   "execution_count": 20,
   "metadata": {
    "collapsed": true
   },
   "outputs": [],
   "source": [
    "def text_preprocess(text):\n",
    "    return [token for token in simple_preprocess(text) if token not in STOPWORDS]"
   ]
  },
  {
   "cell_type": "code",
   "execution_count": 21,
   "metadata": {
    "collapsed": true
   },
   "outputs": [],
   "source": [
    "def gensim_tokenize(text):\n",
    "    tokens = [token for token in simple_preprocess(text) if token not in STOPWORDS]\n",
    "    stems = []\n",
    "    for item in tokens:\n",
    "        stems.append(PorterStemmer().stem(item))\n",
    "    return stems"
   ]
  },
  {
   "cell_type": "code",
   "execution_count": 22,
   "metadata": {
    "collapsed": true
   },
   "outputs": [],
   "source": [
    "import re\n",
    "\n",
    "#compile regular expressions that match repeated characters and emoji unicode\n",
    "emoji = re.compile(u'[^\\x00-\\x7F\\x80-\\xFF\\u0100-\\u017F\\u0180-\\u024F\\u1E00-\\u1EFF]',re.UNICODE)\n",
    "multiple = re.compile(r\"(.)\\1{1,}\", re.DOTALL)\n",
    "\n",
    "def text_format(text):\n",
    "\n",
    "    #strip emoji\n",
    "    stripped = emoji.sub('',text)\n",
    "\n",
    "    #strip URLs\n",
    "    stripped = re.sub(r'http[s]?[^\\s]+','', stripped)\n",
    "\n",
    "    #strip html '&amp;', '&lt;', etc.  \n",
    "    stripped = re.sub(r'[\\&].*;','',stripped)\n",
    "\n",
    "    #strip punctuation\n",
    "    stripped = re.sub(r'[#|\\!|\\-|\\+|:|//]', \" \", stripped)\n",
    "\n",
    "    #strip whitespace down to one.\n",
    "    stripped = re.sub('[\\s]+' ,' ', stripped).strip()\n",
    "\n",
    "    #strip multiple occurrences of letters\n",
    "    stripped = multiple.sub(r\"\\1\\1\", stripped)\n",
    "\n",
    "    #strip all non-latin characters\n",
    "    stripped = re.sub('[^a-zA-Z0-9|\\']', \" \", stripped).strip()\n",
    "\n",
    "    return stripped"
   ]
  },
  {
   "cell_type": "code",
   "execution_count": 37,
   "metadata": {
    "collapsed": false
   },
   "outputs": [
    {
     "name": "stdout",
     "output_type": "stream",
     "text": [
      "9095\n"
     ]
    }
   ],
   "source": [
    "from gensim import matutils\n",
    "from gensim.utils import simple_preprocess\n",
    "from gensim.parsing.preprocessing import STOPWORDS\n",
    "from gensim.corpora import Dictionary\n",
    "from nltk.tag import pos_tag\n",
    "\n",
    "print(\"Building vocabulary...\")\n",
    "\n",
    "docs = {}\n",
    "doc_tokens = {}\n",
    "count = 0\n",
    "\n",
    "for fname in os.listdir(INPUT_DIR):\n",
    "    if fname != '.DS_Store':\n",
    "        with open(join(INPUT_DIR, fname), 'r') as f:\n",
    "            doc = json.load(f)\n",
    "            docs[doc['id']] = doc\n",
    "            text = doc['body']\n",
    "            table = str.maketrans({key: None for key in string.punctuation})\n",
    "            text = text.lower().translate(table)\n",
    "            text = text_format(text)\n",
    "            tagged = pos_tag(text.split()) #use NLTK's part of speech tagger\n",
    "            words = [word for word,pos in tagged if pos in ['NN', 'NNS', 'NNP', 'NNPS']]\n",
    "            docs[doc['id']][\"text\"] = \" \".join(words)\n",
    "            clear_output(wait=True)\n",
    "            count += 1\n",
    "            print(count)"
   ]
  },
  {
   "cell_type": "code",
   "execution_count": 23,
   "metadata": {
    "collapsed": false
   },
   "outputs": [
    {
     "data": {
      "text/plain": [
       "dict_keys(['mod_topic', 'text', 'id', 'guardianId', 'tags', 'apiUrl', 'webTitle', 'section_id', 'webUrl', 'webPublicationDate', 'body', 'sectionId', 'keyword', 'tfidf', 'top_tfidf', 'authors'])"
      ]
     },
     "execution_count": 23,
     "metadata": {},
     "output_type": "execute_result"
    }
   ],
   "source": [
    "docs = pickle.load(open('tmp/docs.pickle', 'rb'))\n",
    "\n",
    "docs['2016-05-20-28'].keys()"
   ]
  },
  {
   "cell_type": "code",
   "execution_count": 24,
   "metadata": {
    "collapsed": true
   },
   "outputs": [],
   "source": [
    "sorted_docs = sorted(docs.items(), key=lambda x: x[0], reverse=True)"
   ]
  },
  {
   "cell_type": "code",
   "execution_count": 25,
   "metadata": {
    "collapsed": false
   },
   "outputs": [
    {
     "name": "stdout",
     "output_type": "stream",
     "text": [
      "9095\n"
     ]
    }
   ],
   "source": [
    "token_keys = [x[0] for x in sorted_docs]\n",
    "token_values = [x[1][\"text\"] for x in sorted_docs]\n",
    "print(len(token_values))"
   ]
  },
  {
   "cell_type": "code",
   "execution_count": 26,
   "metadata": {
    "collapsed": false
   },
   "outputs": [
    {
     "data": {
      "text/plain": [
       "'2016-05-30-99'"
      ]
     },
     "execution_count": 26,
     "metadata": {},
     "output_type": "execute_result"
    }
   ],
   "source": [
    "token_keys[0]"
   ]
  },
  {
   "cell_type": "code",
   "execution_count": 27,
   "metadata": {
    "collapsed": false
   },
   "outputs": [
    {
     "data": {
      "text/plain": [
       "84"
      ]
     },
     "execution_count": 27,
     "metadata": {},
     "output_type": "execute_result"
    }
   ],
   "source": [
    "section_id = {}\n",
    "count = 0\n",
    "for k, v in docs.items():\n",
    "    try:\n",
    "        section_id[v['sectionId']]\n",
    "    except:\n",
    "        count += 1\n",
    "        section_id[v['sectionId']] = count\n",
    "        \n",
    "len(section_id.values())"
   ]
  },
  {
   "cell_type": "markdown",
   "metadata": {},
   "source": [
    "# TF-IDF Vectorizer"
   ]
  },
  {
   "cell_type": "code",
   "execution_count": 72,
   "metadata": {
    "collapsed": false
   },
   "outputs": [
    {
     "name": "stdout",
     "output_type": "stream",
     "text": [
      "Processing TF-IDF\n",
      "(9095, 91268)\n"
     ]
    }
   ],
   "source": [
    "from sklearn.feature_extraction.text import TfidfVectorizer\n",
    "\n",
    "print(\"Processing TF-IDF\")\n",
    "\n",
    "vectorizer_tfidf = TfidfVectorizer(tokenizer=tokenize, norm='l2', stop_words='english')\n",
    "X_tfidf = vectorizer_tfidf.fit_transform(token_values)\n",
    "\n",
    "print(X_tfidf.shape)"
   ]
  },
  {
   "cell_type": "code",
   "execution_count": 33,
   "metadata": {
    "collapsed": true
   },
   "outputs": [],
   "source": [
    "pickle.dump(X_tfidf, open('tmp/X_tfidf.pickle', 'wb'))"
   ]
  },
  {
   "cell_type": "code",
   "execution_count": 43,
   "metadata": {
    "collapsed": false
   },
   "outputs": [
    {
     "name": "stdout",
     "output_type": "stream",
     "text": [
      "(9095, 69281)\n"
     ]
    }
   ],
   "source": [
    "X_tfidf = pickle.load(open('tmp/X_tfidf0.pickle', 'rb'))\n",
    "\n",
    "print(X_tfidf.shape)"
   ]
  },
  {
   "cell_type": "code",
   "execution_count": 44,
   "metadata": {
    "collapsed": false
   },
   "outputs": [
    {
     "name": "stdout",
     "output_type": "stream",
     "text": [
      "69281\n"
     ]
    }
   ],
   "source": [
    "vocab = pickle.load(open('tmp/vocab.pickle', 'rb'))\n",
    "\n",
    "print(len(vocab))"
   ]
  },
  {
   "cell_type": "markdown",
   "metadata": {},
   "source": [
    "# Add Keywords to docs"
   ]
  },
  {
   "cell_type": "code",
   "execution_count": 28,
   "metadata": {
    "collapsed": true
   },
   "outputs": [],
   "source": [
    "def top_tfidf_feats(row, features, top_n=25):\n",
    "    ''' Get top n tfidf values in row and return them with their corresponding feature names.'''\n",
    "    topn_ids = np.argsort(row)[::-1][:top_n]\n",
    "    top_feats = [(features[i], row[i]) for i in topn_ids]\n",
    "    df = pd.DataFrame(top_feats)\n",
    "    df.columns = ['feature', 'tfidf']\n",
    "    return df"
   ]
  },
  {
   "cell_type": "code",
   "execution_count": 29,
   "metadata": {
    "collapsed": true
   },
   "outputs": [],
   "source": [
    "def top_feats_in_doc(Xtr, features, row_id, top_n=25):\n",
    "    ''' Top tfidf features in specific document (matrix row) '''\n",
    "    row = np.squeeze(Xtr[row_id].toarray())\n",
    "    return top_tfidf_feats(row, features, top_n)"
   ]
  },
  {
   "cell_type": "code",
   "execution_count": 30,
   "metadata": {
    "collapsed": false
   },
   "outputs": [
    {
     "name": "stdout",
     "output_type": "stream",
     "text": [
      "          feature     tfidf\n",
      "0            bull  0.331890\n",
      "1            citi  0.290126\n",
      "2          soccer  0.237421\n",
      "3             red  0.206794\n",
      "4         glidden  0.187779\n",
      "5             nyc  0.181412\n",
      "6           derbi  0.178271\n",
      "7            team  0.170859\n",
      "8              fc  0.165945\n",
      "9          jersey  0.162983\n",
      "10            fan  0.159129\n",
      "11           york  0.149571\n",
      "12             ml  0.149179\n",
      "13        stadium  0.146739\n",
      "14          yanke  0.146338\n",
      "15       ferrezza  0.140834\n",
      "16           club  0.140347\n",
      "17            new  0.136129\n",
      "18            esc  0.134774\n",
      "19        support  0.132005\n",
      "20        rivalri  0.118097\n",
      "21         hudson  0.094977\n",
      "22          river  0.088056\n",
      "23          giant  0.082339\n",
      "24           mlss  0.078902\n",
      "25           rail  0.075909\n",
      "26            say  0.070395\n",
      "27          sport  0.068727\n",
      "28          leagu  0.066341\n",
      "29         subway  0.065955\n",
      "30           play  0.065382\n",
      "31         yorker  0.063552\n",
      "32          metro  0.059355\n",
      "33        inaugur  0.059201\n",
      "34       harrison  0.058751\n",
      "35     overshadow  0.058321\n",
      "36      manhattan  0.056886\n",
      "37           tide  0.055110\n",
      "38        borough  0.054141\n",
      "39          arena  0.051918\n",
      "40       franchis  0.050868\n",
      "41         modest  0.049979\n",
      "42          villa  0.049979\n",
      "43          group  0.048370\n",
      "44      hungerusa  0.046945\n",
      "45         emmitt  0.046945\n",
      "46        yorknew  0.046945\n",
      "47  sincedemolish  0.046945\n",
      "48        fridman  0.046945\n",
      "49          carri  0.046535\n"
     ]
    }
   ],
   "source": [
    "for i, key in enumerate(token_keys):\n",
    "    print('{0}\\r'.format(i/len(token_keys)))\n",
    "    clear_output(wait=True)\n",
    "    docs[key]['top_tfidf'] = top_feats_in_doc(X_tfidf, vectorizer_tfidf.get_feature_names(), i, 50)\n",
    "    \n",
    "print(docs['2016-05-20-28']['top_tfidf'])"
   ]
  },
  {
   "cell_type": "markdown",
   "metadata": {},
   "source": [
    "# Add Vector to docs"
   ]
  },
  {
   "cell_type": "code",
   "execution_count": 81,
   "metadata": {
    "collapsed": false
   },
   "outputs": [
    {
     "data": {
      "text/plain": [
       "<1x88946 sparse matrix of type '<class 'numpy.float64'>'\n",
       "\twith 374 stored elements in Compressed Sparse Row format>"
      ]
     },
     "execution_count": 81,
     "metadata": {},
     "output_type": "execute_result"
    }
   ],
   "source": [
    "for i, key in enumerate(token_keys):\n",
    "    docs[key]['tfidf'] = X_tfidf[i]\n",
    "\n",
    "docs['2016-05-20-28']['tfidf']"
   ]
  },
  {
   "cell_type": "markdown",
   "metadata": {},
   "source": [
    "# Add Section ID to docs"
   ]
  },
  {
   "cell_type": "code",
   "execution_count": 82,
   "metadata": {
    "collapsed": false
   },
   "outputs": [],
   "source": [
    "for k, v in docs.items():\n",
    "    docs[k]['section_id'] = section_id[v['sectionId']]"
   ]
  },
  {
   "cell_type": "markdown",
   "metadata": {},
   "source": [
    "# Add Keyword"
   ]
  },
  {
   "cell_type": "code",
   "execution_count": 83,
   "metadata": {
    "collapsed": false
   },
   "outputs": [
    {
     "data": {
      "text/plain": [
       "['MLS',\n",
       " 'New York Red Bulls',\n",
       " 'New York City FC',\n",
       " 'US sports',\n",
       " 'Football',\n",
       " 'Sport']"
      ]
     },
     "execution_count": 83,
     "metadata": {},
     "output_type": "execute_result"
    }
   ],
   "source": [
    "for k, v in docs.items():\n",
    "    docs[k]['tags'] = []\n",
    "    for keyword in v['keyword']:\n",
    "        docs[k]['tags'].append(keyword['webTitle'])\n",
    "\n",
    "docs['2016-05-20-28']['tags']"
   ]
  },
  {
   "cell_type": "code",
   "execution_count": 84,
   "metadata": {
    "collapsed": true
   },
   "outputs": [],
   "source": [
    "def docs_to_tag_data(docs):\n",
    "    d = []\n",
    "    for key, vs in docs.items():\n",
    "        h = {}\n",
    "        for v in vs:\n",
    "            h[v] = True\n",
    "        d.append(h)\n",
    "\n",
    "    return(d)"
   ]
  },
  {
   "cell_type": "code",
   "execution_count": 85,
   "metadata": {
    "collapsed": true
   },
   "outputs": [],
   "source": [
    "tag_values = docs_to_tag_data(docs)"
   ]
  },
  {
   "cell_type": "markdown",
   "metadata": {},
   "source": [
    "# Save & Load Docs"
   ]
  },
  {
   "cell_type": "code",
   "execution_count": 86,
   "metadata": {
    "collapsed": true
   },
   "outputs": [],
   "source": [
    "pickle.dump(docs, open('tmp/docs.pickle', 'wb'))"
   ]
  },
  {
   "cell_type": "code",
   "execution_count": 98,
   "metadata": {
    "collapsed": false
   },
   "outputs": [],
   "source": [
    "docs = pickle.load(open('tmp/docs.pickle', 'rb'))"
   ]
  },
  {
   "cell_type": "markdown",
   "metadata": {},
   "source": [
    "# Data Exploratory"
   ]
  },
  {
   "cell_type": "code",
   "execution_count": 79,
   "metadata": {
    "collapsed": false
   },
   "outputs": [
    {
     "data": {
      "text/plain": [
       "83"
      ]
     },
     "execution_count": 79,
     "metadata": {},
     "output_type": "execute_result"
    }
   ],
   "source": [
    "section_ids = {}\n",
    "for k, v in reduced_docs.items():\n",
    "    try:\n",
    "        section_ids[v['sectionId']]\n",
    "    except:\n",
    "        section_ids[v['sectionId']] = []\n",
    "    \n",
    "    section_ids[v['sectionId']].append(k)\n",
    "        \n",
    "len(section_ids.keys())"
   ]
  },
  {
   "cell_type": "code",
   "execution_count": 80,
   "metadata": {
    "collapsed": false
   },
   "outputs": [
    {
     "data": {
      "image/png": "[encoded data removed]",
      "text/plain": [
       "<matplotlib.figure.Figure at 0x115a626a0>"
      ]
     },
     "metadata": {},
     "output_type": "display_data"
    }
   ],
   "source": [
    "x_data = []\n",
    "y_data = []\n",
    "count = 0\n",
    "for key, value in sorted(section_ids.items(), key=lambda x: len(x[1]), reverse=True):\n",
    "    count += 1\n",
    "    if count <= 50:\n",
    "        x_data.append(count)\n",
    "        y_data.append(len(value))\n",
    "\n",
    "ind = np.arange(0, len(y_data) * 2, 2)\n",
    "fig = plt.figure(figsize=(20,10))\n",
    "fig.patch.set_facecolor('w')\n",
    "plt.bar(ind, y_data)\n",
    "plt.xticks(ind, x_data)\n",
    "plt.title(\"Original Distribution\")\n",
    "plt.xlabel(\"Topic\")\n",
    "plt.ylabel(\"Frequency\")\n",
    "plt.tight_layout()\n",
    "fig.savefig('tmp/size_chart_true.png')\n",
    "plt.show()"
   ]
  },
  {
   "cell_type": "code",
   "execution_count": 46,
   "metadata": {
    "collapsed": true
   },
   "outputs": [],
   "source": [
    "import scipy.stats as stats\n",
    "\n",
    "def topics_to_prob_dist(topics):\n",
    "    x_data = []\n",
    "    y_data = []\n",
    "    for key, value in topics.items():\n",
    "        x_data.append(key)\n",
    "        y_data.append(len(value))\n",
    "\n",
    "    df = pd.DataFrame(y_data)\n",
    "    # df.hist(weights=np.ones_like(df[df.columns[0]]*100.)/len(df))\n",
    "\n",
    "    fig = plt.figure()\n",
    "    fig.patch.set_facecolor('w')\n",
    "    plt.hist(df, log=True, weights=np.ones_like(df[df.columns[0]]*100.)/len(df))\n",
    "    plt.title(\"Probability Distribution of Topic Sizes - Original Data\")\n",
    "    plt.xlabel(\"Topic Size\")\n",
    "    plt.ylabel(\"Probability\")\n",
    "    plt.tight_layout()\n",
    "    fig.savefig('tmp/prob_chart_true.png')\n",
    "    plt.show()"
   ]
  },
  {
   "cell_type": "code",
   "execution_count": 47,
   "metadata": {
    "collapsed": false
   },
   "outputs": [
    {
     "data": {
      "image/png": "[encoded data removed]",
      "text/plain": [
       "<matplotlib.figure.Figure at 0x114a3b198>"
      ]
     },
     "metadata": {},
     "output_type": "display_data"
    }
   ],
   "source": [
    "topics_to_prob_dist(section_ids)"
   ]
  },
  {
   "cell_type": "code",
   "execution_count": 30,
   "metadata": {
    "collapsed": false
   },
   "outputs": [
    {
     "data": {
      "text/plain": [
       "84"
      ]
     },
     "execution_count": 30,
     "metadata": {},
     "output_type": "execute_result"
    }
   ],
   "source": [
    "section_id_nos = {}\n",
    "for k, v in docs.items():\n",
    "    try:\n",
    "        section_id_nos[v['section_id']]\n",
    "    except:\n",
    "        section_id_nos[v['section_id']] = []\n",
    "    \n",
    "    section_id_nos[v['section_id']].append(k)\n",
    "        \n",
    "len(section_id_nos.keys())"
   ]
  },
  {
   "cell_type": "code",
   "execution_count": 31,
   "metadata": {
    "collapsed": true
   },
   "outputs": [],
   "source": [
    "ori_tfidf_topics = {}\n",
    "\n",
    "for k, vs in section_id_nos.items():\n",
    "    ori_tfidf_topics[k] = []\n",
    "    for v in vs:\n",
    "        ori_tfidf_topics[k].append(docs[v]['tfidf'])"
   ]
  },
  {
   "cell_type": "code",
   "execution_count": 32,
   "metadata": {
    "collapsed": false
   },
   "outputs": [
    {
     "data": {
      "text/plain": [
       "(84, 84)"
      ]
     },
     "execution_count": 32,
     "metadata": {},
     "output_type": "execute_result"
    }
   ],
   "source": [
    "sub_topics = {k: v for k, v in ori_tfidf_topics.items() if k <= 101}\n",
    "topic_centroids = cluster_centroids(sub_topics)\n",
    "matx_c = scipy.sparse.vstack((topic_centroids.values()))\n",
    "matx_c_c = cosine_similarity(matx_c)\n",
    "matx_c_c.shape"
   ]
  },
  {
   "cell_type": "code",
   "execution_count": 34,
   "metadata": {
    "collapsed": false
   },
   "outputs": [
    {
     "data": {
      "text/plain": [
       "<matplotlib.text.Text at 0x113a288d0>"
      ]
     },
     "execution_count": 34,
     "metadata": {},
     "output_type": "execute_result"
    },
    {
     "data": {
      "image/png": "[encoded data removed]",
      "text/plain": [
       "<matplotlib.figure.Figure at 0x113641f60>"
      ]
     },
     "metadata": {},
     "output_type": "display_data"
    }
   ],
   "source": [
    "import seaborn as sns\n",
    "\n",
    "fig, ax = plt.subplots(figsize=(10, 10))\n",
    "sns_plt = sns.heatmap(matx_c_c, cmap=plt.cm.gist_heat_r)\n",
    "sns_plt.set(xticklabels=np.arange(1,101), yticklabels=(-np.sort(-np.arange(1,101))))\n",
    "# sns_plt.invert_yaxis()\n",
    "plt.title(\"Inter-topic Similarity\")\n",
    "plt.xlabel(\"Topics\")\n",
    "plt.ylabel(\"Topics\")"
   ]
  },
  {
   "cell_type": "code",
   "execution_count": 33,
   "metadata": {
    "collapsed": false
   },
   "outputs": [
    {
     "data": {
      "text/plain": [
       "['football',\n",
       " 'commentisfree',\n",
       " 'world',\n",
       " 'sport',\n",
       " 'music',\n",
       " 'politics',\n",
       " 'australia-news',\n",
       " 'business',\n",
       " 'film',\n",
       " 'media',\n",
       " 'us-news',\n",
       " 'lifeandstyle',\n",
       " 'books',\n",
       " 'tv-and-radio',\n",
       " 'environment',\n",
       " 'uk-news',\n",
       " 'society',\n",
       " 'technology',\n",
       " 'stage',\n",
       " 'money',\n",
       " 'childrens-books-site',\n",
       " 'artanddesign',\n",
       " 'science',\n",
       " 'education',\n",
       " 'small-business-network',\n",
       " 'global-development',\n",
       " 'travel',\n",
       " 'fashion',\n",
       " 'sustainable-business',\n",
       " 'culture',\n",
       " 'news',\n",
       " 'cities',\n",
       " 'global-development-professionals-network',\n",
       " 'global',\n",
       " 'healthcare-network',\n",
       " 'law',\n",
       " 'social-care-network',\n",
       " 'public-leaders-network',\n",
       " 'media-network',\n",
       " 'teacher-network',\n",
       " 'careers',\n",
       " 'higher-education-network',\n",
       " 'crosswords',\n",
       " 'voluntary-sector-network',\n",
       " 'housing-network',\n",
       " 'media-network/marketing-agencies-association-partner-zone',\n",
       " 'theguardian',\n",
       " 'gnm-press-office',\n",
       " 'guardian-masterclasses',\n",
       " 'women-in-leadership',\n",
       " 'small-business-network/kia-fleet-partner-zone',\n",
       " 'society-professionals',\n",
       " 'sap-partner-zone',\n",
       " 'culture-professionals-network',\n",
       " 'holiday-in-sweden',\n",
       " 'community',\n",
       " 'nab-meet-the-changemakers',\n",
       " 'skills-for-health-partner-zone',\n",
       " 'uncover-cool-copenhagen',\n",
       " 'social-care-network/skills-for-care-partner-zone',\n",
       " 'sustainable-business/fairtrade-partner-zone',\n",
       " 'business-call-to-action-partnerzone',\n",
       " 'membership',\n",
       " 'natwest-partner-zone',\n",
       " 'global-development-professionals-network/crown-agents-partner-zone',\n",
       " 'facebook-partner-zone',\n",
       " 'tmi',\n",
       " 'inside-seat',\n",
       " 'global-development-professionals-network/adam-smith-international-partner-zone',\n",
       " 'voluntary-sector-network/iof-partner-zone',\n",
       " 'cass-partner-zone',\n",
       " 'british-council-partner-zone',\n",
       " 'microsoft-partner-zone',\n",
       " 'mad-for-film',\n",
       " 'sustainability',\n",
       " 'grant-thornton-partner-zone',\n",
       " 'nestle-sustainable-cocoa',\n",
       " 'info',\n",
       " 'deloitte-partner-zone',\n",
       " 'ba-guide-to-mauritius-2016',\n",
       " 'french-film-first',\n",
       " 'guardian-us-press-office',\n",
       " 'gnmeducationcentre',\n",
       " 'renault-on-road-revolution']"
      ]
     },
     "execution_count": 33,
     "metadata": {},
     "output_type": "execute_result"
    }
   ],
   "source": [
    "topic_labels = []\n",
    "for key, value in sorted(section_ids.items(), key=lambda x: len(x[1]), reverse=True):\n",
    "    topic_labels.append(key)\n",
    "topic_labels"
   ]
  },
  {
   "cell_type": "code",
   "execution_count": 104,
   "metadata": {
    "collapsed": true
   },
   "outputs": [],
   "source": [
    "from collections import Counter\n",
    "\n",
    "def topics_to_tags(topics, num_words):\n",
    "    results = {}\n",
    "\n",
    "    for k, vs in topics.items():\n",
    "        results[k] = []\n",
    "        for v in vs:\n",
    "            results[k].append(docs[v]['tags'])\n",
    "\n",
    "    tag_topics = sorted(results.items(), key=lambda x: len(x[1]), reverse=True)\n",
    "    \n",
    "    results = {}\n",
    "    for topic in tag_topics:\n",
    "        tag_count_topics = Counter([tag for tags in topic[1] for tag in tags ])\n",
    "        tags = sorted(tag_count_topics.items(), key=lambda x: x[1], reverse=True)\n",
    "        keywords = [k for k, v in tags]\n",
    "        k = topic[0]\n",
    "        results[k] = (len(topics[k]), keywords[:num_words])\n",
    "    \n",
    "    return results"
   ]
  },
  {
   "cell_type": "code",
   "execution_count": 105,
   "metadata": {
    "collapsed": false
   },
   "outputs": [],
   "source": [
    "original_topics = {}\n",
    "for k, v in docs.items():\n",
    "    try:\n",
    "        original_topics[v['section_id']]\n",
    "    except:\n",
    "        original_topics[v['section_id']] = []\n",
    "    \n",
    "    original_topics[v['section_id']].append(k)\n",
    "        \n",
    "len(original_topics.keys())\n",
    "ori_tags = sorted(topics_to_tags(original_topics, 20).items(), key=lambda x: x[1][0], reverse=True)"
   ]
  },
  {
   "cell_type": "code",
   "execution_count": 106,
   "metadata": {
    "collapsed": false
   },
   "outputs": [
    {
     "name": "stdout",
     "output_type": "stream",
     "text": [
      "7\n",
      "11\n",
      "4\n",
      "10\n",
      "12\n",
      "17\n",
      "8\n",
      "18\n",
      "1\n",
      "2\n"
     ]
    }
   ],
   "source": [
    "original_labels = {}\n",
    "for k, v in docs.items():\n",
    "    try:\n",
    "        original_labels[v['section_id']]\n",
    "    except:\n",
    "        original_labels[v['section_id']] = []\n",
    "    \n",
    "    original_labels[v['section_id']].append(k)\n",
    "        \n",
    "original_labels = sorted(original_labels.items(), key=lambda x: len(x[1]), reverse=True)\n",
    "for label in original_labels[:10]:\n",
    "    print(label[0])"
   ]
  },
  {
   "cell_type": "code",
   "execution_count": 35,
   "metadata": {
    "collapsed": false
   },
   "outputs": [
    {
     "data": {
      "text/plain": [
       "(2,\n",
       " (366,\n",
       "  ['Media',\n",
       "   'UK news',\n",
       "   'Television industry',\n",
       "   'BBC',\n",
       "   'Culture',\n",
       "   'Newspapers',\n",
       "   'Television & radio',\n",
       "   'Politics',\n",
       "   'Newspapers & magazines',\n",
       "   'Television',\n",
       "   'National newspapers',\n",
       "   'Digital media',\n",
       "   'John Whittingdale',\n",
       "   'US news',\n",
       "   'Media business',\n",
       "   'Technology',\n",
       "   'EU referendum',\n",
       "   'Daily Mail',\n",
       "   'Advertising',\n",
       "   'Business']))"
      ]
     },
     "execution_count": 35,
     "metadata": {},
     "output_type": "execute_result"
    }
   ],
   "source": [
    "ori_tags[9]"
   ]
  },
  {
   "cell_type": "markdown",
   "metadata": {},
   "source": [
    "# Network-based Approach - Build the graph from scratch"
   ]
  },
  {
   "cell_type": "code",
   "execution_count": 48,
   "metadata": {
    "collapsed": false
   },
   "outputs": [
    {
     "name": "stdout",
     "output_type": "stream",
     "text": [
      "9095\n"
     ]
    }
   ],
   "source": [
    "g = ig.Graph()\n",
    "for i, key in enumerate(token_keys):\n",
    "    g.add_vertices(key)\n",
    "    \n",
    "print(g.vcount())"
   ]
  },
  {
   "cell_type": "code",
   "execution_count": 49,
   "metadata": {
    "collapsed": false
   },
   "outputs": [
    {
     "name": "stdout",
     "output_type": "stream",
     "text": [
      "0.999890049477735\r\n",
      "82719025\n"
     ]
    }
   ],
   "source": [
    "g.delete_edges(g.es)\n",
    "edges = []\n",
    "for i, source in enumerate(token_keys):\n",
    "    clear_output(wait=True)\n",
    "    print('{0}\\r'.format(i/len(token_keys)))\n",
    "    for j, target in enumerate(token_keys):\n",
    "        edges.append((source, target))\n",
    "            \n",
    "g.add_edges(edges)  \n",
    "edges = [] \n",
    "print(g.ecount())"
   ]
  },
  {
   "cell_type": "code",
   "execution_count": 50,
   "metadata": {
    "collapsed": false
   },
   "outputs": [
    {
     "name": "stdout",
     "output_type": "stream",
     "text": [
      "82719025\n"
     ]
    }
   ],
   "source": [
    "from sklearn.metrics.pairwise import cosine_similarity\n",
    "\n",
    "count = 0\n",
    "cos_sims = cosine_similarity(X_tfidf)\n",
    "for i, source in enumerate(token_keys):\n",
    "    sims = cos_sims[i]\n",
    "    print('{0}\\r'.format(i/len(token_keys)))\n",
    "    clear_output(wait=True)\n",
    "    for j, target in enumerate(token_keys):            \n",
    "        g.es[count][\"weight\"] = sims[j]\n",
    "        count += 1\n",
    "\n",
    "print(g.ecount())"
   ]
  },
  {
   "cell_type": "markdown",
   "metadata": {},
   "source": [
    "Remove duplicated and self-loop edges"
   ]
  },
  {
   "cell_type": "code",
   "execution_count": 51,
   "metadata": {
    "collapsed": false
   },
   "outputs": [
    {
     "name": "stdout",
     "output_type": "stream",
     "text": [
      "41354965\n"
     ]
    }
   ],
   "source": [
    "g.simplify(multiple=True, loops=True, combine_edges=\"max\")\n",
    "print(g.ecount())"
   ]
  },
  {
   "cell_type": "code",
   "execution_count": 52,
   "metadata": {
    "collapsed": false
   },
   "outputs": [
    {
     "data": {
      "text/plain": [
       "0.063943441531837661"
      ]
     },
     "execution_count": 52,
     "metadata": {},
     "output_type": "execute_result"
    }
   ],
   "source": [
    "g.es[1]['weight']"
   ]
  },
  {
   "cell_type": "code",
   "execution_count": 155,
   "metadata": {
    "collapsed": true
   },
   "outputs": [],
   "source": [
    "g.write_gml('tmp/igraph.gml')"
   ]
  },
  {
   "cell_type": "code",
   "execution_count": 54,
   "metadata": {
    "collapsed": false
   },
   "outputs": [],
   "source": [
    "sub_g = g.es.select(weight_ge=0.2).subgraph()"
   ]
  },
  {
   "cell_type": "code",
   "execution_count": 40,
   "metadata": {
    "collapsed": false
   },
   "outputs": [
    {
     "name": "stdout",
     "output_type": "stream",
     "text": [
      "Nodes 9095\n",
      "Edges 34993969\n"
     ]
    }
   ],
   "source": [
    "print(\"Nodes {}\".format(sub_g.vcount()))\n",
    "print(\"Edges {}\".format(sub_g.ecount()))"
   ]
  },
  {
   "cell_type": "code",
   "execution_count": 33,
   "metadata": {
    "collapsed": false
   },
   "outputs": [
    {
     "ename": "NameError",
     "evalue": "name 'sub_g' is not defined",
     "output_type": "error",
     "traceback": [
      "\u001b[0;31m---------------------------------------------------------------------------\u001b[0m",
      "\u001b[0;31mNameError\u001b[0m                                 Traceback (most recent call last)",
      "\u001b[0;32m<ipython-input-33-e251686d5e4d>\u001b[0m in \u001b[0;36m<module>\u001b[0;34m()\u001b[0m\n\u001b[0;32m----> 1\u001b[0;31m \u001b[0mprint\u001b[0m\u001b[0;34m(\u001b[0m\u001b[0msub_g\u001b[0m\u001b[0;34m.\u001b[0m\u001b[0mvs\u001b[0m\u001b[0;34m[\u001b[0m\u001b[0;36m1\u001b[0m\u001b[0;34m]\u001b[0m\u001b[0;34m)\u001b[0m\u001b[0;34m\u001b[0m\u001b[0m\n\u001b[0m\u001b[1;32m      2\u001b[0m \u001b[0mprint\u001b[0m\u001b[0;34m(\u001b[0m\u001b[0msub_g\u001b[0m\u001b[0;34m.\u001b[0m\u001b[0mvs\u001b[0m\u001b[0;34m[\u001b[0m\u001b[0;36m3\u001b[0m\u001b[0;34m]\u001b[0m\u001b[0;34m)\u001b[0m\u001b[0;34m\u001b[0m\u001b[0m\n",
      "\u001b[0;31mNameError\u001b[0m: name 'sub_g' is not defined"
     ]
    }
   ],
   "source": [
    "print(sub_g.vs[1])\n",
    "print(sub_g.vs[3])"
   ]
  },
  {
   "cell_type": "code",
   "execution_count": 35,
   "metadata": {
    "collapsed": true
   },
   "outputs": [],
   "source": [
    "sub_g.write_gml('tmp/sg_001_90.gml')"
   ]
  },
  {
   "cell_type": "code",
   "execution_count": 88,
   "metadata": {
    "collapsed": true
   },
   "outputs": [],
   "source": [
    "sg = sub_g.es.select(weight_ge=0.2).subgraph()\n",
    "sg.write_gml('tmp/sg_02.gml')"
   ]
  },
  {
   "cell_type": "markdown",
   "metadata": {},
   "source": [
    "# Apply Modularity"
   ]
  },
  {
   "cell_type": "code",
   "execution_count": 33,
   "metadata": {
    "collapsed": false
   },
   "outputs": [],
   "source": [
    "sub_g = ig.Graph.Read_GML('tmp/sg_02.gml')"
   ]
  },
  {
   "cell_type": "code",
   "execution_count": 34,
   "metadata": {
    "collapsed": true
   },
   "outputs": [],
   "source": [
    "def network_properties(g, community):\n",
    "    print(\"Nodes {}\".format(g.vcount()))\n",
    "    print(\"Edges {}\".format(g.ecount()))\n",
    "    print(\"Diameter {}\".format(g.diameter()))\n",
    "    print(\"LCC {}\".format(g.clusters().giant().vcount()))\n",
    "    print(\"APL {}\".format(g.average_path_length()))\n",
    "    print(\"AD {}\".format(sum(g.degree())/len(g.degree())))\n",
    "    print(\"Giant Size {}\".format(len(community.giant().vs())))\n",
    "    print(\"NO of Communities {}\".format(max(community.membership) + 1))\n",
    "    print(\"Modularity {}\".format(g.modularity(community.membership)))"
   ]
  },
  {
   "cell_type": "code",
   "execution_count": 35,
   "metadata": {
    "collapsed": false,
    "scrolled": false
   },
   "outputs": [
    {
     "name": "stdout",
     "output_type": "stream",
     "text": [
      "586\n",
      "166\n",
      "140\n",
      "139\n",
      "Nodes 8213\n",
      "Edges 132243\n",
      "LCC 7950\n",
      "NO of Communities 139\n",
      "Modularity 0.7987487477056004\n"
     ]
    }
   ],
   "source": [
    "sg = sub_g.es.select(weight_ge=0.2).subgraph()\n",
    "communities = sg.community_multilevel(weights='weight',return_levels=True)\n",
    "for com in communities:\n",
    "    print(max(com.membership) + 1)\n",
    "community = communities[-1]\n",
    "print(\"Nodes {}\".format(sg.vcount()))\n",
    "print(\"Edges {}\".format(sg.ecount()))\n",
    "print(\"LCC {}\".format(sg.clusters().giant().vcount()))\n",
    "print(\"NO of Communities {}\".format(max(community.membership) + 1))\n",
    "print(\"Modularity {}\".format(sg.modularity(community.membership)))\n",
    "# community = sg.community_infomap(edge_weights='weight')\n",
    "# community = sg.community_leading_eigenvector(weights='weight')"
   ]
  },
  {
   "cell_type": "markdown",
   "metadata": {},
   "source": [
    "# Reduced Data"
   ]
  },
  {
   "cell_type": "code",
   "execution_count": 64,
   "metadata": {
    "collapsed": false
   },
   "outputs": [],
   "source": [
    "reduced_docs = {}\n",
    "for v in sg.vs():\n",
    "    reduced_docs[v['name']] = docs[v['name']]"
   ]
  },
  {
   "cell_type": "code",
   "execution_count": 65,
   "metadata": {
    "collapsed": true
   },
   "outputs": [],
   "source": [
    "sorted_reduced_docs = sorted(reduced_docs.items(), key=lambda x: x[0], reverse=True)"
   ]
  },
  {
   "cell_type": "code",
   "execution_count": 66,
   "metadata": {
    "collapsed": false
   },
   "outputs": [
    {
     "name": "stdout",
     "output_type": "stream",
     "text": [
      "8213\n"
     ]
    }
   ],
   "source": [
    "reduced_token_keys = [x[0] for x in sorted_reduced_docs]\n",
    "reduced_token_values = [x[1][\"text\"] for x in sorted_reduced_docs]\n",
    "print(len(reduced_token_values))"
   ]
  },
  {
   "cell_type": "code",
   "execution_count": 67,
   "metadata": {
    "collapsed": false,
    "scrolled": true
   },
   "outputs": [],
   "source": [
    "reduced_tfidf_values = [x[1]['tfidf'] for x in sorted_reduced_docs]"
   ]
  },
  {
   "cell_type": "code",
   "execution_count": 68,
   "metadata": {
    "collapsed": false
   },
   "outputs": [
    {
     "data": {
      "text/plain": [
       "<8213x69281 sparse matrix of type '<class 'numpy.float64'>'\n",
       "\twith 1089809 stored elements in Compressed Sparse Row format>"
      ]
     },
     "execution_count": 68,
     "metadata": {},
     "output_type": "execute_result"
    }
   ],
   "source": [
    "reduced_X_tfidf = scipy.sparse.vstack((reduced_tfidf_values))\n",
    "reduced_X_tfidf"
   ]
  },
  {
   "cell_type": "markdown",
   "metadata": {},
   "source": [
    "## Show contents of communities"
   ]
  },
  {
   "cell_type": "code",
   "execution_count": 33,
   "metadata": {
    "collapsed": false,
    "scrolled": false
   },
   "outputs": [],
   "source": [
    "with open('tmp/network_docs.txt', 'w+') as file:\n",
    "    for i in range(max(community.membership) + 1):\n",
    "        for v in community.subgraph(i).vs():\n",
    "            file.write(\"Topic:{} File:{} Title:{}\\n\".format(i, v['name'], docs[v['name']]['webTitle']))"
   ]
  },
  {
   "cell_type": "markdown",
   "metadata": {},
   "source": [
    "# Network Size Chart"
   ]
  },
  {
   "cell_type": "code",
   "execution_count": 36,
   "metadata": {
    "collapsed": false
   },
   "outputs": [],
   "source": [
    "def network_to_topics(com):\n",
    "    topics = {}\n",
    "\n",
    "    for i in range(max(com.membership) + 1):\n",
    "        for v in com.subgraph(i).vs():\n",
    "            topic_no = i\n",
    "            try:\n",
    "                topics[topic_no]\n",
    "            except KeyError:\n",
    "                topics[topic_no] = []\n",
    "\n",
    "            topics[topic_no].append(v['name'])\n",
    "    \n",
    "    net_topics = {}\n",
    "    count = 1\n",
    "    for key, value in sorted(topics.items(), key=lambda x: len(x[1]), reverse=True):\n",
    "        net_topics[count] = value\n",
    "        count += 1\n",
    "        \n",
    "    return net_topics"
   ]
  },
  {
   "cell_type": "code",
   "execution_count": 53,
   "metadata": {
    "collapsed": false
   },
   "outputs": [
    {
     "data": {
      "text/plain": [
       "139"
      ]
     },
     "execution_count": 53,
     "metadata": {},
     "output_type": "execute_result"
    }
   ],
   "source": [
    "net_topics = network_to_topics(community)\n",
    "len(net_topics)"
   ]
  },
  {
   "cell_type": "code",
   "execution_count": 54,
   "metadata": {
    "collapsed": false
   },
   "outputs": [
    {
     "data": {
      "text/plain": [
       "18"
      ]
     },
     "execution_count": 54,
     "metadata": {},
     "output_type": "execute_result"
    }
   ],
   "source": [
    "for key, value in docs.items():\n",
    "    docs[key]['mod_topic'] = ''\n",
    "    del docs[key]['mod_topic']\n",
    "\n",
    "for key, value in net_topics.items():\n",
    "    for v in value:\n",
    "        docs[v]['mod_topic'] = key\n",
    "\n",
    "docs['2016-05-20-1']['mod_topic']"
   ]
  },
  {
   "cell_type": "code",
   "execution_count": 77,
   "metadata": {
    "collapsed": false,
    "scrolled": true
   },
   "outputs": [],
   "source": [
    "def community_to_size_chart(net_topics):\n",
    "    x_data = []\n",
    "    y_data = []\n",
    "    for key, value in net_topics.items():\n",
    "        if key <= 50:\n",
    "            x_data.append(key)\n",
    "            y_data.append(len(value))\n",
    "\n",
    "    ind = np.arange(0, len(y_data) * 2, 2)\n",
    "    fig = plt.figure(figsize=(20,10))\n",
    "    fig.patch.set_facecolor('w')\n",
    "    plt.bar(ind, y_data)\n",
    "    plt.xticks(ind, x_data)\n",
    "    plt.title(\"Modularity\")\n",
    "    plt.xlabel(\"Topic\")\n",
    "    plt.ylabel(\"Frequency\")\n",
    "    fig.tight_layout()\n",
    "    fig.savefig('tmp/size_chart_net.png')\n",
    "    plt.show()"
   ]
  },
  {
   "cell_type": "code",
   "execution_count": 78,
   "metadata": {
    "collapsed": false
   },
   "outputs": [
    {
     "data": {
      "image/png": "[encoded data removed]",
      "text/plain": [
       "<matplotlib.figure.Figure at 0x114eb9c50>"
      ]
     },
     "metadata": {},
     "output_type": "display_data"
    }
   ],
   "source": [
    "community_to_size_chart({k: v for k, v in net_topics.items()})"
   ]
  },
  {
   "cell_type": "code",
   "execution_count": 48,
   "metadata": {
    "collapsed": false
   },
   "outputs": [],
   "source": [
    "import scipy.stats as stats\n",
    "\n",
    "def topics_to_prob_dist(topics):\n",
    "    x_data = []\n",
    "    y_data = []\n",
    "    for key, value in topics.items():\n",
    "        x_data.append(key)\n",
    "        y_data.append(len(value))\n",
    "\n",
    "    df = pd.DataFrame(y_data)\n",
    "    # df.hist(weights=np.ones_like(df[df.columns[0]]*100.)/len(df))\n",
    "\n",
    "    fig = plt.figure()\n",
    "    fig.patch.set_facecolor('w')\n",
    "    plt.hist(df, log=True, weights=np.ones_like(df[df.columns[0]]*100.)/len(df))\n",
    "    plt.title(\"Louvain Modularity\")\n",
    "    plt.xlabel(\"Topic Size\")\n",
    "    plt.ylabel(\"Probability\")\n",
    "    plt.tight_layout()\n",
    "    fig.savefig('tmp/prob_chart_mod.png')\n",
    "    plt.show()"
   ]
  },
  {
   "cell_type": "code",
   "execution_count": 49,
   "metadata": {
    "collapsed": false
   },
   "outputs": [
    {
     "data": {
      "image/png": "[encoded data removed]",
      "text/plain": [
       "<matplotlib.figure.Figure at 0x114863ac8>"
      ]
     },
     "metadata": {},
     "output_type": "display_data"
    }
   ],
   "source": [
    "topics_to_prob_dist(net_topics)"
   ]
  },
  {
   "cell_type": "code",
   "execution_count": 6,
   "metadata": {
    "collapsed": true
   },
   "outputs": [],
   "source": [
    "import math\n",
    "\n",
    "def intra_cluster_similarity(vectors):\n",
    "    matx = scipy.sparse.vstack((vectors))\n",
    "    return np.sum(cosine_similarity(matx, matx)) / math.pow(len(vectors), 2)"
   ]
  },
  {
   "cell_type": "code",
   "execution_count": 7,
   "metadata": {
    "collapsed": true
   },
   "outputs": [],
   "source": [
    "def inter_cluster_overall_similarity3(vectors):\n",
    "    similarity_topics = {}\n",
    "    for k, values in vectors.items():\n",
    "        weight = len(values)\n",
    "        if len(values) > 0:\n",
    "            matx = scipy.sparse.vstack((values))\n",
    "            centroid1 = matx.sum(axis=0) / len(values)\n",
    "            similarities = []\n",
    "            for k2, values2 in vectors.items():\n",
    "                if len(values2) > 0 & k != k2:\n",
    "                    matx2 = scipy.sparse.vstack((values2))\n",
    "                    centroid2 = matx2.sum(axis=0) / len(values2)\n",
    "                    similarities.append(cosine_similarity(centroid1, centroid2))\n",
    "            similarity_topics[k] = weight * np.sum(similarities) / len(similarities)\n",
    "            \n",
    "    return sum(similarity_topics.values()) / len(similarity_topics.values())"
   ]
  },
  {
   "cell_type": "code",
   "execution_count": 10,
   "metadata": {
    "collapsed": true
   },
   "outputs": [],
   "source": [
    "def cluster_centroids(vectors):\n",
    "    centroids = {}\n",
    "    for k, values in vectors.items():\n",
    "        matx = scipy.sparse.vstack((values))\n",
    "        centroids[k] = scipy.sparse.csr_matrix(matx.sum(axis=0) / len(values))\n",
    "    return centroids"
   ]
  },
  {
   "cell_type": "code",
   "execution_count": 39,
   "metadata": {
    "collapsed": false
   },
   "outputs": [],
   "source": [
    "net_tfidf_topics = {}\n",
    "for k, vs in net_topics.items():\n",
    "    net_tfidf_topics[k] = []\n",
    "    for v in vs:\n",
    "        net_tfidf_topics[k].append(docs[v]['tfidf'])"
   ]
  },
  {
   "cell_type": "code",
   "execution_count": 40,
   "metadata": {
    "collapsed": false
   },
   "outputs": [],
   "source": [
    "net_labels_true = {}\n",
    "\n",
    "for k, vs in net_topics.items():\n",
    "    net_labels_true[k] = []\n",
    "    for v in vs:\n",
    "        net_labels_true[k].append(docs[v]['section_id'])"
   ]
  },
  {
   "cell_type": "code",
   "execution_count": 76,
   "metadata": {
    "collapsed": false
   },
   "outputs": [
    {
     "data": {
      "text/plain": [
       "0.52505800028248151"
      ]
     },
     "execution_count": 76,
     "metadata": {},
     "output_type": "execute_result"
    }
   ],
   "source": [
    "intra_cluster_overall_similarity(net_tfidf_topics)"
   ]
  },
  {
   "cell_type": "code",
   "execution_count": 42,
   "metadata": {
    "collapsed": false,
    "scrolled": true
   },
   "outputs": [
    {
     "name": "stdout",
     "output_type": "stream",
     "text": [
      "Overall Similarity 0.525\n",
      "Weighted Similarity 0.097\n",
      "Inter Cluster Overall Similarity Top 0.051\n"
     ]
    }
   ],
   "source": [
    "print(\"Overall Similarity {0:.3f}\".format(intra_cluster_overall_similarity(net_tfidf_topics)))\n",
    "print(\"Weighted Similarity {0:.3f}\".format(inter_cluster_overall_similarity2(net_tfidf_topics)))\n",
    "print(\"Inter Cluster Overall Similarity Top {0:.3f}\".format(inter_cluster_overall_similarity(net_tfidf_topics)))"
   ]
  },
  {
   "cell_type": "code",
   "execution_count": 43,
   "metadata": {
    "collapsed": false
   },
   "outputs": [
    {
     "name": "stdout",
     "output_type": "stream",
     "text": [
      "Intra\n",
      "0.071,0.076,0.078,0.082,0.084,0.085,0.087,0.089,0.090,0.092,0.093,0.094,0.096,0.097,\n",
      "Inter\n",
      "0.405,0.320,0.244,0.171,0.131,0.108,0.090,0.079,0.071,0.065,0.061,0.057,0.053,0.051,"
     ]
    }
   ],
   "source": [
    "print(\"Intra\")\n",
    "for i in np.arange(10,141,10):\n",
    "    print(\"{0:.3f}\".format(intra_cluster_weighted_similarity({k: v for k, v in net_tfidf_topics.items() if k <= i})), end=\",\")\n",
    "\n",
    "print(\"\\nInter\")\n",
    "for i in np.arange(10,141,10):\n",
    "    print(\"{0:.3f}\".format(inter_cluster_overall_similarity({k: v for k, v in net_tfidf_topics.items() if k <= i})), end=\",\")"
   ]
  },
  {
   "cell_type": "code",
   "execution_count": 42,
   "metadata": {
    "collapsed": false
   },
   "outputs": [],
   "source": [
    "with open('tmp/network_docs.txt', 'w+') as file:\n",
    "    for k, vs in net_topics.items():\n",
    "        for v in vs:\n",
    "            file.write(\"Topic:{} File:{} Title:{}\\n\".format(k, v, docs[v]['webTitle']))"
   ]
  },
  {
   "cell_type": "code",
   "execution_count": 43,
   "metadata": {
    "collapsed": false
   },
   "outputs": [
    {
     "data": {
      "text/plain": [
       "(101, 101)"
      ]
     },
     "execution_count": 43,
     "metadata": {},
     "output_type": "execute_result"
    }
   ],
   "source": [
    "sub_topics = {k: v for k, v in net_tfidf_topics.items() if k <= 101}\n",
    "topic_centroids = cluster_centroids(sub_topics)\n",
    "matx_c = scipy.sparse.vstack((topic_centroids.values()))\n",
    "matx_c_c = cosine_similarity(matx_c)\n",
    "matx_c_c.shape"
   ]
  },
  {
   "cell_type": "code",
   "execution_count": 44,
   "metadata": {
    "collapsed": false
   },
   "outputs": [
    {
     "data": {
      "text/plain": [
       "<matplotlib.text.Text at 0x113d89e10>"
      ]
     },
     "execution_count": 44,
     "metadata": {},
     "output_type": "execute_result"
    },
    {
     "data": {
      "image/png": "[encoded data removed]",
      "text/plain": [
       "<matplotlib.figure.Figure at 0x10b93cc88>"
      ]
     },
     "metadata": {},
     "output_type": "display_data"
    }
   ],
   "source": [
    "import seaborn as sns\n",
    "\n",
    "fig, ax = plt.subplots(figsize=(10, 10))\n",
    "sns_plt = sns.heatmap(matx_c_c, cmap=plt.cm.gist_heat_r)\n",
    "sns_plt.set(xticklabels=np.arange(1,101), yticklabels=(-np.sort(-np.arange(1,101))))\n",
    "# sns_plt.invert_yaxis()\n",
    "plt.title(\"Inter-topic Similarity\")\n",
    "plt.xlabel(\"Topics\")\n",
    "plt.ylabel(\"Topics\")"
   ]
  },
  {
   "cell_type": "markdown",
   "metadata": {},
   "source": [
    "# LDA"
   ]
  },
  {
   "cell_type": "code",
   "execution_count": 29,
   "metadata": {
    "collapsed": false
   },
   "outputs": [],
   "source": [
    "def lda_to_topics(lda_items, threshold):\n",
    "    topics = {}\n",
    "\n",
    "    for item in lda_items:\n",
    "        topic_no = item[1]['lda']\n",
    "        try:\n",
    "            topics[topic_no]\n",
    "        except:\n",
    "            topics[topic_no] = []\n",
    "\n",
    "        if item[1]['lda_value'] >= threshold:\n",
    "            topics[topic_no].append(item[0])\n",
    "\n",
    "    lda_topics = {}\n",
    "    lda_keys = {}\n",
    "    count = 1\n",
    "    for key, value in sorted(topics.items(), key=lambda x: len(x[1]), reverse=True):\n",
    "        if len(value) > 0:\n",
    "            lda_topics[count] = value\n",
    "            lda_keys[count] = key\n",
    "        count += 1\n",
    "        \n",
    "    return lda_topics, lda_keys"
   ]
  },
  {
   "cell_type": "code",
   "execution_count": 30,
   "metadata": {
    "collapsed": true
   },
   "outputs": [],
   "source": [
    "from gensim import matutils\n",
    "from gensim.models.ldamodel import LdaModel\n",
    "from gensim.models.wrappers import LdaVowpalWabbit"
   ]
  },
  {
   "cell_type": "code",
   "execution_count": null,
   "metadata": {
    "collapsed": true
   },
   "outputs": [],
   "source": [
    "pickle.dump(reduced_token_values, open('tmp/reduced_token_values.pickle', 'wb'))"
   ]
  },
  {
   "cell_type": "code",
   "execution_count": 31,
   "metadata": {
    "collapsed": false
   },
   "outputs": [
    {
     "name": "stdout",
     "output_type": "stream",
     "text": [
      "Processing Count\n",
      "(8213, 83592)\n"
     ]
    }
   ],
   "source": [
    "from sklearn.feature_extraction.text import CountVectorizer\n",
    "\n",
    "print(\"Processing Count\")\n",
    "\n",
    "vectorizer = CountVectorizer(tokenizer=tokenize, stop_words='english')\n",
    "X_count = vectorizer.fit_transform(reduced_token_values)\n",
    "vocab = vectorizer.get_feature_names()\n",
    "\n",
    "print(X_count.shape)"
   ]
  },
  {
   "cell_type": "code",
   "execution_count": 56,
   "metadata": {
    "collapsed": false
   },
   "outputs": [],
   "source": [
    "X_count = pickle.load(open('tmp/X_count_R.pickle', 'rb'))"
   ]
  },
  {
   "cell_type": "code",
   "execution_count": 45,
   "metadata": {
    "collapsed": true
   },
   "outputs": [],
   "source": [
    "num_topics = 100"
   ]
  },
  {
   "cell_type": "code",
   "execution_count": 46,
   "metadata": {
    "collapsed": true
   },
   "outputs": [],
   "source": [
    "np.random.seed(1234)"
   ]
  },
  {
   "cell_type": "code",
   "execution_count": 47,
   "metadata": {
    "collapsed": false
   },
   "outputs": [],
   "source": [
    "lda_model = LdaVowpalWabbit('/usr/local/Cellar/vowpal-wabbit/8.1.1/bin/vw',\n",
    "                     corpus=matutils.Sparse2Corpus(X_count.T),\n",
    "                     num_topics=num_topics,\n",
    "                     alpha=(1/num_topics),\n",
    "                     eta=(1/num_topics),\n",
    "                     passes=50,\n",
    "                     id2word=dict([(i, s) for i, s in enumerate(vocab)]))\n",
    "\n",
    "# alpha=0.1 eta=0.01 http://www.cs.princeton.edu/~blei/papers/HoffmanBleiBach2010b.pdf"
   ]
  },
  {
   "cell_type": "code",
   "execution_count": 35,
   "metadata": {
    "collapsed": true
   },
   "outputs": [],
   "source": [
    "lda_model.save('tmp/gensim_lda_' + str(num_topics) + '_100_k_k_s3234')"
   ]
  },
  {
   "cell_type": "code",
   "execution_count": 53,
   "metadata": {
    "collapsed": false
   },
   "outputs": [],
   "source": [
    "lda_model = LdaVowpalWabbit.load('tmp/gensim_lda_' + str(num_topics) + '_100_k_k')"
   ]
  },
  {
   "cell_type": "code",
   "execution_count": 48,
   "metadata": {
    "collapsed": false
   },
   "outputs": [
    {
     "name": "stdout",
     "output_type": "stream",
     "text": [
      "8213\n"
     ]
    }
   ],
   "source": [
    "doc_topic_prob_mat = lda_model[matutils.Sparse2Corpus(X_count.T)]\n",
    "print(len(doc_topic_prob_mat))"
   ]
  },
  {
   "cell_type": "code",
   "execution_count": 49,
   "metadata": {
    "collapsed": false
   },
   "outputs": [
    {
     "name": "stdout",
     "output_type": "stream",
     "text": [
      "0.9998782418117619\r\n"
     ]
    }
   ],
   "source": [
    "for i, mat in enumerate(doc_topic_prob_mat):\n",
    "    clear_output(wait=True)\n",
    "    print('{0}\\r'.format(i/len(doc_topic_prob_mat)))\n",
    "    max_prob = max(mat, key=lambda x: x[1])\n",
    "    reduced_docs[reduced_token_keys[i]]['lda'] = max_prob[0]\n",
    "    reduced_docs[reduced_token_keys[i]]['lda_value'] = max_prob[1]\n",
    "    reduced_docs[reduced_token_keys[i]]['lda_vector'] = mat"
   ]
  },
  {
   "cell_type": "code",
   "execution_count": 120,
   "metadata": {
    "collapsed": false
   },
   "outputs": [],
   "source": [
    "pickle.dump(reduced_docs, open('tmp/docs_lda_' + str(num_topics) + '_100.pickle', 'wb'))"
   ]
  },
  {
   "cell_type": "code",
   "execution_count": 57,
   "metadata": {
    "collapsed": false
   },
   "outputs": [],
   "source": [
    "reduced_docs = pickle.load(open('tmp/docs_lda_' + str(num_topics) + '_100.pickle', 'rb'))"
   ]
  },
  {
   "cell_type": "code",
   "execution_count": 50,
   "metadata": {
    "collapsed": false
   },
   "outputs": [],
   "source": [
    "lda_items = sorted(reduced_docs.items(), key=lambda x: x[1]['lda'])\n",
    "lda_topics, lda_keys = lda_to_topics(lda_items, 0.0)"
   ]
  },
  {
   "cell_type": "code",
   "execution_count": 51,
   "metadata": {
    "collapsed": false
   },
   "outputs": [
    {
     "data": {
      "text/plain": [
       "8213"
      ]
     },
     "execution_count": 51,
     "metadata": {},
     "output_type": "execute_result"
    }
   ],
   "source": [
    "len(lda_items)"
   ]
  },
  {
   "cell_type": "code",
   "execution_count": 52,
   "metadata": {
    "collapsed": false
   },
   "outputs": [],
   "source": [
    "def lda_to_size_chart(lda_topics):\n",
    "    print(len(lda_topics.keys()))\n",
    "\n",
    "    x_data = []\n",
    "    y_data = []\n",
    "    for key, value in lda_topics.items():\n",
    "        x_data.append(key)\n",
    "        y_data.append(len(value))\n",
    "\n",
    "    ind = np.arange(0, len(y_data) * 2, 2)\n",
    "    fig = plt.figure(figsize=(40,10))\n",
    "    fig.patch.set_facecolor('w')\n",
    "    plt.bar(ind, y_data)\n",
    "    plt.xticks(ind, x_data)\n",
    "    plt.title(\"Topic Document Distribution - LDA\")\n",
    "    plt.xlabel(\"Topic\")\n",
    "    plt.ylabel(\"Frequency\")\n",
    "    fig.tight_layout()\n",
    "    fig.savefig('tmp/size_chart_lda.png')\n",
    "    plt.show()"
   ]
  },
  {
   "cell_type": "code",
   "execution_count": 53,
   "metadata": {
    "collapsed": false
   },
   "outputs": [
    {
     "name": "stdout",
     "output_type": "stream",
     "text": [
      "51\n"
     ]
    },
    {
     "data": {
      "image/png": "[encoded data removed]",
      "text/plain": [
       "<matplotlib.figure.Figure at 0x10e02cb00>"
      ]
     },
     "metadata": {},
     "output_type": "display_data"
    }
   ],
   "source": [
    "lda_to_size_chart({k: v for k, v in lda_topics.items()})"
   ]
  },
  {
   "cell_type": "code",
   "execution_count": 54,
   "metadata": {
    "collapsed": false
   },
   "outputs": [],
   "source": [
    "lda_tfidf_topics = {}\n",
    "\n",
    "for k, vs in lda_topics.items():\n",
    "    lda_tfidf_topics[k] = []\n",
    "    for v in vs:\n",
    "        lda_tfidf_topics[k].append(reduced_docs[v]['tfidf'])"
   ]
  },
  {
   "cell_type": "code",
   "execution_count": 55,
   "metadata": {
    "collapsed": false
   },
   "outputs": [],
   "source": [
    "lda_labels_true = {}\n",
    "\n",
    "for k, vs in lda_topics.items():\n",
    "    lda_labels_true[k] = []\n",
    "    for v in vs:\n",
    "        lda_labels_true[k].append(reduced_docs[v]['section_id'])"
   ]
  },
  {
   "cell_type": "code",
   "execution_count": 56,
   "metadata": {
    "collapsed": false,
    "scrolled": true
   },
   "outputs": [
    {
     "name": "stdout",
     "output_type": "stream",
     "text": [
      "Overall Similarity 0.426\n",
      "Weighted Similarity 0.059\n",
      "Inter Cluster 0.098\n",
      "Purity 0.335\n",
      "Entropy 0.663\n"
     ]
    }
   ],
   "source": [
    "print(\"Overall Similarity {0:.3f}\".format(intra_cluster_overall_similarity(lda_tfidf_topics)))\n",
    "print(\"Weighted Similarity {0:.3f}\".format(intra_cluster_weighted_similarity(lda_tfidf_topics)))\n",
    "print(\"Inter Cluster {0:.3f}\".format(inter_cluster_overall_similarity(lda_tfidf_topics)))\n",
    "print(\"Purity {0:.3f}\".format(purity_weighted_score(len(lda_labels_true.keys()), lda_labels_true)))\n",
    "print(\"Entropy {0:.3f}\".format(entropy_weighted_score(len(lda_labels_true.keys()), lda_labels_true)))"
   ]
  },
  {
   "cell_type": "code",
   "execution_count": 85,
   "metadata": {
    "collapsed": false
   },
   "outputs": [
    {
     "name": "stdout",
     "output_type": "stream",
     "text": [
      "Intra\n",
      "0.058,0.099,0.235,0.235,0.235,0.235,0.235,0.235,0.235,0.235,0.235,0.235,0.235,0.235,\n",
      "Inter\n",
      "0.469,0.281,0.179,0.179,0.179,0.179,0.179,0.179,0.179,0.179,0.179,0.179,0.179,0.179,"
     ]
    }
   ],
   "source": [
    "print(\"Intra\")\n",
    "for i in np.arange(10,141,10):\n",
    "    print(\"{0:.3f}\".format(intra_cluster_overall_similarity({k: v for k, v in lda_tfidf_topics.items() if k <= i})), end=\",\")\n",
    "\n",
    "print(\"\\nInter\")\n",
    "for i in np.arange(10,141,10):\n",
    "    print(\"{0:.3f}\".format(inter_cluster_overall_similarity({k: v for k, v in lda_tfidf_topics.items() if k <= i})), end=\",\")\n",
    "    "
   ]
  },
  {
   "cell_type": "markdown",
   "metadata": {},
   "source": [
    "# Heatmap"
   ]
  },
  {
   "cell_type": "code",
   "execution_count": 81,
   "metadata": {
    "collapsed": false
   },
   "outputs": [],
   "source": [
    "def topics_to_heatmap_data(topics):\n",
    "    d = []\n",
    "    for key, value in sorted(topics.items(), key=lambda x: x[0]):\n",
    "        h = {}\n",
    "        for v in value:\n",
    "            h[v] = True\n",
    "        d.append(h)\n",
    "\n",
    "    return(d)"
   ]
  },
  {
   "cell_type": "code",
   "execution_count": 84,
   "metadata": {
    "collapsed": false
   },
   "outputs": [
    {
     "data": {
      "text/plain": [
       "83"
      ]
     },
     "execution_count": 84,
     "metadata": {},
     "output_type": "execute_result"
    }
   ],
   "source": [
    "original_topics = {}\n",
    "for k, v in reduced_docs.items():\n",
    "    try:\n",
    "        original_topics[v['section_id']]\n",
    "    except:\n",
    "        original_topics[v['section_id']] = []\n",
    "    \n",
    "    original_topics[v['section_id']].append(k)\n",
    "        \n",
    "ori_topics = {}\n",
    "count = 1\n",
    "for key, value in sorted(original_topics.items(), key=lambda x: len(x[1]), reverse=True):\n",
    "    ori_topics[count] = value\n",
    "    count += 1\n",
    "len(ori_topics.keys())"
   ]
  },
  {
   "cell_type": "code",
   "execution_count": 85,
   "metadata": {
    "collapsed": false
   },
   "outputs": [],
   "source": [
    "net_data = topics_to_heatmap_data(net_topics)\n",
    "# lcm_data = topics_to_heatmap_data(lcm_topics)\n",
    "# lda_data = topics_to_heatmap_data(lda_topics)\n",
    "ori_data = topics_to_heatmap_data(ori_topics)"
   ]
  },
  {
   "cell_type": "code",
   "execution_count": 86,
   "metadata": {
    "collapsed": false
   },
   "outputs": [
    {
     "name": "stdout",
     "output_type": "stream",
     "text": [
      "(222, 8213)\n"
     ]
    }
   ],
   "source": [
    "from sklearn.feature_extraction import DictVectorizer\n",
    "\n",
    "vectorizer = DictVectorizer()\n",
    "vectors  = ori_data + net_data \n",
    "X_dict = vectorizer.fit_transform(vectors)\n",
    "\n",
    "print(X_dict.shape)"
   ]
  },
  {
   "cell_type": "code",
   "execution_count": 87,
   "metadata": {
    "collapsed": false
   },
   "outputs": [
    {
     "data": {
      "text/plain": [
       "667"
      ]
     },
     "execution_count": 87,
     "metadata": {},
     "output_type": "execute_result"
    }
   ],
   "source": [
    "len(net_data[0])\n",
    "len(ori_data[0])"
   ]
  },
  {
   "cell_type": "code",
   "execution_count": 88,
   "metadata": {
    "collapsed": false
   },
   "outputs": [],
   "source": [
    "ori_vectors = X_dict[0:len(ori_data)]\n",
    "net_vectors = X_dict[len(ori_data):]"
   ]
  },
  {
   "cell_type": "code",
   "execution_count": 92,
   "metadata": {
    "collapsed": false
   },
   "outputs": [
    {
     "data": {
      "text/plain": [
       "(30, 30)"
      ]
     },
     "execution_count": 92,
     "metadata": {},
     "output_type": "execute_result"
    }
   ],
   "source": [
    "from sklearn.metrics.pairwise import cosine_similarity\n",
    "\n",
    "sub_sims = cosine_similarity(ori_vectors[:30], net_vectors[:30])\n",
    "sub_sims.shape"
   ]
  },
  {
   "cell_type": "code",
   "execution_count": 93,
   "metadata": {
    "collapsed": false
   },
   "outputs": [],
   "source": [
    "def filter_max_in_sims(sims):\n",
    "    sims = sims.copy()\n",
    "    for sim in sims:\n",
    "        low_values_indices = sim < np.amax(sim)\n",
    "        sim[low_values_indices] = 0 \n",
    "    return sims"
   ]
  },
  {
   "cell_type": "code",
   "execution_count": 95,
   "metadata": {
    "collapsed": false
   },
   "outputs": [
    {
     "data": {
      "text/plain": [
       "<matplotlib.text.Text at 0x10f44de48>"
      ]
     },
     "execution_count": 95,
     "metadata": {},
     "output_type": "execute_result"
    },
    {
     "data": {
      "image/png": "[encoded data removed]",
      "text/plain": [
       "<matplotlib.figure.Figure at 0x10f422d68>"
      ]
     },
     "metadata": {},
     "output_type": "display_data"
    }
   ],
   "source": [
    "import seaborn as sns\n",
    "\n",
    "filtered_sims = filter_max_in_sims(sub_sims)\n",
    "\n",
    "fig, ax = plt.subplots(figsize=(10, 10))\n",
    "sns_plt = sns.heatmap(filtered_sims, cmap=plt.cm.gist_heat_r)\n",
    "sns_plt.set(xticklabels=np.arange(1,31), yticklabels=(-np.sort(-np.arange(1,31))))\n",
    "# sns_plt.invert_yaxis()\n",
    "plt.xlabel(\"Modularity\")\n",
    "plt.ylabel(\"Original\")"
   ]
  },
  {
   "cell_type": "markdown",
   "metadata": {},
   "source": [
    "# Size to topic table + keywords"
   ]
  },
  {
   "cell_type": "code",
   "execution_count": 38,
   "metadata": {
    "collapsed": false
   },
   "outputs": [],
   "source": [
    "import itertools\n",
    "from collections import Counter\n",
    "\n",
    "def keywords_to_keyword_table(topics, n):\n",
    "    result = {}\n",
    "    for topic in topics:\n",
    "        keywords = []\n",
    "        for top in topic[1]:\n",
    "            keywords += list(top['feature'])\n",
    "        net_keywords = Counter(keywords)\n",
    "        net_keywords = sorted(net_keywords.items(), key=lambda x: x[1], reverse=True)\n",
    "        keywords2 = list(map(lambda x: x[0], net_keywords))\n",
    "        result[topic[0]] = (len(topic[1]), keywords2[:n])\n",
    "    return result"
   ]
  },
  {
   "cell_type": "code",
   "execution_count": 40,
   "metadata": {
    "collapsed": false
   },
   "outputs": [],
   "source": [
    "def topics_to_keywords(topics):\n",
    "    results = {}\n",
    "\n",
    "    for k, vs in topics.items():\n",
    "        results[k] = []\n",
    "        for v in vs:\n",
    "            top_df = docs[v]['top_tfidf']\n",
    "#             results[k].append(top_df)\n",
    "            results[k].append(top_df[(top_df.tfidf >= 0.1) & (top_df.tfidf <= 0.9)])\n",
    "\n",
    "    results = sorted(results.items(), key=lambda x: len(x[1]), reverse=True)\n",
    "    \n",
    "    return results"
   ]
  },
  {
   "cell_type": "code",
   "execution_count": 126,
   "metadata": {
    "collapsed": false
   },
   "outputs": [
    {
     "data": {
      "text/plain": [
       "dict_keys([1, 2, 3, 4, 5, 6, 7, 8, 9, 10, 11, 12, 13, 14, 15, 16, 17, 18, 19, 20, 21, 22, 23, 24, 25, 26, 27, 28, 29, 30, 31, 32, 33, 34, 35, 36, 37, 38, 39, 40])"
      ]
     },
     "execution_count": 126,
     "metadata": {},
     "output_type": "execute_result"
    }
   ],
   "source": [
    "topics_matrix = lda_model.show_topics(formatted=False, num_words=10, num_topics=lda_model.num_topics)\n",
    "lda_topic_keywords = {}\n",
    "count = 1\n",
    "for topic in topics_matrix:\n",
    "    lda_topic_keywords[count] = [str(word[1]) for word in topic]\n",
    "    count += 1\n",
    "\n",
    "lda_topic_keywords.keys()"
   ]
  },
  {
   "cell_type": "code",
   "execution_count": 74,
   "metadata": {
    "collapsed": false
   },
   "outputs": [],
   "source": [
    "lda_keywords = {}\n",
    "for k, v in sorted(lda_topics.items(), key=lambda x: len(x[1]), reverse=True):\n",
    "    lda_keywords[k] = (len(v), lda_topic_keywords[k])"
   ]
  },
  {
   "cell_type": "code",
   "execution_count": 41,
   "metadata": {
    "collapsed": false
   },
   "outputs": [],
   "source": [
    "net_keywords = keywords_to_keyword_table(topics_to_keywords(net_topics), 5)"
   ]
  },
  {
   "cell_type": "code",
   "execution_count": 109,
   "metadata": {
    "collapsed": false
   },
   "outputs": [],
   "source": [
    "# lda_tags = topics_to_tags(lda_topics, 10)\n",
    "net_tags = topics_to_tags(net_topics, 10)\n",
    "ori_tags = topics_to_tags(original_topics, 10)"
   ]
  },
  {
   "cell_type": "code",
   "execution_count": 42,
   "metadata": {
    "collapsed": false
   },
   "outputs": [],
   "source": [
    "import csv\n",
    "\n",
    "# lda_s_k = sorted(lda_topic_keywords.items(), key=lambda x: x[1][0], reverse=True)\n",
    "net_s_k = sorted(net_keywords.items(), key=lambda x: x[1][0], reverse=True)\n",
    "# lda_s_t = sorted(lda_tags.items(), key=lambda x: x[1][0], reverse=True)\n",
    "# net_s_t = sorted(net_tags.items(), key=lambda x: x[1][0], reverse=True)\n",
    "# ori_s_t = sorted(ori_tags.items(), key=lambda x: x[1][0], reverse=True)\n",
    "\n",
    "length = len(net_s_k)\n",
    "rows = []\n",
    "for i in range(length):\n",
    "    row = [i+1]\n",
    "#     row += [ori_s_t[i][1][0], ori_s_t[i][1][1]]\n",
    "    row += [net_s_k[i][1][0], net_s_k[i][1][1]]\n",
    "#     row += [lda_s_k[i][0], lda_s_k[i][1]]\n",
    "#     row += [lda_s_k[i][1][0], net_s_k[i][1][0], lda_s_k[i][1][1], net_s_k[i][1][1], lda_s_t[i][1][1], net_s_t[i][1][1]]    \n",
    "    rows.append(row)\n",
    "\n",
    "with open('tmp/keywords.csv', 'w+') as file:    \n",
    "    for row in rows:\n",
    "        writer = csv.writer(file, delimiter=';')\n",
    "        writer.writerow(row)"
   ]
  },
  {
   "cell_type": "code",
   "execution_count": 127,
   "metadata": {
    "collapsed": false
   },
   "outputs": [
    {
     "data": {
      "text/plain": [
       "['mansoor',\n",
       " 'bach',\n",
       " 'coleman',\n",
       " 'pac',\n",
       " 'iphon',\n",
       " 'adelson',\n",
       " 'dale',\n",
       " 'mullah',\n",
       " 'klein',\n",
       " 'pite']"
      ]
     },
     "execution_count": 127,
     "metadata": {},
     "output_type": "execute_result"
    }
   ],
   "source": [
    "lda_topic_keywords[1]"
   ]
  },
  {
   "cell_type": "code",
   "execution_count": 134,
   "metadata": {
    "collapsed": true
   },
   "outputs": [],
   "source": [
    "from gensim.models.coherencemodel import CoherenceModel"
   ]
  },
  {
   "cell_type": "code",
   "execution_count": 135,
   "metadata": {
    "collapsed": false
   },
   "outputs": [
    {
     "ename": "TypeError",
     "evalue": "__init__() got an unexpected keyword argument 'topics'",
     "output_type": "error",
     "traceback": [
      "\u001b[0;31m---------------------------------------------------------------------------\u001b[0m",
      "\u001b[0;31mTypeError\u001b[0m                                 Traceback (most recent call last)",
      "\u001b[0;32m<ipython-input-135-e5c9858546ee>\u001b[0m in \u001b[0;36m<module>\u001b[0;34m()\u001b[0m\n\u001b[0;32m----> 1\u001b[0;31m \u001b[0mget_ipython\u001b[0m\u001b[0;34m(\u001b[0m\u001b[0;34m)\u001b[0m\u001b[0;34m.\u001b[0m\u001b[0mmagic\u001b[0m\u001b[0;34m(\u001b[0m\u001b[0;34m\"time cm = CoherenceModel(topics=[lda_topic_keywords[1]], corpus=matutils.Sparse2Corpus(X_count.T), dictionary=dict([(i, s) for i, s in enumerate(vocab)]), coherence='u_mass')\"\u001b[0m\u001b[0;34m)\u001b[0m\u001b[0;34m\u001b[0m\u001b[0m\n\u001b[0m\u001b[1;32m      2\u001b[0m \u001b[0mcm\u001b[0m\u001b[0;34m.\u001b[0m\u001b[0mget_coherence\u001b[0m\u001b[0;34m(\u001b[0m\u001b[0;34m)\u001b[0m\u001b[0;34m\u001b[0m\u001b[0m\n",
      "\u001b[0;32m/Users/patorn/.pyenv/versions/3.5.0/lib/python3.5/site-packages/IPython/core/interactiveshell.py\u001b[0m in \u001b[0;36mmagic\u001b[0;34m(self, arg_s)\u001b[0m\n\u001b[1;32m   2161\u001b[0m         \u001b[0mmagic_name\u001b[0m\u001b[0;34m,\u001b[0m \u001b[0m_\u001b[0m\u001b[0;34m,\u001b[0m \u001b[0mmagic_arg_s\u001b[0m \u001b[0;34m=\u001b[0m \u001b[0marg_s\u001b[0m\u001b[0;34m.\u001b[0m\u001b[0mpartition\u001b[0m\u001b[0;34m(\u001b[0m\u001b[0;34m' '\u001b[0m\u001b[0;34m)\u001b[0m\u001b[0;34m\u001b[0m\u001b[0m\n\u001b[1;32m   2162\u001b[0m         \u001b[0mmagic_name\u001b[0m \u001b[0;34m=\u001b[0m \u001b[0mmagic_name\u001b[0m\u001b[0;34m.\u001b[0m\u001b[0mlstrip\u001b[0m\u001b[0;34m(\u001b[0m\u001b[0mprefilter\u001b[0m\u001b[0;34m.\u001b[0m\u001b[0mESC_MAGIC\u001b[0m\u001b[0;34m)\u001b[0m\u001b[0;34m\u001b[0m\u001b[0m\n\u001b[0;32m-> 2163\u001b[0;31m         \u001b[0;32mreturn\u001b[0m \u001b[0mself\u001b[0m\u001b[0;34m.\u001b[0m\u001b[0mrun_line_magic\u001b[0m\u001b[0;34m(\u001b[0m\u001b[0mmagic_name\u001b[0m\u001b[0;34m,\u001b[0m \u001b[0mmagic_arg_s\u001b[0m\u001b[0;34m)\u001b[0m\u001b[0;34m\u001b[0m\u001b[0m\n\u001b[0m\u001b[1;32m   2164\u001b[0m \u001b[0;34m\u001b[0m\u001b[0m\n\u001b[1;32m   2165\u001b[0m     \u001b[0;31m#-------------------------------------------------------------------------\u001b[0m\u001b[0;34m\u001b[0m\u001b[0;34m\u001b[0m\u001b[0m\n",
      "\u001b[0;32m/Users/patorn/.pyenv/versions/3.5.0/lib/python3.5/site-packages/IPython/core/interactiveshell.py\u001b[0m in \u001b[0;36mrun_line_magic\u001b[0;34m(self, magic_name, line)\u001b[0m\n\u001b[1;32m   2082\u001b[0m                 \u001b[0mkwargs\u001b[0m\u001b[0;34m[\u001b[0m\u001b[0;34m'local_ns'\u001b[0m\u001b[0;34m]\u001b[0m \u001b[0;34m=\u001b[0m \u001b[0msys\u001b[0m\u001b[0;34m.\u001b[0m\u001b[0m_getframe\u001b[0m\u001b[0;34m(\u001b[0m\u001b[0mstack_depth\u001b[0m\u001b[0;34m)\u001b[0m\u001b[0;34m.\u001b[0m\u001b[0mf_locals\u001b[0m\u001b[0;34m\u001b[0m\u001b[0m\n\u001b[1;32m   2083\u001b[0m             \u001b[0;32mwith\u001b[0m \u001b[0mself\u001b[0m\u001b[0;34m.\u001b[0m\u001b[0mbuiltin_trap\u001b[0m\u001b[0;34m:\u001b[0m\u001b[0;34m\u001b[0m\u001b[0m\n\u001b[0;32m-> 2084\u001b[0;31m                 \u001b[0mresult\u001b[0m \u001b[0;34m=\u001b[0m \u001b[0mfn\u001b[0m\u001b[0;34m(\u001b[0m\u001b[0;34m*\u001b[0m\u001b[0margs\u001b[0m\u001b[0;34m,\u001b[0m\u001b[0;34m**\u001b[0m\u001b[0mkwargs\u001b[0m\u001b[0;34m)\u001b[0m\u001b[0;34m\u001b[0m\u001b[0m\n\u001b[0m\u001b[1;32m   2085\u001b[0m             \u001b[0;32mreturn\u001b[0m \u001b[0mresult\u001b[0m\u001b[0;34m\u001b[0m\u001b[0m\n\u001b[1;32m   2086\u001b[0m \u001b[0;34m\u001b[0m\u001b[0m\n",
      "\u001b[0;32m<decorator-gen-60>\u001b[0m in \u001b[0;36mtime\u001b[0;34m(self, line, cell, local_ns)\u001b[0m\n",
      "\u001b[0;32m/Users/patorn/.pyenv/versions/3.5.0/lib/python3.5/site-packages/IPython/core/magic.py\u001b[0m in \u001b[0;36m<lambda>\u001b[0;34m(f, *a, **k)\u001b[0m\n\u001b[1;32m    191\u001b[0m     \u001b[0;31m# but it's overkill for just that one bit of state.\u001b[0m\u001b[0;34m\u001b[0m\u001b[0;34m\u001b[0m\u001b[0m\n\u001b[1;32m    192\u001b[0m     \u001b[0;32mdef\u001b[0m \u001b[0mmagic_deco\u001b[0m\u001b[0;34m(\u001b[0m\u001b[0marg\u001b[0m\u001b[0;34m)\u001b[0m\u001b[0;34m:\u001b[0m\u001b[0;34m\u001b[0m\u001b[0m\n\u001b[0;32m--> 193\u001b[0;31m         \u001b[0mcall\u001b[0m \u001b[0;34m=\u001b[0m \u001b[0;32mlambda\u001b[0m \u001b[0mf\u001b[0m\u001b[0;34m,\u001b[0m \u001b[0;34m*\u001b[0m\u001b[0ma\u001b[0m\u001b[0;34m,\u001b[0m \u001b[0;34m**\u001b[0m\u001b[0mk\u001b[0m\u001b[0;34m:\u001b[0m \u001b[0mf\u001b[0m\u001b[0;34m(\u001b[0m\u001b[0;34m*\u001b[0m\u001b[0ma\u001b[0m\u001b[0;34m,\u001b[0m \u001b[0;34m**\u001b[0m\u001b[0mk\u001b[0m\u001b[0;34m)\u001b[0m\u001b[0;34m\u001b[0m\u001b[0m\n\u001b[0m\u001b[1;32m    194\u001b[0m \u001b[0;34m\u001b[0m\u001b[0m\n\u001b[1;32m    195\u001b[0m         \u001b[0;32mif\u001b[0m \u001b[0mcallable\u001b[0m\u001b[0;34m(\u001b[0m\u001b[0marg\u001b[0m\u001b[0;34m)\u001b[0m\u001b[0;34m:\u001b[0m\u001b[0;34m\u001b[0m\u001b[0m\n",
      "\u001b[0;32m/Users/patorn/.pyenv/versions/3.5.0/lib/python3.5/site-packages/IPython/core/magics/execution.py\u001b[0m in \u001b[0;36mtime\u001b[0;34m(self, line, cell, local_ns)\u001b[0m\n\u001b[1;32m   1175\u001b[0m         \u001b[0;32melse\u001b[0m\u001b[0;34m:\u001b[0m\u001b[0;34m\u001b[0m\u001b[0m\n\u001b[1;32m   1176\u001b[0m             \u001b[0mst\u001b[0m \u001b[0;34m=\u001b[0m \u001b[0mclock2\u001b[0m\u001b[0;34m(\u001b[0m\u001b[0;34m)\u001b[0m\u001b[0;34m\u001b[0m\u001b[0m\n\u001b[0;32m-> 1177\u001b[0;31m             \u001b[0mexec\u001b[0m\u001b[0;34m(\u001b[0m\u001b[0mcode\u001b[0m\u001b[0;34m,\u001b[0m \u001b[0mglob\u001b[0m\u001b[0;34m,\u001b[0m \u001b[0mlocal_ns\u001b[0m\u001b[0;34m)\u001b[0m\u001b[0;34m\u001b[0m\u001b[0m\n\u001b[0m\u001b[1;32m   1178\u001b[0m             \u001b[0mend\u001b[0m \u001b[0;34m=\u001b[0m \u001b[0mclock2\u001b[0m\u001b[0;34m(\u001b[0m\u001b[0;34m)\u001b[0m\u001b[0;34m\u001b[0m\u001b[0m\n\u001b[1;32m   1179\u001b[0m             \u001b[0mout\u001b[0m \u001b[0;34m=\u001b[0m \u001b[0;32mNone\u001b[0m\u001b[0;34m\u001b[0m\u001b[0m\n",
      "\u001b[0;32m<timed exec>\u001b[0m in \u001b[0;36m<module>\u001b[0;34m()\u001b[0m\n",
      "\u001b[0;31mTypeError\u001b[0m: __init__() got an unexpected keyword argument 'topics'"
     ]
    }
   ],
   "source": [
    "%time cm = CoherenceModel(topics=[lda_topic_keywords[1]], corpus=matutils.Sparse2Corpus(X_count.T), dictionary=dict([(i, s) for i, s in enumerate(vocab)]), coherence='u_mass')\n",
    "cm.get_coherence()"
   ]
  },
  {
   "cell_type": "code",
   "execution_count": null,
   "metadata": {
    "collapsed": false
   },
   "outputs": [],
   "source": [
    "import csv\n",
    "\n",
    "rows = []\n",
    "for i, row in enumerate(filtered_sims):\n",
    "    sim =  np.amax(row)\n",
    "    net =  max(range(len(row)), key=lambda x: row[x]) + 1\n",
    "    lda = i + 1\n",
    "    rows.append([lda, net, lda_keywords[lda][0], net_keywords[net][0], sim, lda_keywords[lda][1], net_keywords[net][1]])\n",
    "\n",
    "with open('tmp/matching.csv', 'w+') as file:    \n",
    "    for row in sorted(rows, key=lambda x: x[0]):\n",
    "        writer = csv.writer(file, delimiter=';')\n",
    "        writer.writerow(row)"
   ]
  }
 ],
 "metadata": {
  "kernelspec": {
   "display_name": "Python 3",
   "language": "python",
   "name": "python3"
  },
  "language_info": {
   "codemirror_mode": {
    "name": "ipython",
    "version": 3
   },
   "file_extension": ".py",
   "mimetype": "text/x-python",
   "name": "python",
   "nbconvert_exporter": "python",
   "pygments_lexer": "ipython3",
   "version": "3.5.0"
  }
 },
 "nbformat": 4,
 "nbformat_minor": 0
}
