{
 "cells": [
  {
   "cell_type": "code",
   "execution_count": 1,
   "metadata": {
    "collapsed": true
   },
   "outputs": [],
   "source": [
    "%matplotlib inline\n",
    "\n",
    "import matplotlib\n",
    "import matplotlib.pyplot as plt\n",
    "import numpy as np\n",
    "import igraph as ig\n",
    "import os\n",
    "import pdb\n",
    "import nltk\n",
    "import string\n",
    "import json\n",
    "import random\n",
    "import pickle\n",
    "import pandas as pd\n",
    "import seaborn as sns\n",
    "import scipy\n",
    "\n",
    "from IPython.display import clear_output\n",
    "from os import makedirs\n",
    "from os.path import join, exists\n",
    "from sklearn.metrics.pairwise import cosine_similarity"
   ]
  },
  {
   "cell_type": "code",
   "execution_count": 2,
   "metadata": {
    "collapsed": true
   },
   "outputs": [],
   "source": [
    "import logging\n",
    "logging.basicConfig(format='%(asctime)s : %(levelname)s : %(message)s', level=logging.INFO)\n",
    "logging.root.level = logging.INFO"
   ]
  },
  {
   "cell_type": "code",
   "execution_count": 3,
   "metadata": {
    "collapsed": true
   },
   "outputs": [],
   "source": [
    "INPUT_DIR = join('tmp', 'parsed')\n",
    "OUTPUT_DIR = join('tmp')\n",
    "makedirs(OUTPUT_DIR, exist_ok=True)"
   ]
  },
  {
   "cell_type": "code",
   "execution_count": 4,
   "metadata": {
    "collapsed": true
   },
   "outputs": [],
   "source": [
    "np.random.seed(1234)"
   ]
  },
  {
   "cell_type": "code",
   "execution_count": 5,
   "metadata": {
    "collapsed": true
   },
   "outputs": [],
   "source": [
    "plt.style.use('classic')"
   ]
  },
  {
   "cell_type": "code",
   "execution_count": 6,
   "metadata": {
    "collapsed": true
   },
   "outputs": [],
   "source": [
    "import math\n",
    "\n",
    "def intra_cluster_similarity(vectors):\n",
    "    matx = scipy.sparse.vstack((vectors))\n",
    "    return np.sum(cosine_similarity(matx, matx)) / math.pow(len(vectors), 2)"
   ]
  },
  {
   "cell_type": "code",
   "execution_count": 7,
   "metadata": {
    "collapsed": true
   },
   "outputs": [],
   "source": [
    "def intra_cluster_overall_similarity(vectors):\n",
    "    similarity_topics = {}\n",
    "    for k, values in vectors.items():\n",
    "        if len(values) > 0:\n",
    "            similarity_topics[k] = intra_cluster_similarity(values)\n",
    "\n",
    "    return sum(similarity_topics.values()) / len(similarity_topics.values())"
   ]
  },
  {
   "cell_type": "code",
   "execution_count": 8,
   "metadata": {
    "collapsed": true
   },
   "outputs": [],
   "source": [
    "def intra_cluster_weighted_similarity(vectors):\n",
    "    weighted = 0.\n",
    "    n = 0.\n",
    "    for k, values in vectors.items():\n",
    "        n += len(values)\n",
    "            \n",
    "    for k, values in vectors.items():\n",
    "        if len(values) > 0:\n",
    "            weighted += len(values) * intra_cluster_similarity(values)\n",
    "\n",
    "    return weighted / n"
   ]
  },
  {
   "cell_type": "code",
   "execution_count": 9,
   "metadata": {
    "collapsed": true
   },
   "outputs": [],
   "source": [
    "def inter_cluster_overall_similarity2(vectors):\n",
    "    similarity_topics = {}\n",
    "    for k, values in vectors.items():\n",
    "        if len(values) > 0:\n",
    "            matx = scipy.sparse.vstack((values))\n",
    "            centroid1 = matx.sum(axis=0) / len(values)\n",
    "            similarities = []\n",
    "            for k2, values2 in vectors.items():\n",
    "                if len(values2) > 0 & k != k2:\n",
    "                    matx2 = scipy.sparse.vstack((values2))\n",
    "                    centroid2 = matx2.sum(axis=0) / len(values2)\n",
    "                    similarities.append(cosine_similarity(centroid1, centroid2))\n",
    "            similarity_topics[k] = np.sum(similarities) / len(similarities)\n",
    "            \n",
    "    return sum(similarity_topics.values()) / len(similarity_topics.values())"
   ]
  },
  {
   "cell_type": "code",
   "execution_count": 10,
   "metadata": {
    "collapsed": true
   },
   "outputs": [],
   "source": [
    "def cluster_centroids(vectors):\n",
    "    centroids = {}\n",
    "    for k, values in vectors.items():\n",
    "        matx = scipy.sparse.vstack((values))\n",
    "        centroids[k] = scipy.sparse.csr_matrix(matx.sum(axis=0) / len(values))\n",
    "    return centroids"
   ]
  },
  {
   "cell_type": "code",
   "execution_count": 11,
   "metadata": {
    "collapsed": false
   },
   "outputs": [],
   "source": [
    "def inter_cluster_overall_similarity(vectors):\n",
    "    topic_centroids = cluster_centroids(vectors)\n",
    "    matx_c = scipy.sparse.vstack((topic_centroids.values()))\n",
    "    matx_c_c = cosine_similarity(matx_c)\n",
    "    matx_c_c_s = sum(matx_c_c) / len(matx_c_c)\n",
    "\n",
    "    return sum(matx_c_c_s) / len(matx_c_c_s)"
   ]
  },
  {
   "cell_type": "code",
   "execution_count": 12,
   "metadata": {
    "collapsed": true
   },
   "outputs": [],
   "source": [
    "def purity_score(labels_true):\n",
    "    nh = np.bincount(labels_true)\n",
    "\n",
    "    return nh[np.argmax(nh)] / sum(nh)"
   ]
  },
  {
   "cell_type": "code",
   "execution_count": 13,
   "metadata": {
    "collapsed": true
   },
   "outputs": [],
   "source": [
    "def entropy_score(labels_true):\n",
    "    entropy = 0.\n",
    "    cats = np.unique(labels_true)\n",
    "    ci = len(cats)\n",
    "    if ci == 1: # math.log(1,2) == 0.0, causes div by zero when normalizing\n",
    "        ci += 1\n",
    "    nh = np.bincount(labels_true)\n",
    "    n = len(labels_true)\n",
    "    \n",
    "    for j in cats:\n",
    "        p_category = nh[j] / n\n",
    "        entropy += p_category * math.log(p_category, 2)\n",
    "    \n",
    "    return -((1 / math.log(ci, 2)) * entropy)"
   ]
  },
  {
   "cell_type": "code",
   "execution_count": 14,
   "metadata": {
    "collapsed": false
   },
   "outputs": [],
   "source": [
    "def entropy_weighted_score(labels_size, labels_true):\n",
    "    entropy = 0.\n",
    "    n = 0.\n",
    "    for i in (np.arange(labels_size) + 1):\n",
    "        try:\n",
    "            n += len(labels_true[i])\n",
    "        except:\n",
    "            n += 0.\n",
    "        \n",
    "    for i in (np.arange(labels_size) + 1):\n",
    "        try:\n",
    "            labels_true_topic = labels_true[i]\n",
    "            ni = len(labels_true_topic)\n",
    "            entropy += (ni / n) * entropy_score(labels_true_topic)\n",
    "        except:\n",
    "            entropy += 0.\n",
    "    return entropy"
   ]
  },
  {
   "cell_type": "code",
   "execution_count": 15,
   "metadata": {
    "collapsed": true
   },
   "outputs": [],
   "source": [
    "def purity_weighted_score(labels_size, labels_true):\n",
    "    purity = 0.\n",
    "    n = 0.\n",
    "    for i in (np.arange(labels_size) + 1):\n",
    "        try:\n",
    "            n += len(labels_true[i])\n",
    "        except:\n",
    "            n += 0.\n",
    "        \n",
    "    for i in (np.arange(labels_size) + 1):\n",
    "        try:\n",
    "            labels_true_topic = labels_true[i]\n",
    "            ni = len(labels_true_topic)\n",
    "            purity += (ni / n) * purity_score(labels_true_topic)\n",
    "        except:\n",
    "            purity += 0.\n",
    "    return purity"
   ]
  },
  {
   "cell_type": "code",
   "execution_count": 16,
   "metadata": {
    "collapsed": true
   },
   "outputs": [],
   "source": [
    "from nltk.stem.porter import PorterStemmer\n",
    "\n",
    "def tokenize(text):\n",
    "    tokens = nltk.word_tokenize(text)\n",
    "    stems = []\n",
    "    for item in tokens:\n",
    "        stems.append(PorterStemmer().stem(item))\n",
    "    return stems"
   ]
  },
  {
   "cell_type": "code",
   "execution_count": 17,
   "metadata": {
    "collapsed": true
   },
   "outputs": [],
   "source": [
    "def text_preprocess(text):\n",
    "    return [token for token in simple_preprocess(text) if token not in STOPWORDS]"
   ]
  },
  {
   "cell_type": "code",
   "execution_count": 18,
   "metadata": {
    "collapsed": true
   },
   "outputs": [],
   "source": [
    "import re\n",
    "\n",
    "#compile regular expressions that match repeated characters and emoji unicode\n",
    "emoji = re.compile(u'[^\\x00-\\x7F\\x80-\\xFF\\u0100-\\u017F\\u0180-\\u024F\\u1E00-\\u1EFF]',re.UNICODE)\n",
    "multiple = re.compile(r\"(.)\\1{1,}\", re.DOTALL)\n",
    "\n",
    "def text_format(text):\n",
    "\n",
    "    #strip emoji\n",
    "    stripped = emoji.sub('',text)\n",
    "\n",
    "    #strip URLs\n",
    "    stripped = re.sub(r'http[s]?[^\\s]+','', stripped)\n",
    "\n",
    "    #strip html '&amp;', '&lt;', etc.  \n",
    "    stripped = re.sub(r'[\\&].*;','',stripped)\n",
    "\n",
    "    #strip punctuation\n",
    "    stripped = re.sub(r'[#|\\!|\\-|\\+|:|//]', \" \", stripped)\n",
    "\n",
    "    #strip whitespace down to one.\n",
    "    stripped = re.sub('[\\s]+' ,' ', stripped).strip()\n",
    "\n",
    "    #strip multiple occurrences of letters\n",
    "    stripped = multiple.sub(r\"\\1\\1\", stripped)\n",
    "\n",
    "    #strip all non-latin characters\n",
    "    stripped = re.sub('[^a-zA-Z0-9|\\']', \" \", stripped).strip()\n",
    "\n",
    "    return stripped"
   ]
  },
  {
   "cell_type": "code",
   "execution_count": 28,
   "metadata": {
    "collapsed": false
   },
   "outputs": [
    {
     "name": "stdout",
     "output_type": "stream",
     "text": [
      "9095\n"
     ]
    }
   ],
   "source": [
    "from gensim import matutils\n",
    "from gensim.utils import simple_preprocess\n",
    "from gensim.parsing.preprocessing import STOPWORDS\n",
    "from gensim.corpora import Dictionary\n",
    "from nltk.tag import pos_tag\n",
    "\n",
    "print(\"Building vocabulary...\")\n",
    "\n",
    "docs = {}\n",
    "doc_tokens = {}\n",
    "count = 0\n",
    "\n",
    "for fname in os.listdir(INPUT_DIR):\n",
    "    if fname != '.DS_Store':\n",
    "        with open(join(INPUT_DIR, fname), 'r') as f:\n",
    "            doc = json.load(f)\n",
    "            docs[doc['id']] = doc\n",
    "            text = doc['body']\n",
    "            table = str.maketrans({key: None for key in string.punctuation})\n",
    "            text = text.lower().translate(table)\n",
    "            text = text_format(text)\n",
    "            tagged = pos_tag(text.split()) #use NLTK's part of speech tagger\n",
    "            words = [word for word,pos in tagged if pos in ['NN', 'NNS', 'NNP', 'NNPS']]\n",
    "            docs[doc['id']][\"text\"] = \" \".join(words)\n",
    "            clear_output(wait=True)\n",
    "            count += 1\n",
    "            print(count)"
   ]
  },
  {
   "cell_type": "code",
   "execution_count": 19,
   "metadata": {
    "collapsed": false
   },
   "outputs": [
    {
     "data": {
      "text/plain": [
       "dict_keys(['keyword', 'apiUrl', 'tfidf', 'top_tfidf', 'authors', 'sectionId', 'body', 'id', 'webUrl', 'text', 'tags', 'mod_topic', 'webPublicationDate', 'webTitle', 'section_id', 'guardianId'])"
      ]
     },
     "execution_count": 19,
     "metadata": {},
     "output_type": "execute_result"
    }
   ],
   "source": [
    "docs = pickle.load(open('tmp/docs.pickle', 'rb'))\n",
    "\n",
    "docs['2016-05-20-28'].keys()"
   ]
  },
  {
   "cell_type": "code",
   "execution_count": 20,
   "metadata": {
    "collapsed": true
   },
   "outputs": [],
   "source": [
    "sorted_docs = sorted(docs.items(), key=lambda x: x[0], reverse=True)"
   ]
  },
  {
   "cell_type": "code",
   "execution_count": 27,
   "metadata": {
    "collapsed": false
   },
   "outputs": [
    {
     "name": "stdout",
     "output_type": "stream",
     "text": [
      "9095\n"
     ]
    }
   ],
   "source": [
    "token_keys = [x[0] for x in sorted_docs]\n",
    "token_values = [x[1][\"text\"] for x in sorted_docs]\n",
    "print(len(token_values))"
   ]
  },
  {
   "cell_type": "code",
   "execution_count": 22,
   "metadata": {
    "collapsed": false
   },
   "outputs": [
    {
     "data": {
      "text/plain": [
       "'2016-05-30-99'"
      ]
     },
     "execution_count": 22,
     "metadata": {},
     "output_type": "execute_result"
    }
   ],
   "source": [
    "token_keys[0]"
   ]
  },
  {
   "cell_type": "code",
   "execution_count": 23,
   "metadata": {
    "collapsed": false
   },
   "outputs": [
    {
     "data": {
      "text/plain": [
       "84"
      ]
     },
     "execution_count": 23,
     "metadata": {},
     "output_type": "execute_result"
    }
   ],
   "source": [
    "section_id = {}\n",
    "count = 0\n",
    "for k, v in docs.items():\n",
    "    try:\n",
    "        section_id[v['sectionId']]\n",
    "    except:\n",
    "        count += 1\n",
    "        section_id[v['sectionId']] = count\n",
    "        \n",
    "len(section_id.values())"
   ]
  },
  {
   "cell_type": "markdown",
   "metadata": {},
   "source": [
    "# TF-IDF Vectorizer"
   ]
  },
  {
   "cell_type": "code",
   "execution_count": 36,
   "metadata": {
    "collapsed": false
   },
   "outputs": [
    {
     "name": "stdout",
     "output_type": "stream",
     "text": [
      "Processing TF-IDF\n",
      "(9095, 69281)\n"
     ]
    }
   ],
   "source": [
    "from sklearn.feature_extraction.text import TfidfVectorizer\n",
    "\n",
    "print(\"Processing TF-IDF\")\n",
    "\n",
    "vectorizer_tfidf = TfidfVectorizer(tokenizer=tokenize, norm='l2', stop_words='english')\n",
    "X_tfidf = vectorizer_tfidf.fit_transform(token_values)\n",
    "\n",
    "print(X_tfidf.shape)"
   ]
  },
  {
   "cell_type": "code",
   "execution_count": 22,
   "metadata": {
    "collapsed": true
   },
   "outputs": [],
   "source": [
    "pickle.dump(X_tfidf, open('tmp/X_tfidf.pickle', 'wb'))"
   ]
  },
  {
   "cell_type": "code",
   "execution_count": 21,
   "metadata": {
    "collapsed": false
   },
   "outputs": [
    {
     "name": "stdout",
     "output_type": "stream",
     "text": [
      "(9095, 69281)\n"
     ]
    }
   ],
   "source": [
    "X_tfidf = pickle.load(open('tmp/X_tfidf.pickle', 'rb'))\n",
    "\n",
    "print(X_tfidf.shape)"
   ]
  },
  {
   "cell_type": "markdown",
   "metadata": {},
   "source": [
    "# Add Keywords to docs"
   ]
  },
  {
   "cell_type": "code",
   "execution_count": 61,
   "metadata": {
    "collapsed": true
   },
   "outputs": [],
   "source": [
    "def top_tfidf_feats(row, features, top_n=25):\n",
    "    ''' Get top n tfidf values in row and return them with their corresponding feature names.'''\n",
    "    topn_ids = np.argsort(row)[::-1][:top_n]\n",
    "    top_feats = [(features[i], row[i]) for i in topn_ids]\n",
    "    df = pd.DataFrame(top_feats)\n",
    "    df.columns = ['feature', 'tfidf']\n",
    "    return df"
   ]
  },
  {
   "cell_type": "code",
   "execution_count": 62,
   "metadata": {
    "collapsed": true
   },
   "outputs": [],
   "source": [
    "def top_feats_in_doc(Xtr, features, row_id, top_n=25):\n",
    "    ''' Top tfidf features in specific document (matrix row) '''\n",
    "    row = np.squeeze(Xtr[row_id].toarray())\n",
    "    return top_tfidf_feats(row, features, top_n)"
   ]
  },
  {
   "cell_type": "code",
   "execution_count": 63,
   "metadata": {
    "collapsed": false
   },
   "outputs": [
    {
     "name": "stdout",
     "output_type": "stream",
     "text": [
      "       feature     tfidf\n",
      "0         bull  0.367068\n",
      "1         citi  0.332301\n",
      "2       soccer  0.289241\n",
      "3           fc  0.209085\n",
      "4         team  0.207811\n",
      "5           ml  0.203020\n",
      "6          fan  0.192072\n",
      "7         york  0.179047\n",
      "8      stadium  0.176389\n",
      "9        derbi  0.165884\n",
      "10      jersey  0.162874\n",
      "11         esc  0.161058\n",
      "12        club  0.151384\n",
      "13     rivalri  0.141493\n",
      "14       yanke  0.131158\n",
      "15     support  0.121895\n",
      "16       giant  0.117103\n",
      "17      hudson  0.115708\n",
      "18    ferrezza  0.112200\n",
      "19       river  0.105877\n",
      "20         nyc  0.099118\n",
      "21        rail  0.095774\n",
      "22       sport  0.086328\n",
      "23      yorker  0.075947\n",
      "24       metro  0.073635\n",
      "25   manhattan  0.070209\n",
      "26        tide  0.067413\n",
      "27     borough  0.065498\n",
      "28    franchis  0.062221\n",
      "29       villa  0.059946\n",
      "30       pride  0.058486\n",
      "31       group  0.057858\n",
      "32   hungerusa  0.056100\n",
      "33      emmitt  0.056100\n",
      "34     yorknew  0.056100\n",
      "35     transit  0.054849\n",
      "36       jeter  0.053686\n",
      "37  sportscast  0.053686\n",
      "38     tailgat  0.051973\n",
      "39      clamor  0.050645\n",
      "40      fervor  0.050645\n",
      "41        game  0.049423\n",
      "42      hyster  0.048641\n",
      "43       hoist  0.048641\n",
      "44       emerg  0.047947\n",
      "45      scuffl  0.046518\n",
      "46       dhabi  0.045432\n",
      "47      enmiti  0.045432\n",
      "48      vieira  0.045432\n",
      "49       pirlo  0.045432\n"
     ]
    }
   ],
   "source": [
    "for i, key in enumerate(token_keys):\n",
    "    print('{0}\\r'.format(i/len(token_keys)))\n",
    "    clear_output(wait=True)\n",
    "    docs[key]['top_tfidf'] = top_feats_in_doc(X_tfidf, vectorizer_tfidf.get_feature_names(), i, 50)\n",
    "    \n",
    "print(docs['2016-05-20-28']['top_tfidf'])"
   ]
  },
  {
   "cell_type": "markdown",
   "metadata": {},
   "source": [
    "# Add Vector to docs"
   ]
  },
  {
   "cell_type": "code",
   "execution_count": 47,
   "metadata": {
    "collapsed": false
   },
   "outputs": [
    {
     "data": {
      "text/plain": [
       "<1x69281 sparse matrix of type '<class 'numpy.float64'>'\n",
       "\twith 196 stored elements in Compressed Sparse Row format>"
      ]
     },
     "execution_count": 47,
     "metadata": {},
     "output_type": "execute_result"
    }
   ],
   "source": [
    "for i, key in enumerate(token_keys):\n",
    "    docs[key]['tfidf'] = X_tfidf[i]\n",
    "\n",
    "docs['2016-05-20-28']['tfidf']"
   ]
  },
  {
   "cell_type": "markdown",
   "metadata": {},
   "source": [
    "# Add Section ID to docs"
   ]
  },
  {
   "cell_type": "code",
   "execution_count": 73,
   "metadata": {
    "collapsed": false
   },
   "outputs": [],
   "source": [
    "for k, v in docs.items():\n",
    "    docs[k]['section_id'] = section_id[v['sectionId']]"
   ]
  },
  {
   "cell_type": "markdown",
   "metadata": {},
   "source": [
    "# Add Keyword"
   ]
  },
  {
   "cell_type": "code",
   "execution_count": 115,
   "metadata": {
    "collapsed": false
   },
   "outputs": [
    {
     "data": {
      "text/plain": [
       "['MLS',\n",
       " 'New York Red Bulls',\n",
       " 'New York City FC',\n",
       " 'US sports',\n",
       " 'Football',\n",
       " 'Sport']"
      ]
     },
     "execution_count": 115,
     "metadata": {},
     "output_type": "execute_result"
    }
   ],
   "source": [
    "for k, v in docs.items():\n",
    "    docs[k]['tags'] = []\n",
    "    for keyword in v['keyword']:\n",
    "        docs[k]['tags'].append(keyword['webTitle'])\n",
    "\n",
    "docs['2016-05-20-28']['tags']"
   ]
  },
  {
   "cell_type": "code",
   "execution_count": 116,
   "metadata": {
    "collapsed": true
   },
   "outputs": [],
   "source": [
    "def docs_to_tag_data(docs):\n",
    "    d = []\n",
    "    for key, vs in docs.items():\n",
    "        h = {}\n",
    "        for v in vs:\n",
    "            h[v] = True\n",
    "        d.append(h)\n",
    "\n",
    "    return(d)"
   ]
  },
  {
   "cell_type": "code",
   "execution_count": 117,
   "metadata": {
    "collapsed": true
   },
   "outputs": [],
   "source": [
    "tag_values = docs_to_tag_data(docs)"
   ]
  },
  {
   "cell_type": "markdown",
   "metadata": {},
   "source": [
    "# Save & Load Docs"
   ]
  },
  {
   "cell_type": "code",
   "execution_count": 69,
   "metadata": {
    "collapsed": true
   },
   "outputs": [],
   "source": [
    "pickle.dump(docs, open('tmp/docs.pickle', 'wb'))"
   ]
  },
  {
   "cell_type": "code",
   "execution_count": 53,
   "metadata": {
    "collapsed": false
   },
   "outputs": [
    {
     "data": {
      "text/plain": [
       "dict_keys(['webUrl', 'webTitle', 'body', 'sectionId', 'guardianId', 'text', 'id', 'lda', 'tags', 'apiUrl', 'tfidf', 'authors', 'mod_topic', 'keyword', 'webPublicationDate', 'section_id', 'top_tfidf', 'lda_value', 'lda_vector'])"
      ]
     },
     "execution_count": 53,
     "metadata": {},
     "output_type": "execute_result"
    }
   ],
   "source": [
    "docs = pickle.load(open('tmp/docs.pickle', 'rb'))\n",
    "\n",
    "docs['2016-05-20-28'].keys()"
   ]
  },
  {
   "cell_type": "markdown",
   "metadata": {},
   "source": [
    "# Apply Modularity"
   ]
  },
  {
   "cell_type": "code",
   "execution_count": 27,
   "metadata": {
    "collapsed": false
   },
   "outputs": [],
   "source": [
    "sub_g = ig.Graph.Read_GML('tmp/sg_02.gml')"
   ]
  },
  {
   "cell_type": "code",
   "execution_count": 28,
   "metadata": {
    "collapsed": true
   },
   "outputs": [],
   "source": [
    "def network_properties(g, community):\n",
    "    print(\"Nodes {}\".format(g.vcount()))\n",
    "    print(\"Edges {}\".format(g.ecount()))\n",
    "    print(\"Diameter {}\".format(g.diameter()))\n",
    "    print(\"LCC {}\".format(g.clusters().giant().vcount()))\n",
    "    print(\"APL {}\".format(g.average_path_length()))\n",
    "    print(\"AD {}\".format(sum(g.degree())/len(g.degree())))\n",
    "    print(\"Giant Size {}\".format(len(community.giant().vs())))\n",
    "    print(\"NO of Communities {}\".format(max(community.membership) + 1))\n",
    "    print(\"Modularity {}\".format(g.modularity(community.membership)))"
   ]
  },
  {
   "cell_type": "code",
   "execution_count": 29,
   "metadata": {
    "collapsed": false,
    "scrolled": false
   },
   "outputs": [
    {
     "name": "stdout",
     "output_type": "stream",
     "text": [
      "586\n",
      "166\n",
      "140\n",
      "139\n",
      "Nodes 8213\n",
      "Edges 132243\n",
      "LCC 7950\n",
      "NO of Communities 139\n",
      "Modularity 0.7987487477056004\n"
     ]
    }
   ],
   "source": [
    "sg = sub_g.es.select(weight_ge=0.2).subgraph()\n",
    "communities = sg.community_multilevel(weights='weight',return_levels=True)\n",
    "for com in communities:\n",
    "    print(max(com.membership) + 1)\n",
    "community = communities[-1]\n",
    "print(\"Nodes {}\".format(sg.vcount()))\n",
    "print(\"Edges {}\".format(sg.ecount()))\n",
    "print(\"LCC {}\".format(sg.clusters().giant().vcount()))\n",
    "print(\"NO of Communities {}\".format(max(community.membership) + 1))\n",
    "print(\"Modularity {}\".format(sg.modularity(community.membership)))\n",
    "# community = sg.community_infomap(edge_weights='weight')\n",
    "# community = sg.community_leading_eigenvector(weights='weight')"
   ]
  },
  {
   "cell_type": "markdown",
   "metadata": {},
   "source": [
    "# Reduced Data"
   ]
  },
  {
   "cell_type": "code",
   "execution_count": 30,
   "metadata": {
    "collapsed": false
   },
   "outputs": [],
   "source": [
    "reduced_docs = {}\n",
    "for v in sg.vs():\n",
    "    reduced_docs[v['name']] = docs[v['name']]"
   ]
  },
  {
   "cell_type": "code",
   "execution_count": 31,
   "metadata": {
    "collapsed": true
   },
   "outputs": [],
   "source": [
    "sorted_reduced_docs = sorted(reduced_docs.items(), key=lambda x: x[0], reverse=True)"
   ]
  },
  {
   "cell_type": "code",
   "execution_count": 32,
   "metadata": {
    "collapsed": false,
    "scrolled": true
   },
   "outputs": [],
   "source": [
    "reduced_tfidf_values = [x[1]['tfidf'] for x in sorted_reduced_docs]"
   ]
  },
  {
   "cell_type": "code",
   "execution_count": 33,
   "metadata": {
    "collapsed": false
   },
   "outputs": [
    {
     "data": {
      "text/plain": [
       "<8213x69281 sparse matrix of type '<class 'numpy.float64'>'\n",
       "\twith 1089809 stored elements in Compressed Sparse Row format>"
      ]
     },
     "execution_count": 33,
     "metadata": {},
     "output_type": "execute_result"
    }
   ],
   "source": [
    "reduced_X_tfidf = scipy.sparse.vstack((reduced_tfidf_values))\n",
    "reduced_X_tfidf"
   ]
  },
  {
   "cell_type": "code",
   "execution_count": 34,
   "metadata": {
    "collapsed": false
   },
   "outputs": [
    {
     "name": "stdout",
     "output_type": "stream",
     "text": [
      "8213\n"
     ]
    }
   ],
   "source": [
    "reduced_token_keys = [x[0] for x in sorted_reduced_docs]\n",
    "reduced_token_values = [x[1][\"text\"] for x in sorted_reduced_docs]\n",
    "print(len(reduced_token_values))"
   ]
  },
  {
   "cell_type": "markdown",
   "metadata": {},
   "source": [
    "# LDA"
   ]
  },
  {
   "cell_type": "code",
   "execution_count": 24,
   "metadata": {
    "collapsed": false
   },
   "outputs": [],
   "source": [
    "def lda_to_topics(lda_items, threshold):\n",
    "    topics = {}\n",
    "\n",
    "    for item in lda_items:\n",
    "        topic_no = item[1]['lda']\n",
    "        try:\n",
    "            topics[topic_no]\n",
    "        except:\n",
    "            topics[topic_no] = []\n",
    "\n",
    "        if item[1]['lda_value'] >= threshold:\n",
    "            topics[topic_no].append(item[0])\n",
    "\n",
    "    lda_topics = {}\n",
    "    lda_keys = {}\n",
    "    count = 1\n",
    "    for key, value in sorted(topics.items(), key=lambda x: len(x[1]), reverse=True):\n",
    "        if len(value) > 0:\n",
    "            lda_topics[count] = value\n",
    "            lda_keys[count] = key\n",
    "        count += 1\n",
    "        \n",
    "    return lda_topics, lda_keys"
   ]
  },
  {
   "cell_type": "code",
   "execution_count": 25,
   "metadata": {
    "collapsed": true
   },
   "outputs": [],
   "source": [
    "from gensim import matutils\n",
    "from gensim.models.ldamodel import LdaModel\n",
    "from gensim.models.wrappers import LdaVowpalWabbit"
   ]
  },
  {
   "cell_type": "code",
   "execution_count": 35,
   "metadata": {
    "collapsed": false
   },
   "outputs": [
    {
     "name": "stdout",
     "output_type": "stream",
     "text": [
      "Processing Count\n",
      "(8213, 63274)\n"
     ]
    }
   ],
   "source": [
    "from sklearn.feature_extraction.text import CountVectorizer\n",
    "\n",
    "print(\"Processing Count\")\n",
    "\n",
    "vectorizer = CountVectorizer(tokenizer=tokenize, stop_words='english')\n",
    "X_count = vectorizer.fit_transform(reduced_token_values)\n",
    "vocab = vectorizer.get_feature_names()\n",
    "\n",
    "print(X_count.shape)"
   ]
  },
  {
   "cell_type": "code",
   "execution_count": 39,
   "metadata": {
    "collapsed": false
   },
   "outputs": [],
   "source": [
    "pickle.dump(X_count, open('tmp/X_count_R.pickle', 'wb'))"
   ]
  },
  {
   "cell_type": "code",
   "execution_count": 40,
   "metadata": {
    "collapsed": false
   },
   "outputs": [],
   "source": [
    "pickle.dump(vocab, open('tmp/X_count_vocab_R.pickle', 'wb'))"
   ]
  },
  {
   "cell_type": "code",
   "execution_count": 24,
   "metadata": {
    "collapsed": false
   },
   "outputs": [
    {
     "name": "stdout",
     "output_type": "stream",
     "text": [
      "(9095, 69281)\n"
     ]
    }
   ],
   "source": [
    "X_count = pickle.load(open('tmp/X_count.pickle', 'rb'))\n",
    "\n",
    "print(X_count.shape)"
   ]
  },
  {
   "cell_type": "code",
   "execution_count": 68,
   "metadata": {
    "collapsed": true
   },
   "outputs": [],
   "source": [
    "def data_to_folds(data, k):\n",
    "  folds = []\n",
    "\n",
    "  for i in range(k):\n",
    "    fold = []\n",
    "    for j in range(i, data.shape[0], k):\n",
    "      fold.append(data[j])\n",
    "    folds.append(np.random.permutation(fold))\n",
    "\n",
    "  return folds\n",
    "\n",
    "folds = data_to_folds(X_count, 10)"
   ]
  },
  {
   "cell_type": "code",
   "execution_count": 69,
   "metadata": {
    "collapsed": true
   },
   "outputs": [],
   "source": [
    "# Partition data to train and test sets\n",
    "# return list train data, list of test data\n",
    "def split_folds(folds, i):\n",
    "  train = folds[:i] + folds[i+1:]\n",
    "  train = [x for data in train for x in data] # Flatten\n",
    "  train = scipy.sparse.vstack((train))\n",
    "  test = scipy.sparse.vstack(folds[i])\n",
    "  \n",
    "  return train, test"
   ]
  },
  {
   "cell_type": "code",
   "execution_count": 224,
   "metadata": {
    "collapsed": true
   },
   "outputs": [],
   "source": [
    "X_count_train, X_count_test = split_folds(folds, 9)"
   ]
  },
  {
   "cell_type": "code",
   "execution_count": 237,
   "metadata": {
    "collapsed": true
   },
   "outputs": [],
   "source": [
    "num_topics = 10"
   ]
  },
  {
   "cell_type": "code",
   "execution_count": 238,
   "metadata": {
    "collapsed": false
   },
   "outputs": [],
   "source": [
    "lda_model = LdaVowpalWabbit('/usr/local/Cellar/vowpal-wabbit/8.1.1/bin/vw',\n",
    "                     corpus=matutils.Sparse2Corpus(X_count_train.T),\n",
    "                     num_topics=num_topics,\n",
    "                     alpha=(1/num_topics),\n",
    "                     eta=(1/num_topics),\n",
    "                     passes=50,\n",
    "                     id2word=dict([(i, s) for i, s in enumerate(vocab)]))\n",
    "\n",
    "# alpha=0.1 eta=0.01 http://www.cs.princeton.edu/~blei/papers/HoffmanBleiBach2010b.pdf"
   ]
  },
  {
   "cell_type": "code",
   "execution_count": 239,
   "metadata": {
    "collapsed": false
   },
   "outputs": [
    {
     "name": "stdout",
     "output_type": "stream",
     "text": [
      "-8.258062\n",
      "-8.605109\n",
      "3858.60886565\n",
      "5459.48094936\n"
     ]
    }
   ],
   "source": [
    "train_log_prep_gensim = lda_model.log_perplexity(matutils.Sparse2Corpus(X_count_train.T))\n",
    "test_log_prep_gensim = lda_model.log_perplexity(matutils.Sparse2Corpus(X_count_test.T))\n",
    "print(train_log_prep_gensim)\n",
    "print(test_log_prep_gensim)\n",
    "print(np.exp(-train_log_prep_gensim))\n",
    "print(np.exp(-test_log_prep_gensim))"
   ]
  },
  {
   "cell_type": "code",
   "execution_count": 116,
   "metadata": {
    "collapsed": true
   },
   "outputs": [],
   "source": [
    "lda_model.save('tmp/gvw_lda_' + str(num_topics) + '_100_k_k')"
   ]
  },
  {
   "cell_type": "code",
   "execution_count": 96,
   "metadata": {
    "collapsed": false
   },
   "outputs": [],
   "source": [
    "lda_model = LdaVowpalWabbit.load('tmp/gensim_lda_' + str(num_topics) + '_100_k_k')"
   ]
  },
  {
   "cell_type": "code",
   "execution_count": 40,
   "metadata": {
    "collapsed": false
   },
   "outputs": [
    {
     "name": "stdout",
     "output_type": "stream",
     "text": [
      "8213\n"
     ]
    }
   ],
   "source": [
    "doc_topic_prob_mat = lda_model[matutils.Sparse2Corpus(X_count.T)]\n",
    "print(len(doc_topic_prob_mat))"
   ]
  },
  {
   "cell_type": "code",
   "execution_count": 41,
   "metadata": {
    "collapsed": false
   },
   "outputs": [
    {
     "name": "stdout",
     "output_type": "stream",
     "text": [
      "0.9998782418117619\r\n"
     ]
    }
   ],
   "source": [
    "for i, mat in enumerate(doc_topic_prob_mat):\n",
    "    clear_output(wait=True)\n",
    "    print('{0}\\r'.format(i/len(doc_topic_prob_mat)))\n",
    "    max_prob = max(mat, key=lambda x: x[1])\n",
    "    reduced_docs[reduced_token_keys[i]]['lda'] = max_prob[0]\n",
    "    reduced_docs[reduced_token_keys[i]]['lda_value'] = max_prob[1]\n",
    "    reduced_docs[reduced_token_keys[i]]['lda_vector'] = mat"
   ]
  },
  {
   "cell_type": "code",
   "execution_count": 120,
   "metadata": {
    "collapsed": false
   },
   "outputs": [],
   "source": [
    "pickle.dump(reduced_docs, open('tmp/docs_lda_' + str(num_topics) + '_100.pickle', 'wb'))"
   ]
  },
  {
   "cell_type": "code",
   "execution_count": 95,
   "metadata": {
    "collapsed": false
   },
   "outputs": [
    {
     "ename": "FileNotFoundError",
     "evalue": "[Errno 2] No such file or directory: 'tmp/docs_lda_139_100_k_k.pickle'",
     "output_type": "error",
     "traceback": [
      "\u001b[0;31m---------------------------------------------------------------------------\u001b[0m",
      "\u001b[0;31mFileNotFoundError\u001b[0m                         Traceback (most recent call last)",
      "\u001b[0;32m<ipython-input-95-3742cc7e4d25>\u001b[0m in \u001b[0;36m<module>\u001b[0;34m()\u001b[0m\n\u001b[0;32m----> 1\u001b[0;31m \u001b[0mreduced_docs\u001b[0m \u001b[0;34m=\u001b[0m \u001b[0mpickle\u001b[0m\u001b[0;34m.\u001b[0m\u001b[0mload\u001b[0m\u001b[0;34m(\u001b[0m\u001b[0mopen\u001b[0m\u001b[0;34m(\u001b[0m\u001b[0;34m'tmp/docs_lda_'\u001b[0m \u001b[0;34m+\u001b[0m \u001b[0mstr\u001b[0m\u001b[0;34m(\u001b[0m\u001b[0mnum_topics\u001b[0m\u001b[0;34m)\u001b[0m \u001b[0;34m+\u001b[0m \u001b[0;34m'_100_k_k.pickle'\u001b[0m\u001b[0;34m,\u001b[0m \u001b[0;34m'rb'\u001b[0m\u001b[0;34m)\u001b[0m\u001b[0;34m)\u001b[0m\u001b[0;34m\u001b[0m\u001b[0m\n\u001b[0m",
      "\u001b[0;31mFileNotFoundError\u001b[0m: [Errno 2] No such file or directory: 'tmp/docs_lda_139_100_k_k.pickle'"
     ]
    }
   ],
   "source": [
    "reduced_docs = pickle.load(open('tmp/docs_lda_' + str(num_topics) + '_100_k_k.pickle', 'rb'))"
   ]
  },
  {
   "cell_type": "code",
   "execution_count": 49,
   "metadata": {
    "collapsed": false
   },
   "outputs": [],
   "source": [
    "lda_items = sorted(reduced_docs.items(), key=lambda x: x[1]['lda'])\n",
    "lda_topics, lda_keys = lda_to_topics(lda_items, 0.0)"
   ]
  },
  {
   "cell_type": "code",
   "execution_count": 50,
   "metadata": {
    "collapsed": false
   },
   "outputs": [
    {
     "data": {
      "text/plain": [
       "8213"
      ]
     },
     "execution_count": 50,
     "metadata": {},
     "output_type": "execute_result"
    }
   ],
   "source": [
    "len(lda_items)"
   ]
  },
  {
   "cell_type": "code",
   "execution_count": 114,
   "metadata": {
    "collapsed": false
   },
   "outputs": [],
   "source": [
    "def lda_to_size_chart(lda_topics):\n",
    "    print(len(lda_topics.keys()))\n",
    "\n",
    "    x_data = []\n",
    "    y_data = []\n",
    "    for key, value in lda_topics.items():\n",
    "        x_data.append(key)\n",
    "        y_data.append(len(value))\n",
    "\n",
    "    ind = np.arange(0, len(y_data) * 2, 2)\n",
    "    fig = plt.figure(figsize=(40,10))\n",
    "    plt.bar(ind, y_data)\n",
    "    plt.xticks(ind, x_data)\n",
    "    plt.title(\"Topic Document Distribution - LDA\")\n",
    "    plt.xlabel(\"Topic\")\n",
    "    plt.ylabel(\"Frequency\")\n",
    "    plt.tight_layout()\n",
    "    fig.savefig('tmp/size_chart_lda.png')\n",
    "    plt.show()"
   ]
  },
  {
   "cell_type": "code",
   "execution_count": 56,
   "metadata": {
    "collapsed": false
   },
   "outputs": [
    {
     "name": "stdout",
     "output_type": "stream",
     "text": [
      "75\n"
     ]
    },
    {
     "data": {
      "image/png": "[encoded data removed]",
      "text/plain": [
       "<matplotlib.figure.Figure at 0x10ceedb00>"
      ]
     },
     "metadata": {},
     "output_type": "display_data"
    }
   ],
   "source": [
    "lda_to_size_chart({k: v for k, v in lda_topics.items()})"
   ]
  },
  {
   "cell_type": "code",
   "execution_count": 52,
   "metadata": {
    "collapsed": false
   },
   "outputs": [],
   "source": [
    "lda_tfidf_topics = {}\n",
    "\n",
    "for k, vs in lda_topics.items():\n",
    "    lda_tfidf_topics[k] = []\n",
    "    for v in vs:\n",
    "        lda_tfidf_topics[k].append(reduced_docs[v]['tfidf'])"
   ]
  },
  {
   "cell_type": "code",
   "execution_count": 53,
   "metadata": {
    "collapsed": false
   },
   "outputs": [],
   "source": [
    "lda_labels_true = {}\n",
    "\n",
    "for k, vs in lda_topics.items():\n",
    "    lda_labels_true[k] = []\n",
    "    for v in vs:\n",
    "        lda_labels_true[k].append(reduced_docs[v]['section_id'])"
   ]
  },
  {
   "cell_type": "code",
   "execution_count": 54,
   "metadata": {
    "collapsed": false,
    "scrolled": true
   },
   "outputs": [
    {
     "name": "stdout",
     "output_type": "stream",
     "text": [
      "Overall Similarity 0.424\n",
      "Inter Cluster 0.078\n",
      "Purity 0.348\n",
      "Entropy 0.661\n"
     ]
    }
   ],
   "source": [
    "print(\"Overall Similarity {0:.3f}\".format(intra_cluster_overall_similarity(lda_tfidf_topics)))\n",
    "print(\"Inter Cluster {0:.3f}\".format(inter_cluster_overall_similarity(lda_tfidf_topics)))"
   ]
  },
  {
   "cell_type": "code",
   "execution_count": 114,
   "metadata": {
    "collapsed": false
   },
   "outputs": [
    {
     "name": "stdout",
     "output_type": "stream",
     "text": [
      "Intra\n",
      "0.065,0.114,0.127,0.170,0.197,0.257,0.335,0.403,0.403,0.403,0.403,0.403,0.403,\n",
      "Inter\n",
      "0.453,0.296,0.233,0.178,0.145,0.119,0.098,0.085,0.085,0.085,0.085,0.085,0.085,\n",
      "Purity\n",
      "0.278,0.320,0.329,0.334,0.336,0.337,0.338,0.339,0.339,0.339,0.339,0.339,0.339,\n",
      "Entropy\n",
      "0.676,0.657,0.658,0.657,0.659,0.659,0.658,0.657,0.657,0.657,0.657,0.657,0.657,"
     ]
    }
   ],
   "source": [
    "print(\"Intra\")\n",
    "for i in np.arange(10,140,10):\n",
    "    print(\"{0:.3f}\".format(intra_cluster_overall_similarity({k: v for k, v in lda_tfidf_topics.items() if k <= i})), end=\",\")\n",
    "\n",
    "print(\"\\nInter\")\n",
    "for i in np.arange(10,140,10):\n",
    "    print(\"{0:.3f}\".format(inter_cluster_overall_similarity({k: v for k, v in lda_tfidf_topics.items() if k <= i})), end=\",\")"
   ]
  },
  {
   "cell_type": "markdown",
   "metadata": {},
   "source": [
    "# LDA Topic Words"
   ]
  },
  {
   "cell_type": "code",
   "execution_count": 99,
   "metadata": {
    "collapsed": true
   },
   "outputs": [],
   "source": [
    "from gensim import matutils\n",
    "from gensim.models.ldamodel import LdaModel\n",
    "from gensim.models.wrappers import LdaVowpalWabbit\n",
    "from gensim.utils import simple_preprocess\n",
    "from gensim.parsing.preprocessing import STOPWORDS\n",
    "from gensim.corpora import Dictionary"
   ]
  },
  {
   "cell_type": "code",
   "execution_count": null,
   "metadata": {
    "collapsed": true
   },
   "outputs": [],
   "source": [
    "from sklearn.feature_extraction.text import CountVectorizer\n",
    "\n",
    "print(\"Processing Count\")\n",
    "\n",
    "vectorizer = CountVectorizer(tokenizer=tokenize, stop_words='english')\n",
    "X_count = vectorizer.fit_transform(token_values)\n",
    "vocab = vectorizer.get_feature_names()\n",
    "\n",
    "print(X_count.shape)"
   ]
  },
  {
   "cell_type": "code",
   "execution_count": 102,
   "metadata": {
    "collapsed": false
   },
   "outputs": [
    {
     "name": "stdout",
     "output_type": "stream",
     "text": [
      "(9095, 69281)\n"
     ]
    }
   ],
   "source": [
    "X_count = pickle.load(open('tmp/X_count.pickle', 'rb'))\n",
    "\n",
    "print(X_count.shape)"
   ]
  },
  {
   "cell_type": "code",
   "execution_count": 103,
   "metadata": {
    "collapsed": false
   },
   "outputs": [
    {
     "data": {
      "text/plain": [
       "69281"
      ]
     },
     "execution_count": 103,
     "metadata": {},
     "output_type": "execute_result"
    }
   ],
   "source": [
    "vocab = pickle.load(open('tmp/vocab.pickle', 'rb'))\n",
    "len(vocab)"
   ]
  },
  {
   "cell_type": "code",
   "execution_count": 104,
   "metadata": {
    "collapsed": true
   },
   "outputs": [],
   "source": [
    "num_topics = 139"
   ]
  },
  {
   "cell_type": "code",
   "execution_count": 105,
   "metadata": {
    "collapsed": false
   },
   "outputs": [],
   "source": [
    "lda_model = LdaVowpalWabbit('/usr/local/Cellar/vowpal-wabbit/8.1.1/bin/vw',\n",
    "                     corpus=matutils.Sparse2Corpus(X_count.T),\n",
    "                     num_topics=num_topics,\n",
    "                     alpha=(1/num_topics),\n",
    "                     eta=(1/num_topics),\n",
    "                     passes=100,\n",
    "                     id2word=dict([(i, s) for i, s in enumerate(vocab)]))"
   ]
  },
  {
   "cell_type": "code",
   "execution_count": 106,
   "metadata": {
    "collapsed": true
   },
   "outputs": [],
   "source": [
    "lda_model.save('tmp/gensim_lda_' + str(num_topics) + '_100_k_k_s_full')"
   ]
  },
  {
   "cell_type": "markdown",
   "metadata": {},
   "source": [
    "## Load LDA"
   ]
  },
  {
   "cell_type": "code",
   "execution_count": 48,
   "metadata": {
    "collapsed": false
   },
   "outputs": [],
   "source": [
    "lda_model = LdaVowpalWabbit.load('tmp/gensim_lda_40_100_k_k')"
   ]
  },
  {
   "cell_type": "code",
   "execution_count": 107,
   "metadata": {
    "collapsed": false
   },
   "outputs": [
    {
     "name": "stdout",
     "output_type": "stream",
     "text": [
      "9095\n"
     ]
    }
   ],
   "source": [
    "doc_topic_prob_mat = lda_model[matutils.Sparse2Corpus(X_count.T)]\n",
    "print(len(doc_topic_prob_mat))"
   ]
  },
  {
   "cell_type": "code",
   "execution_count": 109,
   "metadata": {
    "collapsed": false
   },
   "outputs": [
    {
     "name": "stdout",
     "output_type": "stream",
     "text": [
      "0.999890049477735\r\n"
     ]
    }
   ],
   "source": [
    "for i, mat in enumerate(doc_topic_prob_mat):\n",
    "    clear_output(wait=True)\n",
    "    print('{0}\\r'.format(i/len(doc_topic_prob_mat)))\n",
    "    max_prob = max(mat, key=lambda x: x[1])\n",
    "    docs[token_keys[i]]['lda'] = max_prob[0]\n",
    "    docs[token_keys[i]]['lda_value'] = max_prob[1]\n",
    "    docs[token_keys[i]]['lda_vector'] = mat"
   ]
  },
  {
   "cell_type": "code",
   "execution_count": 110,
   "metadata": {
    "collapsed": false
   },
   "outputs": [],
   "source": [
    "lda_items = sorted(docs.items(), key=lambda x: x[1]['lda'])"
   ]
  },
  {
   "cell_type": "code",
   "execution_count": 308,
   "metadata": {
    "collapsed": false
   },
   "outputs": [],
   "source": [
    "with open('tmp/lda_docs.txt', 'w+') as file:\n",
    "    for item in lda_items:\n",
    "        file.write(\"Topic:{} File:{} Title:{}\\n\".format(item[1]['lda'], item[0], item[1]['webTitle']))"
   ]
  },
  {
   "cell_type": "markdown",
   "metadata": {},
   "source": [
    "# LDA Size Chart"
   ]
  },
  {
   "cell_type": "code",
   "execution_count": 111,
   "metadata": {
    "collapsed": false
   },
   "outputs": [],
   "source": [
    "lda_items = sorted(docs.items(), key=lambda x: x[1]['lda'])\n",
    "lda_topics, lda_keys = lda_to_topics(lda_items, 0.0)"
   ]
  },
  {
   "cell_type": "code",
   "execution_count": 112,
   "metadata": {
    "collapsed": false
   },
   "outputs": [
    {
     "data": {
      "text/plain": [
       "dict_keys(['guardianId', 'webUrl', 'lda_topic', 'sectionId', 'tags', 'mod_topic', 'section_id', 'webPublicationDate', 'body', 'lda_value', 'text', 'apiUrl', 'tfidf', 'lda_vector', 'keyword', 'id', 'top_tfidf', 'lda', 'authors', 'webTitle'])"
      ]
     },
     "execution_count": 112,
     "metadata": {},
     "output_type": "execute_result"
    }
   ],
   "source": [
    "for key, value in lda_topics.items():\n",
    "    for v in value:\n",
    "        docs[v]['lda_topic'] = key\n",
    "docs['2016-05-20-284'].keys()"
   ]
  },
  {
   "cell_type": "code",
   "execution_count": 115,
   "metadata": {
    "collapsed": false
   },
   "outputs": [
    {
     "name": "stdout",
     "output_type": "stream",
     "text": [
      "80\n"
     ]
    },
    {
     "data": {
      "image/png": "[encoded data removed]",
      "text/plain": [
       "<matplotlib.figure.Figure at 0x11b649470>"
      ]
     },
     "metadata": {},
     "output_type": "display_data"
    }
   ],
   "source": [
    "lda_to_size_chart({k: v for k, v in lda_topics.items()})"
   ]
  },
  {
   "cell_type": "code",
   "execution_count": 116,
   "metadata": {
    "collapsed": false,
    "scrolled": true
   },
   "outputs": [
    {
     "ename": "NameError",
     "evalue": "name 'topics_to_prob_dist' is not defined",
     "output_type": "error",
     "traceback": [
      "\u001b[0;31m---------------------------------------------------------------------------\u001b[0m",
      "\u001b[0;31mNameError\u001b[0m                                 Traceback (most recent call last)",
      "\u001b[0;32m<ipython-input-116-222864315d4e>\u001b[0m in \u001b[0;36m<module>\u001b[0;34m()\u001b[0m\n\u001b[0;32m----> 1\u001b[0;31m \u001b[0mtopics_to_prob_dist\u001b[0m\u001b[0;34m(\u001b[0m\u001b[0mlda_topics\u001b[0m\u001b[0;34m)\u001b[0m\u001b[0;34m\u001b[0m\u001b[0m\n\u001b[0m",
      "\u001b[0;31mNameError\u001b[0m: name 'topics_to_prob_dist' is not defined"
     ]
    }
   ],
   "source": [
    "topics_to_prob_dist(lda_topics)"
   ]
  },
  {
   "cell_type": "code",
   "execution_count": 117,
   "metadata": {
    "collapsed": false
   },
   "outputs": [],
   "source": [
    "lda_tfidf_topics = {}\n",
    "\n",
    "for k, vs in lda_topics.items():\n",
    "    lda_tfidf_topics[k] = []\n",
    "    for v in vs:\n",
    "        lda_tfidf_topics[k].append(docs[v]['tfidf'])"
   ]
  },
  {
   "cell_type": "code",
   "execution_count": 118,
   "metadata": {
    "collapsed": false
   },
   "outputs": [],
   "source": [
    "lda_labels_true = {}\n",
    "\n",
    "for k, vs in lda_topics.items():\n",
    "    lda_labels_true[k] = []\n",
    "    for v in vs:\n",
    "        lda_labels_true[k].append(docs[v]['section_id'])"
   ]
  },
  {
   "cell_type": "code",
   "execution_count": 119,
   "metadata": {
    "collapsed": false,
    "scrolled": true
   },
   "outputs": [
    {
     "name": "stdout",
     "output_type": "stream",
     "text": [
      "Overall Similarity 0.219\n",
      "Weighted Similarity 0.029\n",
      "Inter Cluster 0.307\n"
     ]
    }
   ],
   "source": [
    "print(\"Overall Similarity {0:.3f}\".format(intra_cluster_overall_similarity(lda_tfidf_topics)))\n",
    "print(\"Weighted Similarity {0:.3f}\".format(intra_cluster_weighted_similarity(lda_tfidf_topics)))\n",
    "print(\"Inter Cluster {0:.3f}\".format(inter_cluster_overall_similarity(lda_tfidf_topics)))"
   ]
  },
  {
   "cell_type": "code",
   "execution_count": 207,
   "metadata": {
    "collapsed": false
   },
   "outputs": [
    {
     "name": "stdout",
     "output_type": "stream",
     "text": [
      "Intra\n",
      "0.044,0.069,0.095,0.109,0.134,\n",
      "Inter\n",
      "0.583,0.428,0.348,0.298,0.247,\n",
      "Purity\n",
      "0.228,0.277,0.298,0.302,0.304,\n",
      "Entropy\n",
      "0.738,0.713,0.705,0.708,0.710,"
     ]
    }
   ],
   "source": [
    "print(\"Intra\")\n",
    "for i in np.arange(10,51,10):\n",
    "    print(\"{0:.3f}\".format(intra_cluster_overall_similarity({k: v for k, v in lda_tfidf_topics.items() if k <= i})), end=\",\")\n",
    "\n",
    "print(\"\\nInter\")\n",
    "for i in np.arange(10,51,10):\n",
    "    print(\"{0:.3f}\".format(inter_cluster_overall_similarity({k: v for k, v in lda_tfidf_topics.items() if k <= i})), end=\",\")"
   ]
  },
  {
   "cell_type": "code",
   "execution_count": 122,
   "metadata": {
    "collapsed": false
   },
   "outputs": [
    {
     "data": {
      "text/plain": [
       "(16, 16)"
      ]
     },
     "execution_count": 122,
     "metadata": {},
     "output_type": "execute_result"
    }
   ],
   "source": [
    "sub_topics = {k: v for k, v in lda_tfidf_topics.items() if k <= 101}\n",
    "topic_centroids = cluster_centroids(sub_topics)\n",
    "matx_c = scipy.sparse.vstack((topic_centroids.values()))\n",
    "matx_c_c = cosine_similarity(matx_c)\n",
    "matx_c_c.shape"
   ]
  },
  {
   "cell_type": "code",
   "execution_count": 123,
   "metadata": {
    "collapsed": false
   },
   "outputs": [
    {
     "data": {
      "text/plain": [
       "<matplotlib.text.Text at 0x136c68d30>"
      ]
     },
     "execution_count": 123,
     "metadata": {},
     "output_type": "execute_result"
    },
    {
     "data": {
      "image/png": "[encoded data removed]",
      "text/plain": [
       "<matplotlib.figure.Figure at 0x12691d2e8>"
      ]
     },
     "metadata": {},
     "output_type": "display_data"
    }
   ],
   "source": [
    "import seaborn as sns\n",
    "\n",
    "fig, ax = plt.subplots(figsize=(10, 10))\n",
    "sns_plt = sns.heatmap(matx_c_c, cmap=plt.cm.gist_heat_r)\n",
    "sns_plt.set(xticklabels=np.arange(1,101), yticklabels=(-np.sort(-np.arange(1,101))))\n",
    "# sns_plt.invert_yaxis()\n",
    "plt.title(\"Inter-topic Similarity of LDA\")\n",
    "plt.xlabel(\"Topics\")\n",
    "plt.ylabel(\"Topics\")"
   ]
  },
  {
   "cell_type": "markdown",
   "metadata": {},
   "source": [
    "# Keywords"
   ]
  },
  {
   "cell_type": "code",
   "execution_count": 120,
   "metadata": {
    "collapsed": false
   },
   "outputs": [],
   "source": [
    "import itertools\n",
    "from collections import Counter\n",
    "\n",
    "def keywords_to_keyword_table(topics, n):\n",
    "    result = {}\n",
    "    for topic in topics:\n",
    "        keywords = []\n",
    "        for top in topic[1]:\n",
    "            keywords += list(top['feature'])\n",
    "        net_keywords = Counter(keywords)\n",
    "        net_keywords = sorted(net_keywords.items(), key=lambda x: x[1], reverse=True)\n",
    "        keywords2 = list(map(lambda x: x[0], net_keywords))\n",
    "        result[topic[0]] = (len(topic[1]), keywords2[:n])\n",
    "    return result"
   ]
  },
  {
   "cell_type": "code",
   "execution_count": 121,
   "metadata": {
    "collapsed": false
   },
   "outputs": [],
   "source": [
    "def topics_to_keywords(topics):\n",
    "    results = {}\n",
    "\n",
    "    for k, vs in topics.items():\n",
    "        results[k] = []\n",
    "        for v in vs:\n",
    "            top_df = docs[v]['top_tfidf']\n",
    "#             results[k].append(top_df[(top_df.tfidf >= 0.01)])\n",
    "            results[k].append(top_df[(top_df.tfidf >= 0.02)])\n",
    "\n",
    "    results = sorted(results.items(), key=lambda x: len(x[1]), reverse=True)\n",
    "    \n",
    "    return results"
   ]
  },
  {
   "cell_type": "code",
   "execution_count": 122,
   "metadata": {
    "collapsed": false
   },
   "outputs": [
    {
     "data": {
      "text/plain": [
       "dict_keys([1, 2, 3, 4, 5, 6, 7, 8, 9, 10, 11, 12, 13, 14, 15, 16, 17, 18, 19, 20, 21, 22, 23, 24, 25, 26, 27, 28, 29, 30, 31, 32, 33, 34, 35, 36, 37, 38, 39, 40, 41, 42, 43, 44, 45, 46, 47, 48, 49, 50, 51, 52, 53, 54, 55, 56, 57, 58, 59, 60, 61, 62, 63, 64, 65, 66, 67, 68, 69, 70, 71, 72, 73, 74, 75, 76, 77, 78, 79, 80, 81, 82, 83, 84, 85, 86, 87, 88, 89, 90, 91, 92, 93, 94, 95, 96, 97, 98, 99, 100, 101, 102, 103, 104, 105, 106, 107, 108, 109, 110, 111, 112, 113, 114, 115, 116, 117, 118, 119, 120, 121, 122, 123, 124, 125, 126, 127, 128, 129, 130, 131, 132, 133, 134, 135, 136, 137, 138, 139])"
      ]
     },
     "execution_count": 122,
     "metadata": {},
     "output_type": "execute_result"
    }
   ],
   "source": [
    "topics_matrix = lda_model.show_topics(formatted=False, num_words=10, num_topics=lda_model.num_topics)\n",
    "lda_topic_keywords = {}\n",
    "count = 1\n",
    "for topic in topics_matrix:\n",
    "    lda_topic_keywords[count] = [str(word[1]) for word in topic]\n",
    "    count += 1\n",
    "\n",
    "lda_topic_keywords.keys()"
   ]
  },
  {
   "cell_type": "code",
   "execution_count": 123,
   "metadata": {
    "collapsed": false
   },
   "outputs": [],
   "source": [
    "lda_keywords = {}\n",
    "for k, v in sorted(lda_topics.items(), key=lambda x: len(x[1]), reverse=True):\n",
    "    lda_keywords[k] = (len(v), lda_topic_keywords[k])"
   ]
  },
  {
   "cell_type": "code",
   "execution_count": 71,
   "metadata": {
    "collapsed": false
   },
   "outputs": [
    {
     "ename": "NameError",
     "evalue": "name 'net_topics' is not defined",
     "output_type": "error",
     "traceback": [
      "\u001b[0;31m---------------------------------------------------------------------------\u001b[0m",
      "\u001b[0;31mNameError\u001b[0m                                 Traceback (most recent call last)",
      "\u001b[0;32m<ipython-input-71-69c14bb44c7f>\u001b[0m in \u001b[0;36m<module>\u001b[0;34m()\u001b[0m\n\u001b[0;32m----> 1\u001b[0;31m \u001b[0mnet_keywords\u001b[0m \u001b[0;34m=\u001b[0m \u001b[0mkeywords_to_keyword_table\u001b[0m\u001b[0;34m(\u001b[0m\u001b[0mtopics_to_keywords\u001b[0m\u001b[0;34m(\u001b[0m\u001b[0mnet_topics\u001b[0m\u001b[0;34m)\u001b[0m\u001b[0;34m,\u001b[0m \u001b[0;36m10\u001b[0m\u001b[0;34m)\u001b[0m\u001b[0;34m\u001b[0m\u001b[0m\n\u001b[0m",
      "\u001b[0;31mNameError\u001b[0m: name 'net_topics' is not defined"
     ]
    }
   ],
   "source": [
    "net_keywords = keywords_to_keyword_table(topics_to_keywords(net_topics), 10)"
   ]
  },
  {
   "cell_type": "code",
   "execution_count": 102,
   "metadata": {
    "collapsed": false
   },
   "outputs": [
    {
     "ename": "NameError",
     "evalue": "name 'topics_to_tags' is not defined",
     "output_type": "error",
     "traceback": [
      "\u001b[0;31m---------------------------------------------------------------------------\u001b[0m",
      "\u001b[0;31mNameError\u001b[0m                                 Traceback (most recent call last)",
      "\u001b[0;32m<ipython-input-102-88dc50e3237d>\u001b[0m in \u001b[0;36m<module>\u001b[0;34m()\u001b[0m\n\u001b[0;32m----> 1\u001b[0;31m \u001b[0mlda_tags\u001b[0m \u001b[0;34m=\u001b[0m \u001b[0mtopics_to_tags\u001b[0m\u001b[0;34m(\u001b[0m\u001b[0mlda_topics\u001b[0m\u001b[0;34m,\u001b[0m \u001b[0;36m20\u001b[0m\u001b[0;34m)\u001b[0m\u001b[0;34m\u001b[0m\u001b[0m\n\u001b[0m\u001b[1;32m      2\u001b[0m \u001b[0mnet_tags\u001b[0m \u001b[0;34m=\u001b[0m \u001b[0mtopics_to_tags\u001b[0m\u001b[0;34m(\u001b[0m\u001b[0mnet_topics\u001b[0m\u001b[0;34m,\u001b[0m \u001b[0;36m20\u001b[0m\u001b[0;34m)\u001b[0m\u001b[0;34m\u001b[0m\u001b[0m\n",
      "\u001b[0;31mNameError\u001b[0m: name 'topics_to_tags' is not defined"
     ]
    }
   ],
   "source": [
    "lda_tags = topics_to_tags(lda_topics, 20)\n",
    "net_tags = topics_to_tags(net_topics, 20)"
   ]
  },
  {
   "cell_type": "code",
   "execution_count": 124,
   "metadata": {
    "collapsed": false
   },
   "outputs": [],
   "source": [
    "import csv\n",
    "\n",
    "lda_s_k = sorted(lda_keywords.items(), key=lambda x: x[1][0], reverse=True)\n",
    "# net_s_k = sorted(net_keywords.items(), key=lambda x: x[1][0], reverse=True)\n",
    "# lda_s_t = sorted(lda_tags.items(), key=lambda x: x[1][0], reverse=True)\n",
    "# net_s_t = sorted(net_tags.items(), key=lambda x: x[1][0], reverse=True)\n",
    "\n",
    "\n",
    "length = len(lda_s_k)\n",
    "rows = []\n",
    "for i in range(length):\n",
    "    row = [i+1]\n",
    "#     row += [ori_s_t[i][1][0], ori_s_t[i][1][1]]\n",
    "#     row += [net_s_k[i][1][0], net_s_k[i][1][1]]\n",
    "    row += [lda_s_k[i][0], lda_s_k[i][1]]\n",
    "#     row += [lda_s_k[i][1][0], net_s_k[i][1][0], lda_s_k[i][1][1], net_s_k[i][1][1], lda_s_t[i][1][1], net_s_t[i][1][1]]    \n",
    "    rows.append(row)\n",
    "\n",
    "with open('tmp/keywords.csv', 'w+') as file:    \n",
    "    for row in rows:\n",
    "        writer = csv.writer(file, delimiter=';')\n",
    "        writer.writerow(row)"
   ]
  },
  {
   "cell_type": "markdown",
   "metadata": {},
   "source": [
    "# Topic Coherence "
   ]
  },
  {
   "cell_type": "code",
   "execution_count": 29,
   "metadata": {
    "collapsed": true
   },
   "outputs": [],
   "source": [
    "from gensim.models.coherencemodel import CoherenceModel\n",
    "from gensim.models.ldamodel import LdaModel\n",
    "from gensim.corpora.dictionary import Dictionary\n",
    "from gensim.parsing.preprocessing import STOPWORDS"
   ]
  },
  {
   "cell_type": "code",
   "execution_count": 30,
   "metadata": {
    "collapsed": false
   },
   "outputs": [],
   "source": [
    "def tokenize(text):\n",
    "    tokens = [token for token in nltk.word_tokenize(text) if token not in STOPWORDS]\n",
    "    stems = []\n",
    "    for item in tokens:\n",
    "        stems.append(PorterStemmer().stem(item))\n",
    "    return stems"
   ]
  },
  {
   "cell_type": "code",
   "execution_count": 31,
   "metadata": {
    "collapsed": false
   },
   "outputs": [
    {
     "name": "stdout",
     "output_type": "stream",
     "text": [
      "9095\n"
     ]
    }
   ],
   "source": [
    "texts = []\n",
    "count = 0\n",
    "for value in token_values:\n",
    "    texts.append(tokenize(value))\n",
    "    clear_output(wait=True)\n",
    "    count += 1\n",
    "    print(count)"
   ]
  },
  {
   "cell_type": "code",
   "execution_count": 32,
   "metadata": {
    "collapsed": false
   },
   "outputs": [],
   "source": [
    "dictionary = Dictionary(texts)\n",
    "corpus = [dictionary.doc2bow(text) for text in texts]"
   ]
  },
  {
   "cell_type": "code",
   "execution_count": 39,
   "metadata": {
    "collapsed": false
   },
   "outputs": [],
   "source": [
    "topics1 = [['season','player','game','club','leagu','team','footbal','goal','manag','manchest'],\n",
    "['film','women','movi','peopl','men','girl','director','cann','woman','year'],\n",
    "['govern','children','school','refuge','peopl','educ','parent','countri','teacher','year'],\n",
    "['climat','citi','energi','compani','govern','chang','car','year','water','peopl'],\n",
    "['music','song','album','band','year','festiv','peopl','audienc','record','artist'],\n",
    "['year','market','bank','price','hous','peopl','home','compani','properti','custom'],\n",
    "['eu','brexit','referendum','britain','vote','campaign','europ','cameron','uk','johnson'],\n",
    "['health','peopl','care','servic','patient','work','govern','year','nh','hospit'],\n",
    "['labor','govern','tax','elect','turnbul','minist','campaign','coalit','polici','budget'],\n",
    "['parti','elect','labour','khan','leader','mayor','corbyn','tori','seat','mp'],\n",
    "['art','game','artist','museum','galleri','peopl','work','war','exhibit','world'],\n",
    "['busi','compani','media','competit','entri','award','categori','judg','panel','shortlist'],\n",
    "['trump','clinton','campaign','state','candid','presid','parti','sander','nomine','nomin'],\n",
    "['polic','offic','court','investig','case','forc','man','justic','report','law'],\n",
    "['book','stori','site','world','youv','bookshop','review','charact','novel','children'],\n",
    "['prison','drug','court','peopl','justic','year','case','death','law','use'],\n",
    "['bbc','broadcast','govern','corpor','tv','paper','whittingdal','licenc','charter','channel'],\n",
    "['student','univers','peopl','educ','govern','year','research','compani','scienc','school'],\n",
    "['race','hors','winner','driver','stake','trainer','derbi','hamilton','colt','time'],\n",
    "['cricket','test','england','ball','wicket','inning','lanka','bowler','match','run'],\n",
    "['pension','busi','bh','fund','committe','compani','govern','mp','acquisit','retail'],\n",
    "['stori','contribut','guardianwit','review','presid','video','photo','creation','button','pictur'],\n",
    "['garden','plant','speci','flower','wildlif','year','anim','photograph','chelsea','water'],\n",
    "['church','murray','match','djokov','tournament','tenni','player','time','garro','game'],\n",
    "['olymp','athlet','game','rio','championship','golf','sport','world','ioc','medal'],\n",
    "['food','egg','recip','oil','dish','minut','salt','cook','butter','bowl'],\n",
    "['flight','plane','passeng','egyptair','aircraft','ms804','air','airlin','bomb','airport'],\n",
    "['puzzl','gaffer','gaffa','gaff','gaelic','week','gaffigan','number','gaetano','gag'],\n",
    "['disciplin','season','sub','form','aug','kickoff','d','scorer','knee','r3'],\n",
    "['wine','vineyard','grape','sauvignon','daveydaibach','savouri','bottl','abv','blanc','loir']]"
   ]
  },
  {
   "cell_type": "code",
   "execution_count": 40,
   "metadata": {
    "collapsed": false
   },
   "outputs": [],
   "source": [
    "cm = CoherenceModel(topics=topics1, \n",
    "                    corpus=corpus, \n",
    "                    dictionary=dictionary, \n",
    "                    coherence='u_mass')"
   ]
  },
  {
   "cell_type": "code",
   "execution_count": 41,
   "metadata": {
    "collapsed": false
   },
   "outputs": [
    {
     "data": {
      "text/plain": [
       "-2.1679149976768826"
      ]
     },
     "execution_count": 41,
     "metadata": {},
     "output_type": "execute_result"
    }
   ],
   "source": [
    "cm.get_coherence()"
   ]
  },
  {
   "cell_type": "code",
   "execution_count": null,
   "metadata": {
    "collapsed": true
   },
   "outputs": [],
   "source": []
  }
 ],
 "metadata": {
  "kernelspec": {
   "display_name": "Python 3",
   "language": "python",
   "name": "python3"
  },
  "language_info": {
   "codemirror_mode": {
    "name": "ipython",
    "version": 3
   },
   "file_extension": ".py",
   "mimetype": "text/x-python",
   "name": "python",
   "nbconvert_exporter": "python",
   "pygments_lexer": "ipython3",
   "version": "3.5.0"
  }
 },
 "nbformat": 4,
 "nbformat_minor": 0
}
